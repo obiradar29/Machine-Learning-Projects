{
 "cells": [
  {
   "cell_type": "markdown",
   "id": "c8c964fe",
   "metadata": {},
   "source": [
    "# Omkar Biradar (0126)"
   ]
  },
  {
   "cell_type": "markdown",
   "id": "1f52a021",
   "metadata": {},
   "source": [
    "# Import Libraries"
   ]
  },
  {
   "cell_type": "code",
   "execution_count": 204,
   "id": "a7acc289",
   "metadata": {},
   "outputs": [],
   "source": [
    "import numpy as np\n",
    "import pandas as pd\n",
    "from sklearn.model_selection import train_test_split, RandomizedSearchCV, GridSearchCV\n",
    "from sklearn.linear_model import LogisticRegression\n",
    "from sklearn.metrics import accuracy_score, classification_report, confusion_matrix\n",
    "from sklearn.tree import DecisionTreeClassifier\n",
    "from sklearn.ensemble import RandomForestClassifier\n",
    "\n",
    "import warnings\n",
    "warnings.filterwarnings(\"ignore\")"
   ]
  },
  {
   "cell_type": "markdown",
   "id": "33a0b1a0",
   "metadata": {},
   "source": [
    "# Data Gathering"
   ]
  },
  {
   "cell_type": "code",
   "execution_count": 205,
   "id": "94b5cf3c",
   "metadata": {},
   "outputs": [
    {
     "data": {
      "text/html": [
       "<div>\n",
       "<style scoped>\n",
       "    .dataframe tbody tr th:only-of-type {\n",
       "        vertical-align: middle;\n",
       "    }\n",
       "\n",
       "    .dataframe tbody tr th {\n",
       "        vertical-align: top;\n",
       "    }\n",
       "\n",
       "    .dataframe thead th {\n",
       "        text-align: right;\n",
       "    }\n",
       "</style>\n",
       "<table border=\"1\" class=\"dataframe\">\n",
       "  <thead>\n",
       "    <tr style=\"text-align: right;\">\n",
       "      <th></th>\n",
       "      <th>Suburb</th>\n",
       "      <th>Address</th>\n",
       "      <th>Rooms</th>\n",
       "      <th>Type</th>\n",
       "      <th>Method</th>\n",
       "      <th>SellerG</th>\n",
       "      <th>Date</th>\n",
       "      <th>Distance</th>\n",
       "      <th>Postcode</th>\n",
       "      <th>Bedroom</th>\n",
       "      <th>...</th>\n",
       "      <th>Landsize</th>\n",
       "      <th>BuildingArea</th>\n",
       "      <th>YearBuilt</th>\n",
       "      <th>CouncilArea</th>\n",
       "      <th>Latitude</th>\n",
       "      <th>Longtitude</th>\n",
       "      <th>Regionname</th>\n",
       "      <th>Propertycount</th>\n",
       "      <th>ParkingArea</th>\n",
       "      <th>Price</th>\n",
       "    </tr>\n",
       "  </thead>\n",
       "  <tbody>\n",
       "    <tr>\n",
       "      <th>0</th>\n",
       "      <td>Abbotsford</td>\n",
       "      <td>68 Studley St</td>\n",
       "      <td>2</td>\n",
       "      <td>h</td>\n",
       "      <td>SS</td>\n",
       "      <td>Jellis</td>\n",
       "      <td>3/9/2016</td>\n",
       "      <td>2.5</td>\n",
       "      <td>3067.0</td>\n",
       "      <td>2.0</td>\n",
       "      <td>...</td>\n",
       "      <td>126.0</td>\n",
       "      <td>inf</td>\n",
       "      <td>NaN</td>\n",
       "      <td>Yarra City Council</td>\n",
       "      <td>-37.80140</td>\n",
       "      <td>144.99580</td>\n",
       "      <td>Northern Metropolitan</td>\n",
       "      <td>4019.0</td>\n",
       "      <td>Carport</td>\n",
       "      <td>NaN</td>\n",
       "    </tr>\n",
       "    <tr>\n",
       "      <th>1</th>\n",
       "      <td>Airport West</td>\n",
       "      <td>154 Halsey Rd</td>\n",
       "      <td>3</td>\n",
       "      <td>t</td>\n",
       "      <td>PI</td>\n",
       "      <td>Nelson</td>\n",
       "      <td>3/9/2016</td>\n",
       "      <td>13.5</td>\n",
       "      <td>3042.0</td>\n",
       "      <td>3.0</td>\n",
       "      <td>...</td>\n",
       "      <td>303.0</td>\n",
       "      <td>225</td>\n",
       "      <td>2016.0</td>\n",
       "      <td>Moonee Valley City Council</td>\n",
       "      <td>-37.71800</td>\n",
       "      <td>144.87800</td>\n",
       "      <td>Western Metropolitan</td>\n",
       "      <td>3464.0</td>\n",
       "      <td>Detached Garage</td>\n",
       "      <td>840000.0</td>\n",
       "    </tr>\n",
       "    <tr>\n",
       "      <th>2</th>\n",
       "      <td>Albert Park</td>\n",
       "      <td>105 Kerferd Rd</td>\n",
       "      <td>2</td>\n",
       "      <td>h</td>\n",
       "      <td>S</td>\n",
       "      <td>hockingstuart</td>\n",
       "      <td>3/9/2016</td>\n",
       "      <td>3.3</td>\n",
       "      <td>3206.0</td>\n",
       "      <td>2.0</td>\n",
       "      <td>...</td>\n",
       "      <td>120.0</td>\n",
       "      <td>82</td>\n",
       "      <td>1900.0</td>\n",
       "      <td>Port Phillip City Council</td>\n",
       "      <td>-37.84590</td>\n",
       "      <td>144.95550</td>\n",
       "      <td>Southern Metropolitan</td>\n",
       "      <td>3280.0</td>\n",
       "      <td>Attached Garage</td>\n",
       "      <td>1275000.0</td>\n",
       "    </tr>\n",
       "    <tr>\n",
       "      <th>3</th>\n",
       "      <td>Albert Park</td>\n",
       "      <td>85 Richardson St</td>\n",
       "      <td>2</td>\n",
       "      <td>h</td>\n",
       "      <td>S</td>\n",
       "      <td>Thomson</td>\n",
       "      <td>3/9/2016</td>\n",
       "      <td>3.3</td>\n",
       "      <td>3206.0</td>\n",
       "      <td>2.0</td>\n",
       "      <td>...</td>\n",
       "      <td>159.0</td>\n",
       "      <td>inf</td>\n",
       "      <td>NaN</td>\n",
       "      <td>Port Phillip City Council</td>\n",
       "      <td>-37.84500</td>\n",
       "      <td>144.95380</td>\n",
       "      <td>Southern Metropolitan</td>\n",
       "      <td>3280.0</td>\n",
       "      <td>Indoor</td>\n",
       "      <td>1455000.0</td>\n",
       "    </tr>\n",
       "    <tr>\n",
       "      <th>4</th>\n",
       "      <td>Alphington</td>\n",
       "      <td>30 Austin St</td>\n",
       "      <td>3</td>\n",
       "      <td>h</td>\n",
       "      <td>SN</td>\n",
       "      <td>McGrath</td>\n",
       "      <td>3/9/2016</td>\n",
       "      <td>6.4</td>\n",
       "      <td>3078.0</td>\n",
       "      <td>3.0</td>\n",
       "      <td>...</td>\n",
       "      <td>174.0</td>\n",
       "      <td>122</td>\n",
       "      <td>2003.0</td>\n",
       "      <td>Darebin City Council</td>\n",
       "      <td>-37.78180</td>\n",
       "      <td>145.01980</td>\n",
       "      <td>Northern Metropolitan</td>\n",
       "      <td>2211.0</td>\n",
       "      <td>Parkade</td>\n",
       "      <td>NaN</td>\n",
       "    </tr>\n",
       "    <tr>\n",
       "      <th>...</th>\n",
       "      <td>...</td>\n",
       "      <td>...</td>\n",
       "      <td>...</td>\n",
       "      <td>...</td>\n",
       "      <td>...</td>\n",
       "      <td>...</td>\n",
       "      <td>...</td>\n",
       "      <td>...</td>\n",
       "      <td>...</td>\n",
       "      <td>...</td>\n",
       "      <td>...</td>\n",
       "      <td>...</td>\n",
       "      <td>...</td>\n",
       "      <td>...</td>\n",
       "      <td>...</td>\n",
       "      <td>...</td>\n",
       "      <td>...</td>\n",
       "      <td>...</td>\n",
       "      <td>...</td>\n",
       "      <td>...</td>\n",
       "      <td>...</td>\n",
       "    </tr>\n",
       "    <tr>\n",
       "      <th>34852</th>\n",
       "      <td>Reservoir</td>\n",
       "      <td>18 Elinda Pl</td>\n",
       "      <td>3</td>\n",
       "      <td>u</td>\n",
       "      <td>SP</td>\n",
       "      <td>RW</td>\n",
       "      <td>30/09/2017</td>\n",
       "      <td>12.0</td>\n",
       "      <td>3073.0</td>\n",
       "      <td>3.0</td>\n",
       "      <td>...</td>\n",
       "      <td>NaN</td>\n",
       "      <td>105.0</td>\n",
       "      <td>1990.0</td>\n",
       "      <td>Darebin City Council</td>\n",
       "      <td>-37.69769</td>\n",
       "      <td>145.02332</td>\n",
       "      <td>Northern Metropolitan</td>\n",
       "      <td>21650.0</td>\n",
       "      <td>Parkade</td>\n",
       "      <td>475000.0</td>\n",
       "    </tr>\n",
       "    <tr>\n",
       "      <th>34853</th>\n",
       "      <td>Roxburgh Park</td>\n",
       "      <td>14 Stainsby Cr</td>\n",
       "      <td>4</td>\n",
       "      <td>h</td>\n",
       "      <td>S</td>\n",
       "      <td>Raine</td>\n",
       "      <td>30/09/2017</td>\n",
       "      <td>20.6</td>\n",
       "      <td>3064.0</td>\n",
       "      <td>4.0</td>\n",
       "      <td>...</td>\n",
       "      <td>NaN</td>\n",
       "      <td>225.0</td>\n",
       "      <td>1995.0</td>\n",
       "      <td>Hume City Council</td>\n",
       "      <td>-37.63665</td>\n",
       "      <td>144.92976</td>\n",
       "      <td>Northern Metropolitan</td>\n",
       "      <td>5833.0</td>\n",
       "      <td>Underground</td>\n",
       "      <td>591000.0</td>\n",
       "    </tr>\n",
       "    <tr>\n",
       "      <th>34854</th>\n",
       "      <td>Springvale South</td>\n",
       "      <td>8 Bellbird Ct</td>\n",
       "      <td>4</td>\n",
       "      <td>h</td>\n",
       "      <td>PI</td>\n",
       "      <td>Barry</td>\n",
       "      <td>30/09/2017</td>\n",
       "      <td>22.2</td>\n",
       "      <td>3172.0</td>\n",
       "      <td>4.0</td>\n",
       "      <td>...</td>\n",
       "      <td>534.0</td>\n",
       "      <td>152.0</td>\n",
       "      <td>1970.0</td>\n",
       "      <td>Greater Dandenong City Council</td>\n",
       "      <td>-37.97037</td>\n",
       "      <td>145.15449</td>\n",
       "      <td>South-Eastern Metropolitan</td>\n",
       "      <td>4054.0</td>\n",
       "      <td>Carport</td>\n",
       "      <td>NaN</td>\n",
       "    </tr>\n",
       "    <tr>\n",
       "      <th>34855</th>\n",
       "      <td>Springvale South</td>\n",
       "      <td>30 Waddington Cr</td>\n",
       "      <td>3</td>\n",
       "      <td>h</td>\n",
       "      <td>S</td>\n",
       "      <td>Harcourts</td>\n",
       "      <td>30/09/2017</td>\n",
       "      <td>22.2</td>\n",
       "      <td>3172.0</td>\n",
       "      <td>3.0</td>\n",
       "      <td>...</td>\n",
       "      <td>544.0</td>\n",
       "      <td>NaN</td>\n",
       "      <td>NaN</td>\n",
       "      <td>Greater Dandenong City Council</td>\n",
       "      <td>-37.97751</td>\n",
       "      <td>145.14813</td>\n",
       "      <td>South-Eastern Metropolitan</td>\n",
       "      <td>4054.0</td>\n",
       "      <td>Detached Garage</td>\n",
       "      <td>780500.0</td>\n",
       "    </tr>\n",
       "    <tr>\n",
       "      <th>34856</th>\n",
       "      <td>Westmeadows</td>\n",
       "      <td>42 Pascoe St</td>\n",
       "      <td>4</td>\n",
       "      <td>h</td>\n",
       "      <td>S</td>\n",
       "      <td>Barry</td>\n",
       "      <td>30/09/2017</td>\n",
       "      <td>16.5</td>\n",
       "      <td>3049.0</td>\n",
       "      <td>4.0</td>\n",
       "      <td>...</td>\n",
       "      <td>813.0</td>\n",
       "      <td>140.0</td>\n",
       "      <td>1960.0</td>\n",
       "      <td>Hume City Council</td>\n",
       "      <td>-37.67631</td>\n",
       "      <td>144.89409</td>\n",
       "      <td>Northern Metropolitan</td>\n",
       "      <td>2474.0</td>\n",
       "      <td>Attached Garage</td>\n",
       "      <td>791000.0</td>\n",
       "    </tr>\n",
       "  </tbody>\n",
       "</table>\n",
       "<p>34857 rows × 22 columns</p>\n",
       "</div>"
      ],
      "text/plain": [
       "                 Suburb           Address  Rooms Type Method        SellerG  \\\n",
       "0            Abbotsford     68 Studley St      2    h     SS         Jellis   \n",
       "1          Airport West     154 Halsey Rd      3    t     PI         Nelson   \n",
       "2           Albert Park    105 Kerferd Rd      2    h      S  hockingstuart   \n",
       "3           Albert Park  85 Richardson St      2    h      S        Thomson   \n",
       "4            Alphington      30 Austin St      3    h     SN        McGrath   \n",
       "...                 ...               ...    ...  ...    ...            ...   \n",
       "34852         Reservoir      18 Elinda Pl      3    u     SP             RW   \n",
       "34853     Roxburgh Park    14 Stainsby Cr      4    h      S          Raine   \n",
       "34854  Springvale South     8 Bellbird Ct      4    h     PI          Barry   \n",
       "34855  Springvale South  30 Waddington Cr      3    h      S      Harcourts   \n",
       "34856       Westmeadows      42 Pascoe St      4    h      S          Barry   \n",
       "\n",
       "             Date  Distance  Postcode  Bedroom  ...  Landsize  BuildingArea  \\\n",
       "0        3/9/2016       2.5    3067.0      2.0  ...     126.0           inf   \n",
       "1        3/9/2016      13.5    3042.0      3.0  ...     303.0           225   \n",
       "2        3/9/2016       3.3    3206.0      2.0  ...     120.0            82   \n",
       "3        3/9/2016       3.3    3206.0      2.0  ...     159.0           inf   \n",
       "4        3/9/2016       6.4    3078.0      3.0  ...     174.0           122   \n",
       "...           ...       ...       ...      ...  ...       ...           ...   \n",
       "34852  30/09/2017      12.0    3073.0      3.0  ...       NaN         105.0   \n",
       "34853  30/09/2017      20.6    3064.0      4.0  ...       NaN         225.0   \n",
       "34854  30/09/2017      22.2    3172.0      4.0  ...     534.0         152.0   \n",
       "34855  30/09/2017      22.2    3172.0      3.0  ...     544.0           NaN   \n",
       "34856  30/09/2017      16.5    3049.0      4.0  ...     813.0         140.0   \n",
       "\n",
       "       YearBuilt                     CouncilArea  Latitude Longtitude  \\\n",
       "0            NaN              Yarra City Council -37.80140  144.99580   \n",
       "1         2016.0      Moonee Valley City Council -37.71800  144.87800   \n",
       "2         1900.0       Port Phillip City Council -37.84590  144.95550   \n",
       "3            NaN       Port Phillip City Council -37.84500  144.95380   \n",
       "4         2003.0            Darebin City Council -37.78180  145.01980   \n",
       "...          ...                             ...       ...        ...   \n",
       "34852     1990.0            Darebin City Council -37.69769  145.02332   \n",
       "34853     1995.0               Hume City Council -37.63665  144.92976   \n",
       "34854     1970.0  Greater Dandenong City Council -37.97037  145.15449   \n",
       "34855        NaN  Greater Dandenong City Council -37.97751  145.14813   \n",
       "34856     1960.0               Hume City Council -37.67631  144.89409   \n",
       "\n",
       "                       Regionname  Propertycount      ParkingArea      Price  \n",
       "0           Northern Metropolitan         4019.0          Carport        NaN  \n",
       "1            Western Metropolitan         3464.0  Detached Garage   840000.0  \n",
       "2           Southern Metropolitan         3280.0  Attached Garage  1275000.0  \n",
       "3           Southern Metropolitan         3280.0           Indoor  1455000.0  \n",
       "4           Northern Metropolitan         2211.0          Parkade        NaN  \n",
       "...                           ...            ...              ...        ...  \n",
       "34852       Northern Metropolitan        21650.0          Parkade   475000.0  \n",
       "34853       Northern Metropolitan         5833.0      Underground   591000.0  \n",
       "34854  South-Eastern Metropolitan         4054.0          Carport        NaN  \n",
       "34855  South-Eastern Metropolitan         4054.0  Detached Garage   780500.0  \n",
       "34856       Northern Metropolitan         2474.0  Attached Garage   791000.0  \n",
       "\n",
       "[34857 rows x 22 columns]"
      ]
     },
     "execution_count": 205,
     "metadata": {},
     "output_type": "execute_result"
    }
   ],
   "source": [
    "df = pd.read_csv(\"Melbourne_housing_FULL.csv\")\n",
    "df"
   ]
  },
  {
   "cell_type": "code",
   "execution_count": 206,
   "id": "21378f3e",
   "metadata": {},
   "outputs": [
    {
     "data": {
      "text/plain": [
       "(34857, 22)"
      ]
     },
     "execution_count": 206,
     "metadata": {},
     "output_type": "execute_result"
    }
   ],
   "source": [
    "df.shape"
   ]
  },
  {
   "cell_type": "code",
   "execution_count": 207,
   "id": "70f3022b",
   "metadata": {},
   "outputs": [
    {
     "data": {
      "text/html": [
       "<div>\n",
       "<style scoped>\n",
       "    .dataframe tbody tr th:only-of-type {\n",
       "        vertical-align: middle;\n",
       "    }\n",
       "\n",
       "    .dataframe tbody tr th {\n",
       "        vertical-align: top;\n",
       "    }\n",
       "\n",
       "    .dataframe thead th {\n",
       "        text-align: right;\n",
       "    }\n",
       "</style>\n",
       "<table border=\"1\" class=\"dataframe\">\n",
       "  <thead>\n",
       "    <tr style=\"text-align: right;\">\n",
       "      <th></th>\n",
       "      <th>Suburb</th>\n",
       "      <th>Address</th>\n",
       "      <th>Rooms</th>\n",
       "      <th>Type</th>\n",
       "      <th>Method</th>\n",
       "      <th>SellerG</th>\n",
       "      <th>Date</th>\n",
       "      <th>Distance</th>\n",
       "      <th>Postcode</th>\n",
       "      <th>Bedroom</th>\n",
       "      <th>...</th>\n",
       "      <th>Landsize</th>\n",
       "      <th>BuildingArea</th>\n",
       "      <th>YearBuilt</th>\n",
       "      <th>CouncilArea</th>\n",
       "      <th>Latitude</th>\n",
       "      <th>Longtitude</th>\n",
       "      <th>Regionname</th>\n",
       "      <th>Propertycount</th>\n",
       "      <th>ParkingArea</th>\n",
       "      <th>Price</th>\n",
       "    </tr>\n",
       "  </thead>\n",
       "  <tbody>\n",
       "    <tr>\n",
       "      <th>0</th>\n",
       "      <td>Abbotsford</td>\n",
       "      <td>68 Studley St</td>\n",
       "      <td>2</td>\n",
       "      <td>h</td>\n",
       "      <td>SS</td>\n",
       "      <td>Jellis</td>\n",
       "      <td>3/9/2016</td>\n",
       "      <td>2.5</td>\n",
       "      <td>3067.0</td>\n",
       "      <td>2.0</td>\n",
       "      <td>...</td>\n",
       "      <td>126.0</td>\n",
       "      <td>inf</td>\n",
       "      <td>NaN</td>\n",
       "      <td>Yarra City Council</td>\n",
       "      <td>-37.8014</td>\n",
       "      <td>144.9958</td>\n",
       "      <td>Northern Metropolitan</td>\n",
       "      <td>4019.0</td>\n",
       "      <td>Carport</td>\n",
       "      <td>NaN</td>\n",
       "    </tr>\n",
       "    <tr>\n",
       "      <th>1</th>\n",
       "      <td>Airport West</td>\n",
       "      <td>154 Halsey Rd</td>\n",
       "      <td>3</td>\n",
       "      <td>t</td>\n",
       "      <td>PI</td>\n",
       "      <td>Nelson</td>\n",
       "      <td>3/9/2016</td>\n",
       "      <td>13.5</td>\n",
       "      <td>3042.0</td>\n",
       "      <td>3.0</td>\n",
       "      <td>...</td>\n",
       "      <td>303.0</td>\n",
       "      <td>225</td>\n",
       "      <td>2016.0</td>\n",
       "      <td>Moonee Valley City Council</td>\n",
       "      <td>-37.7180</td>\n",
       "      <td>144.8780</td>\n",
       "      <td>Western Metropolitan</td>\n",
       "      <td>3464.0</td>\n",
       "      <td>Detached Garage</td>\n",
       "      <td>840000.0</td>\n",
       "    </tr>\n",
       "    <tr>\n",
       "      <th>2</th>\n",
       "      <td>Albert Park</td>\n",
       "      <td>105 Kerferd Rd</td>\n",
       "      <td>2</td>\n",
       "      <td>h</td>\n",
       "      <td>S</td>\n",
       "      <td>hockingstuart</td>\n",
       "      <td>3/9/2016</td>\n",
       "      <td>3.3</td>\n",
       "      <td>3206.0</td>\n",
       "      <td>2.0</td>\n",
       "      <td>...</td>\n",
       "      <td>120.0</td>\n",
       "      <td>82</td>\n",
       "      <td>1900.0</td>\n",
       "      <td>Port Phillip City Council</td>\n",
       "      <td>-37.8459</td>\n",
       "      <td>144.9555</td>\n",
       "      <td>Southern Metropolitan</td>\n",
       "      <td>3280.0</td>\n",
       "      <td>Attached Garage</td>\n",
       "      <td>1275000.0</td>\n",
       "    </tr>\n",
       "    <tr>\n",
       "      <th>3</th>\n",
       "      <td>Albert Park</td>\n",
       "      <td>85 Richardson St</td>\n",
       "      <td>2</td>\n",
       "      <td>h</td>\n",
       "      <td>S</td>\n",
       "      <td>Thomson</td>\n",
       "      <td>3/9/2016</td>\n",
       "      <td>3.3</td>\n",
       "      <td>3206.0</td>\n",
       "      <td>2.0</td>\n",
       "      <td>...</td>\n",
       "      <td>159.0</td>\n",
       "      <td>inf</td>\n",
       "      <td>NaN</td>\n",
       "      <td>Port Phillip City Council</td>\n",
       "      <td>-37.8450</td>\n",
       "      <td>144.9538</td>\n",
       "      <td>Southern Metropolitan</td>\n",
       "      <td>3280.0</td>\n",
       "      <td>Indoor</td>\n",
       "      <td>1455000.0</td>\n",
       "    </tr>\n",
       "    <tr>\n",
       "      <th>4</th>\n",
       "      <td>Alphington</td>\n",
       "      <td>30 Austin St</td>\n",
       "      <td>3</td>\n",
       "      <td>h</td>\n",
       "      <td>SN</td>\n",
       "      <td>McGrath</td>\n",
       "      <td>3/9/2016</td>\n",
       "      <td>6.4</td>\n",
       "      <td>3078.0</td>\n",
       "      <td>3.0</td>\n",
       "      <td>...</td>\n",
       "      <td>174.0</td>\n",
       "      <td>122</td>\n",
       "      <td>2003.0</td>\n",
       "      <td>Darebin City Council</td>\n",
       "      <td>-37.7818</td>\n",
       "      <td>145.0198</td>\n",
       "      <td>Northern Metropolitan</td>\n",
       "      <td>2211.0</td>\n",
       "      <td>Parkade</td>\n",
       "      <td>NaN</td>\n",
       "    </tr>\n",
       "  </tbody>\n",
       "</table>\n",
       "<p>5 rows × 22 columns</p>\n",
       "</div>"
      ],
      "text/plain": [
       "         Suburb           Address  Rooms Type Method        SellerG      Date  \\\n",
       "0    Abbotsford     68 Studley St      2    h     SS         Jellis  3/9/2016   \n",
       "1  Airport West     154 Halsey Rd      3    t     PI         Nelson  3/9/2016   \n",
       "2   Albert Park    105 Kerferd Rd      2    h      S  hockingstuart  3/9/2016   \n",
       "3   Albert Park  85 Richardson St      2    h      S        Thomson  3/9/2016   \n",
       "4    Alphington      30 Austin St      3    h     SN        McGrath  3/9/2016   \n",
       "\n",
       "   Distance  Postcode  Bedroom  ...  Landsize  BuildingArea  YearBuilt  \\\n",
       "0       2.5    3067.0      2.0  ...     126.0           inf        NaN   \n",
       "1      13.5    3042.0      3.0  ...     303.0           225     2016.0   \n",
       "2       3.3    3206.0      2.0  ...     120.0            82     1900.0   \n",
       "3       3.3    3206.0      2.0  ...     159.0           inf        NaN   \n",
       "4       6.4    3078.0      3.0  ...     174.0           122     2003.0   \n",
       "\n",
       "                  CouncilArea  Latitude Longtitude             Regionname  \\\n",
       "0          Yarra City Council  -37.8014   144.9958  Northern Metropolitan   \n",
       "1  Moonee Valley City Council  -37.7180   144.8780   Western Metropolitan   \n",
       "2   Port Phillip City Council  -37.8459   144.9555  Southern Metropolitan   \n",
       "3   Port Phillip City Council  -37.8450   144.9538  Southern Metropolitan   \n",
       "4        Darebin City Council  -37.7818   145.0198  Northern Metropolitan   \n",
       "\n",
       "   Propertycount      ParkingArea      Price  \n",
       "0         4019.0          Carport        NaN  \n",
       "1         3464.0  Detached Garage   840000.0  \n",
       "2         3280.0  Attached Garage  1275000.0  \n",
       "3         3280.0           Indoor  1455000.0  \n",
       "4         2211.0          Parkade        NaN  \n",
       "\n",
       "[5 rows x 22 columns]"
      ]
     },
     "execution_count": 207,
     "metadata": {},
     "output_type": "execute_result"
    }
   ],
   "source": [
    "df.head()"
   ]
  },
  {
   "cell_type": "code",
   "execution_count": 208,
   "id": "d1c1bd02",
   "metadata": {},
   "outputs": [
    {
     "data": {
      "text/html": [
       "<div>\n",
       "<style scoped>\n",
       "    .dataframe tbody tr th:only-of-type {\n",
       "        vertical-align: middle;\n",
       "    }\n",
       "\n",
       "    .dataframe tbody tr th {\n",
       "        vertical-align: top;\n",
       "    }\n",
       "\n",
       "    .dataframe thead th {\n",
       "        text-align: right;\n",
       "    }\n",
       "</style>\n",
       "<table border=\"1\" class=\"dataframe\">\n",
       "  <thead>\n",
       "    <tr style=\"text-align: right;\">\n",
       "      <th></th>\n",
       "      <th>Suburb</th>\n",
       "      <th>Address</th>\n",
       "      <th>Rooms</th>\n",
       "      <th>Type</th>\n",
       "      <th>Method</th>\n",
       "      <th>SellerG</th>\n",
       "      <th>Date</th>\n",
       "      <th>Distance</th>\n",
       "      <th>Postcode</th>\n",
       "      <th>Bedroom</th>\n",
       "      <th>...</th>\n",
       "      <th>Landsize</th>\n",
       "      <th>BuildingArea</th>\n",
       "      <th>YearBuilt</th>\n",
       "      <th>CouncilArea</th>\n",
       "      <th>Latitude</th>\n",
       "      <th>Longtitude</th>\n",
       "      <th>Regionname</th>\n",
       "      <th>Propertycount</th>\n",
       "      <th>ParkingArea</th>\n",
       "      <th>Price</th>\n",
       "    </tr>\n",
       "  </thead>\n",
       "  <tbody>\n",
       "    <tr>\n",
       "      <th>34852</th>\n",
       "      <td>Reservoir</td>\n",
       "      <td>18 Elinda Pl</td>\n",
       "      <td>3</td>\n",
       "      <td>u</td>\n",
       "      <td>SP</td>\n",
       "      <td>RW</td>\n",
       "      <td>30/09/2017</td>\n",
       "      <td>12.0</td>\n",
       "      <td>3073.0</td>\n",
       "      <td>3.0</td>\n",
       "      <td>...</td>\n",
       "      <td>NaN</td>\n",
       "      <td>105.0</td>\n",
       "      <td>1990.0</td>\n",
       "      <td>Darebin City Council</td>\n",
       "      <td>-37.69769</td>\n",
       "      <td>145.02332</td>\n",
       "      <td>Northern Metropolitan</td>\n",
       "      <td>21650.0</td>\n",
       "      <td>Parkade</td>\n",
       "      <td>475000.0</td>\n",
       "    </tr>\n",
       "    <tr>\n",
       "      <th>34853</th>\n",
       "      <td>Roxburgh Park</td>\n",
       "      <td>14 Stainsby Cr</td>\n",
       "      <td>4</td>\n",
       "      <td>h</td>\n",
       "      <td>S</td>\n",
       "      <td>Raine</td>\n",
       "      <td>30/09/2017</td>\n",
       "      <td>20.6</td>\n",
       "      <td>3064.0</td>\n",
       "      <td>4.0</td>\n",
       "      <td>...</td>\n",
       "      <td>NaN</td>\n",
       "      <td>225.0</td>\n",
       "      <td>1995.0</td>\n",
       "      <td>Hume City Council</td>\n",
       "      <td>-37.63665</td>\n",
       "      <td>144.92976</td>\n",
       "      <td>Northern Metropolitan</td>\n",
       "      <td>5833.0</td>\n",
       "      <td>Underground</td>\n",
       "      <td>591000.0</td>\n",
       "    </tr>\n",
       "    <tr>\n",
       "      <th>34854</th>\n",
       "      <td>Springvale South</td>\n",
       "      <td>8 Bellbird Ct</td>\n",
       "      <td>4</td>\n",
       "      <td>h</td>\n",
       "      <td>PI</td>\n",
       "      <td>Barry</td>\n",
       "      <td>30/09/2017</td>\n",
       "      <td>22.2</td>\n",
       "      <td>3172.0</td>\n",
       "      <td>4.0</td>\n",
       "      <td>...</td>\n",
       "      <td>534.0</td>\n",
       "      <td>152.0</td>\n",
       "      <td>1970.0</td>\n",
       "      <td>Greater Dandenong City Council</td>\n",
       "      <td>-37.97037</td>\n",
       "      <td>145.15449</td>\n",
       "      <td>South-Eastern Metropolitan</td>\n",
       "      <td>4054.0</td>\n",
       "      <td>Carport</td>\n",
       "      <td>NaN</td>\n",
       "    </tr>\n",
       "    <tr>\n",
       "      <th>34855</th>\n",
       "      <td>Springvale South</td>\n",
       "      <td>30 Waddington Cr</td>\n",
       "      <td>3</td>\n",
       "      <td>h</td>\n",
       "      <td>S</td>\n",
       "      <td>Harcourts</td>\n",
       "      <td>30/09/2017</td>\n",
       "      <td>22.2</td>\n",
       "      <td>3172.0</td>\n",
       "      <td>3.0</td>\n",
       "      <td>...</td>\n",
       "      <td>544.0</td>\n",
       "      <td>NaN</td>\n",
       "      <td>NaN</td>\n",
       "      <td>Greater Dandenong City Council</td>\n",
       "      <td>-37.97751</td>\n",
       "      <td>145.14813</td>\n",
       "      <td>South-Eastern Metropolitan</td>\n",
       "      <td>4054.0</td>\n",
       "      <td>Detached Garage</td>\n",
       "      <td>780500.0</td>\n",
       "    </tr>\n",
       "    <tr>\n",
       "      <th>34856</th>\n",
       "      <td>Westmeadows</td>\n",
       "      <td>42 Pascoe St</td>\n",
       "      <td>4</td>\n",
       "      <td>h</td>\n",
       "      <td>S</td>\n",
       "      <td>Barry</td>\n",
       "      <td>30/09/2017</td>\n",
       "      <td>16.5</td>\n",
       "      <td>3049.0</td>\n",
       "      <td>4.0</td>\n",
       "      <td>...</td>\n",
       "      <td>813.0</td>\n",
       "      <td>140.0</td>\n",
       "      <td>1960.0</td>\n",
       "      <td>Hume City Council</td>\n",
       "      <td>-37.67631</td>\n",
       "      <td>144.89409</td>\n",
       "      <td>Northern Metropolitan</td>\n",
       "      <td>2474.0</td>\n",
       "      <td>Attached Garage</td>\n",
       "      <td>791000.0</td>\n",
       "    </tr>\n",
       "  </tbody>\n",
       "</table>\n",
       "<p>5 rows × 22 columns</p>\n",
       "</div>"
      ],
      "text/plain": [
       "                 Suburb           Address  Rooms Type Method    SellerG  \\\n",
       "34852         Reservoir      18 Elinda Pl      3    u     SP         RW   \n",
       "34853     Roxburgh Park    14 Stainsby Cr      4    h      S      Raine   \n",
       "34854  Springvale South     8 Bellbird Ct      4    h     PI      Barry   \n",
       "34855  Springvale South  30 Waddington Cr      3    h      S  Harcourts   \n",
       "34856       Westmeadows      42 Pascoe St      4    h      S      Barry   \n",
       "\n",
       "             Date  Distance  Postcode  Bedroom  ...  Landsize  BuildingArea  \\\n",
       "34852  30/09/2017      12.0    3073.0      3.0  ...       NaN         105.0   \n",
       "34853  30/09/2017      20.6    3064.0      4.0  ...       NaN         225.0   \n",
       "34854  30/09/2017      22.2    3172.0      4.0  ...     534.0         152.0   \n",
       "34855  30/09/2017      22.2    3172.0      3.0  ...     544.0           NaN   \n",
       "34856  30/09/2017      16.5    3049.0      4.0  ...     813.0         140.0   \n",
       "\n",
       "       YearBuilt                     CouncilArea  Latitude Longtitude  \\\n",
       "34852     1990.0            Darebin City Council -37.69769  145.02332   \n",
       "34853     1995.0               Hume City Council -37.63665  144.92976   \n",
       "34854     1970.0  Greater Dandenong City Council -37.97037  145.15449   \n",
       "34855        NaN  Greater Dandenong City Council -37.97751  145.14813   \n",
       "34856     1960.0               Hume City Council -37.67631  144.89409   \n",
       "\n",
       "                       Regionname  Propertycount      ParkingArea     Price  \n",
       "34852       Northern Metropolitan        21650.0          Parkade  475000.0  \n",
       "34853       Northern Metropolitan         5833.0      Underground  591000.0  \n",
       "34854  South-Eastern Metropolitan         4054.0          Carport       NaN  \n",
       "34855  South-Eastern Metropolitan         4054.0  Detached Garage  780500.0  \n",
       "34856       Northern Metropolitan         2474.0  Attached Garage  791000.0  \n",
       "\n",
       "[5 rows x 22 columns]"
      ]
     },
     "execution_count": 208,
     "metadata": {},
     "output_type": "execute_result"
    }
   ],
   "source": [
    "df.tail()"
   ]
  },
  {
   "cell_type": "code",
   "execution_count": 209,
   "id": "57939417",
   "metadata": {},
   "outputs": [
    {
     "name": "stdout",
     "output_type": "stream",
     "text": [
      "<class 'pandas.core.frame.DataFrame'>\n",
      "RangeIndex: 34857 entries, 0 to 34856\n",
      "Data columns (total 22 columns):\n",
      " #   Column         Non-Null Count  Dtype  \n",
      "---  ------         --------------  -----  \n",
      " 0   Suburb         34857 non-null  object \n",
      " 1   Address        34857 non-null  object \n",
      " 2   Rooms          34857 non-null  int64  \n",
      " 3   Type           34857 non-null  object \n",
      " 4   Method         34857 non-null  object \n",
      " 5   SellerG        34857 non-null  object \n",
      " 6   Date           34857 non-null  object \n",
      " 7   Distance       34856 non-null  float64\n",
      " 8   Postcode       34856 non-null  float64\n",
      " 9   Bedroom        26640 non-null  float64\n",
      " 10  Bathroom       26631 non-null  float64\n",
      " 11  Car            26129 non-null  float64\n",
      " 12  Landsize       23047 non-null  float64\n",
      " 13  BuildingArea   13760 non-null  object \n",
      " 14  YearBuilt      15551 non-null  float64\n",
      " 15  CouncilArea    34854 non-null  object \n",
      " 16  Latitude       26881 non-null  float64\n",
      " 17  Longtitude     26881 non-null  float64\n",
      " 18  Regionname     34857 non-null  object \n",
      " 19  Propertycount  34854 non-null  float64\n",
      " 20  ParkingArea    34857 non-null  object \n",
      " 21  Price          27247 non-null  float64\n",
      "dtypes: float64(11), int64(1), object(10)\n",
      "memory usage: 5.9+ MB\n"
     ]
    }
   ],
   "source": [
    "df.info()"
   ]
  },
  {
   "cell_type": "code",
   "execution_count": 210,
   "id": "e933df9b",
   "metadata": {},
   "outputs": [
    {
     "data": {
      "text/html": [
       "<div>\n",
       "<style scoped>\n",
       "    .dataframe tbody tr th:only-of-type {\n",
       "        vertical-align: middle;\n",
       "    }\n",
       "\n",
       "    .dataframe tbody tr th {\n",
       "        vertical-align: top;\n",
       "    }\n",
       "\n",
       "    .dataframe thead th {\n",
       "        text-align: right;\n",
       "    }\n",
       "</style>\n",
       "<table border=\"1\" class=\"dataframe\">\n",
       "  <thead>\n",
       "    <tr style=\"text-align: right;\">\n",
       "      <th></th>\n",
       "      <th>Rooms</th>\n",
       "      <th>Distance</th>\n",
       "      <th>Postcode</th>\n",
       "      <th>Bedroom</th>\n",
       "      <th>Bathroom</th>\n",
       "      <th>Car</th>\n",
       "      <th>Landsize</th>\n",
       "      <th>YearBuilt</th>\n",
       "      <th>Latitude</th>\n",
       "      <th>Longtitude</th>\n",
       "      <th>Propertycount</th>\n",
       "      <th>Price</th>\n",
       "    </tr>\n",
       "  </thead>\n",
       "  <tbody>\n",
       "    <tr>\n",
       "      <th>count</th>\n",
       "      <td>34857.000000</td>\n",
       "      <td>34856.000000</td>\n",
       "      <td>34856.000000</td>\n",
       "      <td>26640.000000</td>\n",
       "      <td>26631.000000</td>\n",
       "      <td>26129.000000</td>\n",
       "      <td>23047.000000</td>\n",
       "      <td>15551.000000</td>\n",
       "      <td>26881.000000</td>\n",
       "      <td>26881.000000</td>\n",
       "      <td>34854.000000</td>\n",
       "      <td>2.724700e+04</td>\n",
       "    </tr>\n",
       "    <tr>\n",
       "      <th>mean</th>\n",
       "      <td>3.031012</td>\n",
       "      <td>11.184929</td>\n",
       "      <td>3116.062859</td>\n",
       "      <td>3.084647</td>\n",
       "      <td>1.624798</td>\n",
       "      <td>1.728845</td>\n",
       "      <td>593.598993</td>\n",
       "      <td>1965.289885</td>\n",
       "      <td>-37.810634</td>\n",
       "      <td>145.001851</td>\n",
       "      <td>7572.888306</td>\n",
       "      <td>1.050173e+06</td>\n",
       "    </tr>\n",
       "    <tr>\n",
       "      <th>std</th>\n",
       "      <td>0.969933</td>\n",
       "      <td>6.788892</td>\n",
       "      <td>109.023903</td>\n",
       "      <td>0.980690</td>\n",
       "      <td>0.724212</td>\n",
       "      <td>1.010771</td>\n",
       "      <td>3398.841946</td>\n",
       "      <td>37.328178</td>\n",
       "      <td>0.090279</td>\n",
       "      <td>0.120169</td>\n",
       "      <td>4428.090313</td>\n",
       "      <td>6.414671e+05</td>\n",
       "    </tr>\n",
       "    <tr>\n",
       "      <th>min</th>\n",
       "      <td>1.000000</td>\n",
       "      <td>0.000000</td>\n",
       "      <td>3000.000000</td>\n",
       "      <td>0.000000</td>\n",
       "      <td>0.000000</td>\n",
       "      <td>0.000000</td>\n",
       "      <td>0.000000</td>\n",
       "      <td>1196.000000</td>\n",
       "      <td>-38.190430</td>\n",
       "      <td>144.423790</td>\n",
       "      <td>83.000000</td>\n",
       "      <td>8.500000e+04</td>\n",
       "    </tr>\n",
       "    <tr>\n",
       "      <th>25%</th>\n",
       "      <td>2.000000</td>\n",
       "      <td>6.400000</td>\n",
       "      <td>3051.000000</td>\n",
       "      <td>2.000000</td>\n",
       "      <td>1.000000</td>\n",
       "      <td>1.000000</td>\n",
       "      <td>224.000000</td>\n",
       "      <td>1940.000000</td>\n",
       "      <td>-37.862950</td>\n",
       "      <td>144.933500</td>\n",
       "      <td>4385.000000</td>\n",
       "      <td>6.350000e+05</td>\n",
       "    </tr>\n",
       "    <tr>\n",
       "      <th>50%</th>\n",
       "      <td>3.000000</td>\n",
       "      <td>10.300000</td>\n",
       "      <td>3103.000000</td>\n",
       "      <td>3.000000</td>\n",
       "      <td>2.000000</td>\n",
       "      <td>2.000000</td>\n",
       "      <td>521.000000</td>\n",
       "      <td>1970.000000</td>\n",
       "      <td>-37.807600</td>\n",
       "      <td>145.007800</td>\n",
       "      <td>6763.000000</td>\n",
       "      <td>8.700000e+05</td>\n",
       "    </tr>\n",
       "    <tr>\n",
       "      <th>75%</th>\n",
       "      <td>4.000000</td>\n",
       "      <td>14.000000</td>\n",
       "      <td>3156.000000</td>\n",
       "      <td>4.000000</td>\n",
       "      <td>2.000000</td>\n",
       "      <td>2.000000</td>\n",
       "      <td>670.000000</td>\n",
       "      <td>2000.000000</td>\n",
       "      <td>-37.754100</td>\n",
       "      <td>145.071900</td>\n",
       "      <td>10412.000000</td>\n",
       "      <td>1.295000e+06</td>\n",
       "    </tr>\n",
       "    <tr>\n",
       "      <th>max</th>\n",
       "      <td>16.000000</td>\n",
       "      <td>48.100000</td>\n",
       "      <td>3978.000000</td>\n",
       "      <td>30.000000</td>\n",
       "      <td>12.000000</td>\n",
       "      <td>26.000000</td>\n",
       "      <td>433014.000000</td>\n",
       "      <td>2106.000000</td>\n",
       "      <td>-37.390200</td>\n",
       "      <td>145.526350</td>\n",
       "      <td>21650.000000</td>\n",
       "      <td>1.120000e+07</td>\n",
       "    </tr>\n",
       "  </tbody>\n",
       "</table>\n",
       "</div>"
      ],
      "text/plain": [
       "              Rooms      Distance      Postcode       Bedroom      Bathroom  \\\n",
       "count  34857.000000  34856.000000  34856.000000  26640.000000  26631.000000   \n",
       "mean       3.031012     11.184929   3116.062859      3.084647      1.624798   \n",
       "std        0.969933      6.788892    109.023903      0.980690      0.724212   \n",
       "min        1.000000      0.000000   3000.000000      0.000000      0.000000   \n",
       "25%        2.000000      6.400000   3051.000000      2.000000      1.000000   \n",
       "50%        3.000000     10.300000   3103.000000      3.000000      2.000000   \n",
       "75%        4.000000     14.000000   3156.000000      4.000000      2.000000   \n",
       "max       16.000000     48.100000   3978.000000     30.000000     12.000000   \n",
       "\n",
       "                Car       Landsize     YearBuilt      Latitude    Longtitude  \\\n",
       "count  26129.000000   23047.000000  15551.000000  26881.000000  26881.000000   \n",
       "mean       1.728845     593.598993   1965.289885    -37.810634    145.001851   \n",
       "std        1.010771    3398.841946     37.328178      0.090279      0.120169   \n",
       "min        0.000000       0.000000   1196.000000    -38.190430    144.423790   \n",
       "25%        1.000000     224.000000   1940.000000    -37.862950    144.933500   \n",
       "50%        2.000000     521.000000   1970.000000    -37.807600    145.007800   \n",
       "75%        2.000000     670.000000   2000.000000    -37.754100    145.071900   \n",
       "max       26.000000  433014.000000   2106.000000    -37.390200    145.526350   \n",
       "\n",
       "       Propertycount         Price  \n",
       "count   34854.000000  2.724700e+04  \n",
       "mean     7572.888306  1.050173e+06  \n",
       "std      4428.090313  6.414671e+05  \n",
       "min        83.000000  8.500000e+04  \n",
       "25%      4385.000000  6.350000e+05  \n",
       "50%      6763.000000  8.700000e+05  \n",
       "75%     10412.000000  1.295000e+06  \n",
       "max     21650.000000  1.120000e+07  "
      ]
     },
     "execution_count": 210,
     "metadata": {},
     "output_type": "execute_result"
    }
   ],
   "source": [
    "df.describe()"
   ]
  },
  {
   "cell_type": "markdown",
   "id": "9f583932",
   "metadata": {},
   "source": [
    "# Feature Engineering"
   ]
  },
  {
   "cell_type": "code",
   "execution_count": 211,
   "id": "530f6380",
   "metadata": {},
   "outputs": [
    {
     "data": {
      "text/html": [
       "<div>\n",
       "<style scoped>\n",
       "    .dataframe tbody tr th:only-of-type {\n",
       "        vertical-align: middle;\n",
       "    }\n",
       "\n",
       "    .dataframe tbody tr th {\n",
       "        vertical-align: top;\n",
       "    }\n",
       "\n",
       "    .dataframe thead th {\n",
       "        text-align: right;\n",
       "    }\n",
       "</style>\n",
       "<table border=\"1\" class=\"dataframe\">\n",
       "  <thead>\n",
       "    <tr style=\"text-align: right;\">\n",
       "      <th></th>\n",
       "      <th>Suburb</th>\n",
       "      <th>Address</th>\n",
       "      <th>Rooms</th>\n",
       "      <th>Type</th>\n",
       "      <th>Method</th>\n",
       "      <th>SellerG</th>\n",
       "      <th>Date</th>\n",
       "      <th>Distance</th>\n",
       "      <th>Postcode</th>\n",
       "      <th>Bedroom</th>\n",
       "      <th>...</th>\n",
       "      <th>Landsize</th>\n",
       "      <th>BuildingArea</th>\n",
       "      <th>YearBuilt</th>\n",
       "      <th>CouncilArea</th>\n",
       "      <th>Latitude</th>\n",
       "      <th>Longtitude</th>\n",
       "      <th>Regionname</th>\n",
       "      <th>Propertycount</th>\n",
       "      <th>ParkingArea</th>\n",
       "      <th>Price</th>\n",
       "    </tr>\n",
       "  </thead>\n",
       "  <tbody>\n",
       "    <tr>\n",
       "      <th>0</th>\n",
       "      <td>Abbotsford</td>\n",
       "      <td>68 Studley St</td>\n",
       "      <td>2</td>\n",
       "      <td>h</td>\n",
       "      <td>SS</td>\n",
       "      <td>Jellis</td>\n",
       "      <td>3/9/2016</td>\n",
       "      <td>2.5</td>\n",
       "      <td>3067.0</td>\n",
       "      <td>2.0</td>\n",
       "      <td>...</td>\n",
       "      <td>126.0</td>\n",
       "      <td>inf</td>\n",
       "      <td>NaN</td>\n",
       "      <td>Yarra City Council</td>\n",
       "      <td>-37.80140</td>\n",
       "      <td>144.99580</td>\n",
       "      <td>Northern Metropolitan</td>\n",
       "      <td>4019.0</td>\n",
       "      <td>Carport</td>\n",
       "      <td>NaN</td>\n",
       "    </tr>\n",
       "    <tr>\n",
       "      <th>1</th>\n",
       "      <td>Airport West</td>\n",
       "      <td>154 Halsey Rd</td>\n",
       "      <td>3</td>\n",
       "      <td>t</td>\n",
       "      <td>PI</td>\n",
       "      <td>Nelson</td>\n",
       "      <td>3/9/2016</td>\n",
       "      <td>13.5</td>\n",
       "      <td>3042.0</td>\n",
       "      <td>3.0</td>\n",
       "      <td>...</td>\n",
       "      <td>303.0</td>\n",
       "      <td>225</td>\n",
       "      <td>2016.0</td>\n",
       "      <td>Moonee Valley City Council</td>\n",
       "      <td>-37.71800</td>\n",
       "      <td>144.87800</td>\n",
       "      <td>Western Metropolitan</td>\n",
       "      <td>3464.0</td>\n",
       "      <td>Detached Garage</td>\n",
       "      <td>840000.0</td>\n",
       "    </tr>\n",
       "    <tr>\n",
       "      <th>2</th>\n",
       "      <td>Albert Park</td>\n",
       "      <td>105 Kerferd Rd</td>\n",
       "      <td>2</td>\n",
       "      <td>h</td>\n",
       "      <td>S</td>\n",
       "      <td>hockingstuart</td>\n",
       "      <td>3/9/2016</td>\n",
       "      <td>3.3</td>\n",
       "      <td>3206.0</td>\n",
       "      <td>2.0</td>\n",
       "      <td>...</td>\n",
       "      <td>120.0</td>\n",
       "      <td>82</td>\n",
       "      <td>1900.0</td>\n",
       "      <td>Port Phillip City Council</td>\n",
       "      <td>-37.84590</td>\n",
       "      <td>144.95550</td>\n",
       "      <td>Southern Metropolitan</td>\n",
       "      <td>3280.0</td>\n",
       "      <td>Attached Garage</td>\n",
       "      <td>1275000.0</td>\n",
       "    </tr>\n",
       "    <tr>\n",
       "      <th>3</th>\n",
       "      <td>Albert Park</td>\n",
       "      <td>85 Richardson St</td>\n",
       "      <td>2</td>\n",
       "      <td>h</td>\n",
       "      <td>S</td>\n",
       "      <td>Thomson</td>\n",
       "      <td>3/9/2016</td>\n",
       "      <td>3.3</td>\n",
       "      <td>3206.0</td>\n",
       "      <td>2.0</td>\n",
       "      <td>...</td>\n",
       "      <td>159.0</td>\n",
       "      <td>inf</td>\n",
       "      <td>NaN</td>\n",
       "      <td>Port Phillip City Council</td>\n",
       "      <td>-37.84500</td>\n",
       "      <td>144.95380</td>\n",
       "      <td>Southern Metropolitan</td>\n",
       "      <td>3280.0</td>\n",
       "      <td>Indoor</td>\n",
       "      <td>1455000.0</td>\n",
       "    </tr>\n",
       "    <tr>\n",
       "      <th>4</th>\n",
       "      <td>Alphington</td>\n",
       "      <td>30 Austin St</td>\n",
       "      <td>3</td>\n",
       "      <td>h</td>\n",
       "      <td>SN</td>\n",
       "      <td>McGrath</td>\n",
       "      <td>3/9/2016</td>\n",
       "      <td>6.4</td>\n",
       "      <td>3078.0</td>\n",
       "      <td>3.0</td>\n",
       "      <td>...</td>\n",
       "      <td>174.0</td>\n",
       "      <td>122</td>\n",
       "      <td>2003.0</td>\n",
       "      <td>Darebin City Council</td>\n",
       "      <td>-37.78180</td>\n",
       "      <td>145.01980</td>\n",
       "      <td>Northern Metropolitan</td>\n",
       "      <td>2211.0</td>\n",
       "      <td>Parkade</td>\n",
       "      <td>NaN</td>\n",
       "    </tr>\n",
       "    <tr>\n",
       "      <th>...</th>\n",
       "      <td>...</td>\n",
       "      <td>...</td>\n",
       "      <td>...</td>\n",
       "      <td>...</td>\n",
       "      <td>...</td>\n",
       "      <td>...</td>\n",
       "      <td>...</td>\n",
       "      <td>...</td>\n",
       "      <td>...</td>\n",
       "      <td>...</td>\n",
       "      <td>...</td>\n",
       "      <td>...</td>\n",
       "      <td>...</td>\n",
       "      <td>...</td>\n",
       "      <td>...</td>\n",
       "      <td>...</td>\n",
       "      <td>...</td>\n",
       "      <td>...</td>\n",
       "      <td>...</td>\n",
       "      <td>...</td>\n",
       "      <td>...</td>\n",
       "    </tr>\n",
       "    <tr>\n",
       "      <th>34852</th>\n",
       "      <td>Reservoir</td>\n",
       "      <td>18 Elinda Pl</td>\n",
       "      <td>3</td>\n",
       "      <td>u</td>\n",
       "      <td>SP</td>\n",
       "      <td>RW</td>\n",
       "      <td>30/09/2017</td>\n",
       "      <td>12.0</td>\n",
       "      <td>3073.0</td>\n",
       "      <td>3.0</td>\n",
       "      <td>...</td>\n",
       "      <td>NaN</td>\n",
       "      <td>105.0</td>\n",
       "      <td>1990.0</td>\n",
       "      <td>Darebin City Council</td>\n",
       "      <td>-37.69769</td>\n",
       "      <td>145.02332</td>\n",
       "      <td>Northern Metropolitan</td>\n",
       "      <td>21650.0</td>\n",
       "      <td>Parkade</td>\n",
       "      <td>475000.0</td>\n",
       "    </tr>\n",
       "    <tr>\n",
       "      <th>34853</th>\n",
       "      <td>Roxburgh Park</td>\n",
       "      <td>14 Stainsby Cr</td>\n",
       "      <td>4</td>\n",
       "      <td>h</td>\n",
       "      <td>S</td>\n",
       "      <td>Raine</td>\n",
       "      <td>30/09/2017</td>\n",
       "      <td>20.6</td>\n",
       "      <td>3064.0</td>\n",
       "      <td>4.0</td>\n",
       "      <td>...</td>\n",
       "      <td>NaN</td>\n",
       "      <td>225.0</td>\n",
       "      <td>1995.0</td>\n",
       "      <td>Hume City Council</td>\n",
       "      <td>-37.63665</td>\n",
       "      <td>144.92976</td>\n",
       "      <td>Northern Metropolitan</td>\n",
       "      <td>5833.0</td>\n",
       "      <td>Underground</td>\n",
       "      <td>591000.0</td>\n",
       "    </tr>\n",
       "    <tr>\n",
       "      <th>34854</th>\n",
       "      <td>Springvale South</td>\n",
       "      <td>8 Bellbird Ct</td>\n",
       "      <td>4</td>\n",
       "      <td>h</td>\n",
       "      <td>PI</td>\n",
       "      <td>Barry</td>\n",
       "      <td>30/09/2017</td>\n",
       "      <td>22.2</td>\n",
       "      <td>3172.0</td>\n",
       "      <td>4.0</td>\n",
       "      <td>...</td>\n",
       "      <td>534.0</td>\n",
       "      <td>152.0</td>\n",
       "      <td>1970.0</td>\n",
       "      <td>Greater Dandenong City Council</td>\n",
       "      <td>-37.97037</td>\n",
       "      <td>145.15449</td>\n",
       "      <td>South-Eastern Metropolitan</td>\n",
       "      <td>4054.0</td>\n",
       "      <td>Carport</td>\n",
       "      <td>NaN</td>\n",
       "    </tr>\n",
       "    <tr>\n",
       "      <th>34855</th>\n",
       "      <td>Springvale South</td>\n",
       "      <td>30 Waddington Cr</td>\n",
       "      <td>3</td>\n",
       "      <td>h</td>\n",
       "      <td>S</td>\n",
       "      <td>Harcourts</td>\n",
       "      <td>30/09/2017</td>\n",
       "      <td>22.2</td>\n",
       "      <td>3172.0</td>\n",
       "      <td>3.0</td>\n",
       "      <td>...</td>\n",
       "      <td>544.0</td>\n",
       "      <td>NaN</td>\n",
       "      <td>NaN</td>\n",
       "      <td>Greater Dandenong City Council</td>\n",
       "      <td>-37.97751</td>\n",
       "      <td>145.14813</td>\n",
       "      <td>South-Eastern Metropolitan</td>\n",
       "      <td>4054.0</td>\n",
       "      <td>Detached Garage</td>\n",
       "      <td>780500.0</td>\n",
       "    </tr>\n",
       "    <tr>\n",
       "      <th>34856</th>\n",
       "      <td>Westmeadows</td>\n",
       "      <td>42 Pascoe St</td>\n",
       "      <td>4</td>\n",
       "      <td>h</td>\n",
       "      <td>S</td>\n",
       "      <td>Barry</td>\n",
       "      <td>30/09/2017</td>\n",
       "      <td>16.5</td>\n",
       "      <td>3049.0</td>\n",
       "      <td>4.0</td>\n",
       "      <td>...</td>\n",
       "      <td>813.0</td>\n",
       "      <td>140.0</td>\n",
       "      <td>1960.0</td>\n",
       "      <td>Hume City Council</td>\n",
       "      <td>-37.67631</td>\n",
       "      <td>144.89409</td>\n",
       "      <td>Northern Metropolitan</td>\n",
       "      <td>2474.0</td>\n",
       "      <td>Attached Garage</td>\n",
       "      <td>791000.0</td>\n",
       "    </tr>\n",
       "  </tbody>\n",
       "</table>\n",
       "<p>34857 rows × 22 columns</p>\n",
       "</div>"
      ],
      "text/plain": [
       "                 Suburb           Address  Rooms Type Method        SellerG  \\\n",
       "0            Abbotsford     68 Studley St      2    h     SS         Jellis   \n",
       "1          Airport West     154 Halsey Rd      3    t     PI         Nelson   \n",
       "2           Albert Park    105 Kerferd Rd      2    h      S  hockingstuart   \n",
       "3           Albert Park  85 Richardson St      2    h      S        Thomson   \n",
       "4            Alphington      30 Austin St      3    h     SN        McGrath   \n",
       "...                 ...               ...    ...  ...    ...            ...   \n",
       "34852         Reservoir      18 Elinda Pl      3    u     SP             RW   \n",
       "34853     Roxburgh Park    14 Stainsby Cr      4    h      S          Raine   \n",
       "34854  Springvale South     8 Bellbird Ct      4    h     PI          Barry   \n",
       "34855  Springvale South  30 Waddington Cr      3    h      S      Harcourts   \n",
       "34856       Westmeadows      42 Pascoe St      4    h      S          Barry   \n",
       "\n",
       "             Date  Distance  Postcode  Bedroom  ...  Landsize  BuildingArea  \\\n",
       "0        3/9/2016       2.5    3067.0      2.0  ...     126.0           inf   \n",
       "1        3/9/2016      13.5    3042.0      3.0  ...     303.0           225   \n",
       "2        3/9/2016       3.3    3206.0      2.0  ...     120.0            82   \n",
       "3        3/9/2016       3.3    3206.0      2.0  ...     159.0           inf   \n",
       "4        3/9/2016       6.4    3078.0      3.0  ...     174.0           122   \n",
       "...           ...       ...       ...      ...  ...       ...           ...   \n",
       "34852  30/09/2017      12.0    3073.0      3.0  ...       NaN         105.0   \n",
       "34853  30/09/2017      20.6    3064.0      4.0  ...       NaN         225.0   \n",
       "34854  30/09/2017      22.2    3172.0      4.0  ...     534.0         152.0   \n",
       "34855  30/09/2017      22.2    3172.0      3.0  ...     544.0           NaN   \n",
       "34856  30/09/2017      16.5    3049.0      4.0  ...     813.0         140.0   \n",
       "\n",
       "       YearBuilt                     CouncilArea  Latitude Longtitude  \\\n",
       "0            NaN              Yarra City Council -37.80140  144.99580   \n",
       "1         2016.0      Moonee Valley City Council -37.71800  144.87800   \n",
       "2         1900.0       Port Phillip City Council -37.84590  144.95550   \n",
       "3            NaN       Port Phillip City Council -37.84500  144.95380   \n",
       "4         2003.0            Darebin City Council -37.78180  145.01980   \n",
       "...          ...                             ...       ...        ...   \n",
       "34852     1990.0            Darebin City Council -37.69769  145.02332   \n",
       "34853     1995.0               Hume City Council -37.63665  144.92976   \n",
       "34854     1970.0  Greater Dandenong City Council -37.97037  145.15449   \n",
       "34855        NaN  Greater Dandenong City Council -37.97751  145.14813   \n",
       "34856     1960.0               Hume City Council -37.67631  144.89409   \n",
       "\n",
       "                       Regionname  Propertycount      ParkingArea      Price  \n",
       "0           Northern Metropolitan         4019.0          Carport        NaN  \n",
       "1            Western Metropolitan         3464.0  Detached Garage   840000.0  \n",
       "2           Southern Metropolitan         3280.0  Attached Garage  1275000.0  \n",
       "3           Southern Metropolitan         3280.0           Indoor  1455000.0  \n",
       "4           Northern Metropolitan         2211.0          Parkade        NaN  \n",
       "...                           ...            ...              ...        ...  \n",
       "34852       Northern Metropolitan        21650.0          Parkade   475000.0  \n",
       "34853       Northern Metropolitan         5833.0      Underground   591000.0  \n",
       "34854  South-Eastern Metropolitan         4054.0          Carport        NaN  \n",
       "34855  South-Eastern Metropolitan         4054.0  Detached Garage   780500.0  \n",
       "34856       Northern Metropolitan         2474.0  Attached Garage   791000.0  \n",
       "\n",
       "[34857 rows x 22 columns]"
      ]
     },
     "execution_count": 211,
     "metadata": {},
     "output_type": "execute_result"
    }
   ],
   "source": [
    "df"
   ]
  },
  {
   "cell_type": "code",
   "execution_count": 212,
   "id": "6fa98408",
   "metadata": {},
   "outputs": [
    {
     "name": "stdout",
     "output_type": "stream",
     "text": [
      "<class 'pandas.core.frame.DataFrame'>\n",
      "RangeIndex: 34857 entries, 0 to 34856\n",
      "Data columns (total 22 columns):\n",
      " #   Column         Non-Null Count  Dtype  \n",
      "---  ------         --------------  -----  \n",
      " 0   Suburb         34857 non-null  object \n",
      " 1   Address        34857 non-null  object \n",
      " 2   Rooms          34857 non-null  int64  \n",
      " 3   Type           34857 non-null  object \n",
      " 4   Method         34857 non-null  object \n",
      " 5   SellerG        34857 non-null  object \n",
      " 6   Date           34857 non-null  object \n",
      " 7   Distance       34856 non-null  float64\n",
      " 8   Postcode       34856 non-null  float64\n",
      " 9   Bedroom        26640 non-null  float64\n",
      " 10  Bathroom       26631 non-null  float64\n",
      " 11  Car            26129 non-null  float64\n",
      " 12  Landsize       23047 non-null  float64\n",
      " 13  BuildingArea   13760 non-null  object \n",
      " 14  YearBuilt      15551 non-null  float64\n",
      " 15  CouncilArea    34854 non-null  object \n",
      " 16  Latitude       26881 non-null  float64\n",
      " 17  Longtitude     26881 non-null  float64\n",
      " 18  Regionname     34857 non-null  object \n",
      " 19  Propertycount  34854 non-null  float64\n",
      " 20  ParkingArea    34857 non-null  object \n",
      " 21  Price          27247 non-null  float64\n",
      "dtypes: float64(11), int64(1), object(10)\n",
      "memory usage: 5.9+ MB\n"
     ]
    }
   ],
   "source": [
    "df.info()"
   ]
  },
  {
   "cell_type": "code",
   "execution_count": 213,
   "id": "d4d0e9aa",
   "metadata": {},
   "outputs": [
    {
     "data": {
      "text/plain": [
       "{'h': 23980, 'u': 7297, 't': 3580}"
      ]
     },
     "execution_count": 213,
     "metadata": {},
     "output_type": "execute_result"
    }
   ],
   "source": [
    "df['Type'].value_counts().to_dict()"
   ]
  },
  {
   "cell_type": "code",
   "execution_count": 214,
   "id": "790140d5",
   "metadata": {},
   "outputs": [],
   "source": [
    "df['Type'].replace({'h':1,'u':2,'t':3},inplace=True)"
   ]
  },
  {
   "cell_type": "markdown",
   "id": "eba160fe",
   "metadata": {},
   "source": [
    "# Handling Missing Values"
   ]
  },
  {
   "cell_type": "code",
   "execution_count": 215,
   "id": "36f67085",
   "metadata": {},
   "outputs": [
    {
     "data": {
      "text/plain": [
       "Suburb               0\n",
       "Address              0\n",
       "Rooms                0\n",
       "Type                 0\n",
       "Method               0\n",
       "SellerG              0\n",
       "Date                 0\n",
       "Distance             1\n",
       "Postcode             1\n",
       "Bedroom           8217\n",
       "Bathroom          8226\n",
       "Car               8728\n",
       "Landsize         11810\n",
       "BuildingArea     21097\n",
       "YearBuilt        19306\n",
       "CouncilArea          3\n",
       "Latitude          7976\n",
       "Longtitude        7976\n",
       "Regionname           0\n",
       "Propertycount        3\n",
       "ParkingArea          0\n",
       "Price             7610\n",
       "dtype: int64"
      ]
     },
     "execution_count": 215,
     "metadata": {},
     "output_type": "execute_result"
    }
   ],
   "source": [
    "df.isnull().sum()"
   ]
  },
  {
   "cell_type": "code",
   "execution_count": 216,
   "id": "25d55913",
   "metadata": {},
   "outputs": [
    {
     "data": {
      "text/plain": [
       "array([ 2.5, 13.5,  3.3,  6.4, 13.8, 11.1,  6.3,  5.9, 11. , 12.2, 10.5,\n",
       "        6.6,  9.7,  9.2, 13. , 13.9, 13.1, 10.8, 11.2, 10.7,  5.2, 11.8,\n",
       "       11.7,  7.8,  9. ,  3.2, 11.4,  8.9,  8.1,  9.3, 13.6,  3.4,  1.6,\n",
       "       10.3,  8.5,  7.7,  8. ,  9.4,  5.8,  3.5,  4.4, 12.1, 13.7, 14.5,\n",
       "        4.6,  7.9, 15. , 12.8,  4.2,  5.6,  7.5,  6.2,  7.4,  8.7,  2.8,\n",
       "        4.1,  6.9, 14.6,  8.4,  2.3,  5.5, 11.5, 14.7,  2.6,  9.9,  3.8,\n",
       "        4.5,  8.8,  2.1,  1.2,  6.1, 12.6, 13.3,  6.5, 14.9,  1.9,  5.1,\n",
       "        7. ,  9.1,  9.5,  1.8,  1.5,  9.8, 12.4, 10.6,  8.2, 10.4, 14. ,\n",
       "       12.5,  5.3, 12.7, 10.9,  3. ,  5.7, 15.5,  4.3, 10.2, 16.5, 23.2,\n",
       "       17.3, 35.2, 13.4, 25. , 16.1,  4. , 14.8, 10.1, 17.9, 17.5, 16.7,\n",
       "        3.6, 43.4,  6.7, 20.6, 34.7, 23. , 24.7, 21.8, 22.2, 14.3, 25.9,\n",
       "        1.3, 27. , 18. ,  7.2, 36.9, 19.6, 28.8, 24.8, 15.4, 38. , 45.9,\n",
       "       12.9,  7.3, 20.4, 32.3, 45.2, 21.3, 16. , 18.4, 12.3,  5.4, 25.2,\n",
       "       16.3, 33.8, 31.7, 29.8, 20. , 17.2, 16.2, 21.5, 14.2, 18.8, 34.1,\n",
       "       22.7, 12. ,  2.4, 19.9, 23.8, 23.5, 15.2, 35.4, 20.5,  2.7, 20.8,\n",
       "        5. , 30.4, 15.3,  3.1, 17.6, 25.5, 27.2,  8.6, 31.2,  2. ,  1.4,\n",
       "        0. , 26.5, 47.3,  0.7, 21.1, 23.6,  6.8, 17.4, 28.5, 26. , 41. ,\n",
       "       48.1, 27.7, 44.2,  3.7, 37.5, 16.6, 27.1, 23.3, 29.9, 31.6, 43.3,\n",
       "       34.9, 33.3, 39. , 26.1, 35.5, 29.5, 18.7, 47.4,  nan, 29.3, 30.6,\n",
       "       22.9, 33. , 20.1, 31.4, 39.8, 32.6, 34.6])"
      ]
     },
     "execution_count": 216,
     "metadata": {},
     "output_type": "execute_result"
    }
   ],
   "source": [
    "df[\"Distance\"].unique()"
   ]
  },
  {
   "cell_type": "code",
   "execution_count": 217,
   "id": "014ac8c3",
   "metadata": {},
   "outputs": [
    {
     "data": {
      "text/plain": [
       "11.18492942391554"
      ]
     },
     "execution_count": 217,
     "metadata": {},
     "output_type": "execute_result"
    }
   ],
   "source": [
    "df['Distance'].mean()"
   ]
  },
  {
   "cell_type": "code",
   "execution_count": 218,
   "id": "1f6e1a08",
   "metadata": {},
   "outputs": [],
   "source": [
    "df['Distance'].fillna(df['Distance'].mean(), inplace=True)"
   ]
  },
  {
   "cell_type": "code",
   "execution_count": 219,
   "id": "f6751e5a",
   "metadata": {},
   "outputs": [
    {
     "data": {
      "text/plain": [
       "0"
      ]
     },
     "execution_count": 219,
     "metadata": {},
     "output_type": "execute_result"
    }
   ],
   "source": [
    "df['Distance'].isna().sum()"
   ]
  },
  {
   "cell_type": "code",
   "execution_count": 220,
   "id": "f545f1b2",
   "metadata": {},
   "outputs": [
    {
     "data": {
      "text/plain": [
       "array([3067., 3042., 3206., 3078., 3018., 3025., 3143., 3032., 3147.,\n",
       "       3034., 3183., 3103., 3104., 3204., 3165., 3128., 3019., 3186.,\n",
       "       3187., 3056., 3055., 3105., 3125., 3124., 3126., 3054., 3163.,\n",
       "       3162., 3161., 3148., 3068., 3058., 3066., 3108., 3084., 3185.,\n",
       "       3184., 3040., 3041., 3065., 3031., 3011., 3146., 3046., 3043.,\n",
       "       3188., 3122., 3081., 3166., 3079., 3021., 3033., 3101., 3102.,\n",
       "       3144., 3012., 3145., 3000., 3127., 3039., 3189., 3015., 3051.,\n",
       "       3070., 3167., 3052., 3044., 3207., 3181., 3072., 3073., 3121.,\n",
       "       3205., 3141., 3006., 3182., 3020., 3107., 3071., 3142., 3087.,\n",
       "       3003., 3016., 3085., 3013., 3057., 3061., 3053., 3002., 3060.,\n",
       "       3123., 3047., 3083., 3008., 3028., 3022., 3049., 3153., 3193.,\n",
       "       3806., 3130., 3155., 3088., 3023., 3151., 3192., 3169., 3168.,\n",
       "       3978., 3064., 3977., 3136., 3175., 3089., 3172., 3109., 3111.,\n",
       "       3754., 3196., 3095., 3782., 3076., 3177., 3156., 3131., 3199.,\n",
       "       3200., 3437., 3150., 3059., 3803., 3777., 3135., 3190., 3037.,\n",
       "       3029., 3038., 3173., 3075., 3093., 3975., 3337., 3338., 3194.,\n",
       "       3082., 3132., 3094., 3765., 3195., 3149., 3170., 3805., 3174.,\n",
       "       3030., 3134., 3335., 3178., 3191., 3198., 3752., 3171., 3429.,\n",
       "       3160., 3106., 3154., 3074., 3133., 3152., 3027., 3750., 3024.,\n",
       "       3197., 3138., 3810., 3179., 3113., 3096., 3048., 3802., 3137.,\n",
       "       3910., 3438., 3427., 3756., 3340., 3116., 3180., 3140., 3796.,\n",
       "       3809., 3201., 3976., 3036., 3807., 3099., 3757., 3115., 3786.,\n",
       "       3202., 3431., 3139.,   nan, 3158., 3788., 3428., 3770., 3090.,\n",
       "       3775., 3808., 3159., 3795., 3793.])"
      ]
     },
     "execution_count": 220,
     "metadata": {},
     "output_type": "execute_result"
    }
   ],
   "source": [
    "df['Postcode'].unique()"
   ]
  },
  {
   "cell_type": "code",
   "execution_count": 221,
   "id": "ab673e46",
   "metadata": {},
   "outputs": [
    {
     "data": {
      "text/plain": [
       "Postcode\n",
       "3073.0    844\n",
       "3046.0    638\n",
       "3020.0    617\n",
       "3121.0    612\n",
       "3165.0    583\n",
       "         ... \n",
       "3770.0      1\n",
       "3428.0      1\n",
       "3139.0      1\n",
       "3786.0      1\n",
       "3793.0      1\n",
       "Name: count, Length: 211, dtype: int64"
      ]
     },
     "execution_count": 221,
     "metadata": {},
     "output_type": "execute_result"
    }
   ],
   "source": [
    "df[\"Postcode\"].value_counts()"
   ]
  },
  {
   "cell_type": "code",
   "execution_count": 222,
   "id": "cc7d7576",
   "metadata": {},
   "outputs": [],
   "source": [
    "df['Postcode'] = df['Postcode'].fillna(3073.0)"
   ]
  },
  {
   "cell_type": "code",
   "execution_count": 223,
   "id": "a51e3467",
   "metadata": {},
   "outputs": [
    {
     "data": {
      "text/plain": [
       "0"
      ]
     },
     "execution_count": 223,
     "metadata": {},
     "output_type": "execute_result"
    }
   ],
   "source": [
    "df['Postcode'].isna().sum()"
   ]
  },
  {
   "cell_type": "code",
   "execution_count": 224,
   "id": "f3ba55bf",
   "metadata": {},
   "outputs": [
    {
     "data": {
      "text/plain": [
       "array([ 2.,  3.,  5., nan,  4.,  1.,  6.,  7.,  0., 20.,  8., 30.,  9.,\n",
       "       12., 10., 16.])"
      ]
     },
     "execution_count": 224,
     "metadata": {},
     "output_type": "execute_result"
    }
   ],
   "source": [
    "df['Bedroom'].unique()"
   ]
  },
  {
   "cell_type": "code",
   "execution_count": 225,
   "id": "8abef031",
   "metadata": {},
   "outputs": [
    {
     "data": {
      "text/plain": [
       "Bedroom\n",
       "3.0     11881\n",
       "4.0      6348\n",
       "2.0      5777\n",
       "5.0      1427\n",
       "1.0       966\n",
       "6.0       168\n",
       "7.0        30\n",
       "0.0        17\n",
       "8.0        13\n",
       "9.0         5\n",
       "10.0        4\n",
       "20.0        1\n",
       "30.0        1\n",
       "12.0        1\n",
       "16.0        1\n",
       "Name: count, dtype: int64"
      ]
     },
     "execution_count": 225,
     "metadata": {},
     "output_type": "execute_result"
    }
   ],
   "source": [
    "df['Bedroom'].value_counts()"
   ]
  },
  {
   "cell_type": "code",
   "execution_count": 226,
   "id": "e3e4f3c1",
   "metadata": {},
   "outputs": [],
   "source": [
    "df['Bedroom'] = df['Bedroom'].fillna(3.0)"
   ]
  },
  {
   "cell_type": "code",
   "execution_count": 227,
   "id": "199ae15d",
   "metadata": {},
   "outputs": [
    {
     "data": {
      "text/plain": [
       "0"
      ]
     },
     "execution_count": 227,
     "metadata": {},
     "output_type": "execute_result"
    }
   ],
   "source": [
    "df['Bedroom'].isna().sum()"
   ]
  },
  {
   "cell_type": "code",
   "execution_count": 228,
   "id": "af9fb805",
   "metadata": {},
   "outputs": [
    {
     "data": {
      "text/plain": [
       "array([ 1.,  2.,  3., nan,  4.,  5.,  0., 12.,  7.,  8.,  6.,  9.])"
      ]
     },
     "execution_count": 228,
     "metadata": {},
     "output_type": "execute_result"
    }
   ],
   "source": [
    "df['Bathroom'].unique()"
   ]
  },
  {
   "cell_type": "code",
   "execution_count": 229,
   "id": "9dc9f35e",
   "metadata": {},
   "outputs": [
    {
     "data": {
      "text/plain": [
       "Bathroom\n",
       "1.0     12969\n",
       "2.0     11064\n",
       "3.0      2181\n",
       "4.0       269\n",
       "5.0        77\n",
       "0.0        46\n",
       "6.0        16\n",
       "7.0         4\n",
       "8.0         3\n",
       "12.0        1\n",
       "9.0         1\n",
       "Name: count, dtype: int64"
      ]
     },
     "execution_count": 229,
     "metadata": {},
     "output_type": "execute_result"
    }
   ],
   "source": [
    "df['Bathroom'].value_counts()"
   ]
  },
  {
   "cell_type": "code",
   "execution_count": 230,
   "id": "a5c22006",
   "metadata": {},
   "outputs": [],
   "source": [
    "df['Bathroom'] = df['Bathroom'].fillna(1.0)"
   ]
  },
  {
   "cell_type": "code",
   "execution_count": 231,
   "id": "4aad2de0",
   "metadata": {},
   "outputs": [
    {
     "data": {
      "text/plain": [
       "0"
      ]
     },
     "execution_count": 231,
     "metadata": {},
     "output_type": "execute_result"
    }
   ],
   "source": [
    "df['Bathroom'].isna().sum()"
   ]
  },
  {
   "cell_type": "code",
   "execution_count": 232,
   "id": "fbfd3616",
   "metadata": {},
   "outputs": [
    {
     "data": {
      "text/plain": [
       "array([ 1.,  0.,  4.,  2.,  6., nan,  3.,  7.,  5.,  9.,  8., 10., 12.,\n",
       "       11., 26., 18.])"
      ]
     },
     "execution_count": 232,
     "metadata": {},
     "output_type": "execute_result"
    }
   ],
   "source": [
    "df['Car'].unique()"
   ]
  },
  {
   "cell_type": "code",
   "execution_count": 233,
   "id": "ce3facfe",
   "metadata": {},
   "outputs": [
    {
     "data": {
      "text/plain": [
       "Car\n",
       "2.0     12214\n",
       "1.0      9164\n",
       "0.0      1631\n",
       "3.0      1606\n",
       "4.0      1161\n",
       "5.0       151\n",
       "6.0       140\n",
       "7.0        25\n",
       "8.0        23\n",
       "10.0        6\n",
       "9.0         3\n",
       "11.0        2\n",
       "12.0        1\n",
       "26.0        1\n",
       "18.0        1\n",
       "Name: count, dtype: int64"
      ]
     },
     "execution_count": 233,
     "metadata": {},
     "output_type": "execute_result"
    }
   ],
   "source": [
    "df['Car'].value_counts()"
   ]
  },
  {
   "cell_type": "code",
   "execution_count": 234,
   "id": "2f0428b7",
   "metadata": {},
   "outputs": [],
   "source": [
    "df['Car'] = df['Car'].fillna(2.0)"
   ]
  },
  {
   "cell_type": "code",
   "execution_count": 235,
   "id": "e1a5c3a2",
   "metadata": {},
   "outputs": [
    {
     "data": {
      "text/plain": [
       "0"
      ]
     },
     "execution_count": 235,
     "metadata": {},
     "output_type": "execute_result"
    }
   ],
   "source": [
    "df['Car'].isna().sum()"
   ]
  },
  {
   "cell_type": "code",
   "execution_count": 236,
   "id": "75e78cfc",
   "metadata": {},
   "outputs": [
    {
     "name": "stdout",
     "output_type": "stream",
     "text": [
      "<class 'pandas.core.frame.DataFrame'>\n",
      "RangeIndex: 34857 entries, 0 to 34856\n",
      "Data columns (total 22 columns):\n",
      " #   Column         Non-Null Count  Dtype  \n",
      "---  ------         --------------  -----  \n",
      " 0   Suburb         34857 non-null  object \n",
      " 1   Address        34857 non-null  object \n",
      " 2   Rooms          34857 non-null  int64  \n",
      " 3   Type           34857 non-null  int64  \n",
      " 4   Method         34857 non-null  object \n",
      " 5   SellerG        34857 non-null  object \n",
      " 6   Date           34857 non-null  object \n",
      " 7   Distance       34857 non-null  float64\n",
      " 8   Postcode       34857 non-null  float64\n",
      " 9   Bedroom        34857 non-null  float64\n",
      " 10  Bathroom       34857 non-null  float64\n",
      " 11  Car            34857 non-null  float64\n",
      " 12  Landsize       23047 non-null  float64\n",
      " 13  BuildingArea   13760 non-null  object \n",
      " 14  YearBuilt      15551 non-null  float64\n",
      " 15  CouncilArea    34854 non-null  object \n",
      " 16  Latitude       26881 non-null  float64\n",
      " 17  Longtitude     26881 non-null  float64\n",
      " 18  Regionname     34857 non-null  object \n",
      " 19  Propertycount  34854 non-null  float64\n",
      " 20  ParkingArea    34857 non-null  object \n",
      " 21  Price          27247 non-null  float64\n",
      "dtypes: float64(11), int64(2), object(9)\n",
      "memory usage: 5.9+ MB\n"
     ]
    }
   ],
   "source": [
    "df.info()"
   ]
  },
  {
   "cell_type": "code",
   "execution_count": 237,
   "id": "0467e10e",
   "metadata": {},
   "outputs": [
    {
     "data": {
      "text/plain": [
       "array([ 126.,  303.,  120., ..., 2193., 1357., 9833.])"
      ]
     },
     "execution_count": 237,
     "metadata": {},
     "output_type": "execute_result"
    }
   ],
   "source": [
    "df['Landsize'].unique()"
   ]
  },
  {
   "cell_type": "code",
   "execution_count": 238,
   "id": "ef303502",
   "metadata": {},
   "outputs": [
    {
     "data": {
      "text/plain": [
       "593.598993361392"
      ]
     },
     "execution_count": 238,
     "metadata": {},
     "output_type": "execute_result"
    }
   ],
   "source": [
    "df['Landsize'].mean()"
   ]
  },
  {
   "cell_type": "code",
   "execution_count": 239,
   "id": "e0cc60cc",
   "metadata": {},
   "outputs": [
    {
     "data": {
      "text/plain": [
       "11810"
      ]
     },
     "execution_count": 239,
     "metadata": {},
     "output_type": "execute_result"
    }
   ],
   "source": [
    "df['Landsize'].isna().sum()"
   ]
  },
  {
   "cell_type": "code",
   "execution_count": 240,
   "id": "e7c214da",
   "metadata": {},
   "outputs": [],
   "source": [
    "df['Landsize'].fillna(df['Landsize'].mean(), inplace = True)"
   ]
  },
  {
   "cell_type": "code",
   "execution_count": 241,
   "id": "a1b9a857",
   "metadata": {},
   "outputs": [
    {
     "data": {
      "text/plain": [
       "0"
      ]
     },
     "execution_count": 241,
     "metadata": {},
     "output_type": "execute_result"
    }
   ],
   "source": [
    "df['Landsize'].isna().sum()"
   ]
  },
  {
   "cell_type": "code",
   "execution_count": 242,
   "id": "c5dd73df",
   "metadata": {},
   "outputs": [
    {
     "data": {
      "text/plain": [
       "array(['inf', '225', '82', '122', '263', '242', '108', '251', '117',\n",
       "       'missing', '76', '135', '399', '118', '103', '180', nan, '123',\n",
       "       '218', '129', '167', '154', '275', '121', '146', '125', '255',\n",
       "       '94', '75', '254', '156', '404', '240', '370', '268', '202', '203',\n",
       "       '69', '140', '214', '253', '189', '215', '195', '96', '104', '100',\n",
       "       '313', '144', '130', '64', '93', '106', '107', '110', '70', '132',\n",
       "       '229', '51', '147', '113', '83', '56', '137', '85', '175', '3558',\n",
       "       '170', '259', '265', '353', '138', '19', '116', '87', '74', '320',\n",
       "       '300', '52', '210', '120', '86', '97', '152', '200', '14', '161',\n",
       "       '128', '178', '185', '109', '53', '133', '115', '143', '150',\n",
       "       '236', '276', '188', '179', '249', '141', '349', '192', '34', '73',\n",
       "       '84', '81', '207', '50', '197', '264', '312', '235', '221', '260',\n",
       "       '183', '160', '186', '78', '105', '145', '168', '62', '111', '220',\n",
       "       '315', '181', '500', '61', '112', '420', '226', '266', '410',\n",
       "       '449', '356', '477', '205', '250', '95', '190', '193', '58', '136',\n",
       "       '284', '432', '258', '247', '162', '213', '174', '209', '119',\n",
       "       '348', '238', '166', '44', '134', '176', '98', '159', '79', '71',\n",
       "       '60', '33', '89', '230', '217', '3', '127', '187', '228', '99',\n",
       "       '49', '201', '12', '63', '223', '102', '327', '4', '16', '165',\n",
       "       '65', '139', '280', '67', '272', '38', '172', '182', '211', '153',\n",
       "       '169', '66', '285', '91', '374', '163', '288', '124', '227', '233',\n",
       "       '2', '39', '151', '279', '405', '252', '199', '158', '126', '80',\n",
       "       '57', '142', '36', '77', '435', '92', '149', '114', '594', '274',\n",
       "       '40', '68', '164', '350', '204', '481', '257', '323', '314', '157',\n",
       "       '378', '55', '309', '88', '54', '90', '148', '243', '47', '191',\n",
       "       '335', '808', '302', '326', '520', '212', '222', '171', '360',\n",
       "       '101', '325', '267', '342', '196', '256', '15', '155', '234', '72',\n",
       "       '330', '177', '341', '340', '394', '245', '270', '42', '232',\n",
       "       '131', '297', '237', '194', '173', '46', '465', '301', '303', '45',\n",
       "       '387', '206', '365', '445', '283', '321', '37', '304', '244',\n",
       "       '305', '43', '41', '22', '467', '287', '393', '59', '292', '618',\n",
       "       '792', '355', '1044', '398', '334', '395', '298', '371', '351',\n",
       "       '248', '224', '426', '286', '308', '1', '198', '291', '331', '277',\n",
       "       '208', '281', '216', '262', '364', '278', '30', '362', '184', '25',\n",
       "       '558', '375', '508', '372', '246', '289', '347', '241', '475',\n",
       "       '412', '413', '400', '593', '101.37', '142.1', '219', '239',\n",
       "       '123.21', '140.7481', '86.5', '30.6', '225.5', '322', '409.54',\n",
       "       '26', '3647', '156.6', '156.5', '544', '227.6', '190.36', '104.63',\n",
       "       '443', '167.13', '148.5', '270.18', '53.3', '98.5', '157.9351',\n",
       "       '328', '54.5', '213.23', '94.3', '4645', '21', '310', '95.88',\n",
       "       '329.24', '261', '105.7', '72.9', '45.4', '69.5', '221.3', '121.6',\n",
       "       '113.2', '186.75', '290', '540', '98.7', '127.8', '231', '268.6',\n",
       "       '106.4', '311', '389', '0', '332', '296', '269', '306', '380',\n",
       "       '367', '48', '346', '35', '5', '294', '524', '28', '458', '195.3',\n",
       "       '385', '196.8', '106.2', '32', '424', '20', '430', '511', '531',\n",
       "       '333', '72.3', '66.23', '101.51', '112.6', '112.9', '316', '99.5',\n",
       "       '77.5', '9', '293', '131.3', '105.23', '352', '391', '121.8',\n",
       "       '82.6', '136.49', '125.6', '502', '125.51', '680', '157.9352',\n",
       "       '126.8', '100.6', '44.4', '198.6', '390', '151.54', '397', '425',\n",
       "       '495', '318', '273', '345', '564', '363', '584', '958', '354',\n",
       "       '622', '337', '317', '529', '697', '602', '6791', '358', '282',\n",
       "       '534', '429', '411', '532', '802', '373', '324', '180.9',\n",
       "       '826.8367', '572', '366', '307', '625', '419', '94.5', '392',\n",
       "       '116.65', '11', '134.6', '183.84', '431', '126.7', '157.85', '18',\n",
       "       '450', '295', '726', '503', '447', '271', '416', '640', '428',\n",
       "       '660', '463', '361', '782', '496', '735', '173.45', '134.3',\n",
       "       '464.3', '76.77', '113.76', '107.4', '255.79', '186.36', '490',\n",
       "       '103.6', '63.7', '162.52', '106.76', '39.5', '423', '329', '319',\n",
       "       '437', '453', '472', '418', '487', '31', '155.4', '116.4',\n",
       "       '182.85', '109.5', '129.7', '665', '148.47', '114.39', '553',\n",
       "       '182.9', '184.75', '193.74', '68.5', '336', '719', '3112', '460',\n",
       "       '344', '414', '525', '1561', '454', '720', '415', '381', '677',\n",
       "       '439', '857', '23', '377', '512', '664', '406', '521', '408',\n",
       "       '6178', '478', '654', '727', '417', '560', '168.01', '306.19',\n",
       "       '515.78', '196.1', '789', '131.27', '167.87', '183.97', '271.5',\n",
       "       '199.5', '29', '446', '75.45', '165.5', '629', '144.65', '263.5',\n",
       "       '585', '516', '17', '27', '444', '427', '338', '506', '643', '518',\n",
       "       '13', '1022', '339', '461', '376', '513', '491', '836', '464',\n",
       "       '386', '603', '613', '179.3', '142.6', '92.9', '147.2', '225.98',\n",
       "       '301.08', '113.81', '401', '737', '784', '530', '82.3', '110.87',\n",
       "       '402', '673', '109.98', '122.25', '105.9', '101.7', '106.9',\n",
       "       '93.82', '132.6', '154.3', '178.74', '88.3', '80.7', '89.25',\n",
       "       '181.6', '299', '104.4', '180.56', '123.5', '542', '1143', '575',\n",
       "       '859', '653', '999', '44515', '438', '686', '649', '357', '121.63',\n",
       "       '736', '371.6122', '199.73', '118.54', '412.31', '298.21', '88.74',\n",
       "       '122.6', '369', '169.5', '42.2', '489', '135.5', '266.76', '272.4',\n",
       "       '0.01', '229.8', '177.8', '139.4', '700', '766', '538', '528',\n",
       "       '650', '434', '368', '2002', '557', '7', '396', '924', '638',\n",
       "       '101.76', '634', '195.0964', '470', '130.52', '547', '111.04',\n",
       "       '63.4', '271.47', '92.5', '115.96', '121.84', '122.86', '114.2',\n",
       "       '266.53', '78.54', '85.35', '1041', '607', '407', '440', '10',\n",
       "       '501', '474', '448', 311.0, 162.0, 351.0, 317.0, 365.0, 206.0,\n",
       "       167.0, 262.0, 136.0, 227.0, 239.0, 224.0, 93.0, 111.0, 192.0,\n",
       "       152.0, 117.0, 44.0, 73.0, 160.0, 155.0, 412.0, 97.0, 200.0, 350.0,\n",
       "       140.0, 130.0, 0.0, 132.0, 165.0, 246.0, 401.0, 466.0, 126.0, 149.0,\n",
       "       127.0, 174.0, 145.0, 30.0, 337.0, 230.0, 332.0, 251.0, 175.0,\n",
       "       453.0, 229.0, 64.0, 235.0, 110.0, 119.0, 85.0, 739.0, 137.0, 122.0,\n",
       "       189.0, 163.0, 146.0, 115.0, 218.0, 172.0, 121.0, 150.0, 253.0,\n",
       "       219.0, 183.0, 213.0, 168.0, 210.0, 264.0, 89.0, 215.0, 236.0,\n",
       "       205.0, 281.0, 104.0, 124.0, 170.0, 100.0, 101.0, 156.0, 193.0,\n",
       "       292.0, 108.0, 158.0, 258.0, 360.0, 123.0, 95.0, 143.0, 147.0,\n",
       "       217.0, 148.0, 203.0, 81.0, 142.0, 181.0, 208.0, 118.0, 216.0,\n",
       "       379.0, 240.0, 116.0, 220.0, 223.0, 298.0, 245.0, 180.0, 144.0,\n",
       "       159.0, 94.0, 186.0, 91.0, 75.0, 92.0, 312.0, 109.0, 191.0, 179.0,\n",
       "       297.0, 296.0, 249.0, 103.0, 238.0, 177.0, 325.0, 275.0, 138.0,\n",
       "       209.0, 340.0, 228.0, 125.0, 128.0, 113.0, 204.0, 250.0, 342.0,\n",
       "       153.0, 185.0, 164.0, 320.0, 135.0, 188.0, 139.0, 74.0, 261.0,\n",
       "       169.0, 114.0, 151.0, 88.0, 553.0, 287.0, 52.0, 197.0, 173.0, 214.0,\n",
       "       207.0, 614.0, 194.0, 182.0, 176.0, 80.0, 134.0, 59.0, 129.0, 107.0,\n",
       "       112.0, 184.0, 421.0, 294.0, 82.0, 195.0, 295.0, 212.0, 233.0,\n",
       "       222.0, 269.0, 260.0, 385.0, 199.0, 286.0, 280.0, 33.0, 255.0,\n",
       "       276.0, 198.0, 265.0, 242.0, 131.0, 105.0, 178.0, 231.33, 161.0,\n",
       "       70.0, 48.0, 68.11, 271.0, 84.0, 61.0, 153.1, 285.0, 120.0, 53.0,\n",
       "       67.0, 85.2, 106.0, 133.0, 90.0, 80.74, 274.0, 309.0, 166.0, 99.0,\n",
       "       65.0, 1.0, 77.0, 46.0, 71.0, 54.0, 93.84, 124.45, 300.0, 96.0,\n",
       "       210.68, 98.0, 51.0, 76.0, 232.0, 102.0, 145.4, 79.0, 47.0, 160.91,\n",
       "       225.0, 243.0, 283.0, 83.0, 200.71, 285.7, 60.0, 100.8, 69.0, 81.79,\n",
       "       27.0, 190.0, 221.0, 306.0, 78.0, 934.0, 703.0, 129.92, 196.0,\n",
       "       141.0, 45.0, 58.0, 86.0, 436.64, 202.0, 43.7, 63.0, 113.6, 66.32,\n",
       "       237.0, 35.64, 61.6, 388.5, 273.0, 323.0, 157.0, 4.0, 672.0, 55.0,\n",
       "       307.0, 234.0, 43.0, 187.0, 20.0, 35.0, 72.0, 68.0, 357.0, 38.0,\n",
       "       154.0], dtype=object)"
      ]
     },
     "execution_count": 242,
     "metadata": {},
     "output_type": "execute_result"
    }
   ],
   "source": [
    "df['BuildingArea'].unique()"
   ]
  },
  {
   "cell_type": "code",
   "execution_count": 243,
   "id": "60810a3e",
   "metadata": {},
   "outputs": [
    {
     "data": {
      "text/plain": [
       "BuildingArea\n",
       "120       177\n",
       "110       152\n",
       "100       148\n",
       "130       145\n",
       "115       139\n",
       "         ... \n",
       "85.35       1\n",
       "78.54       1\n",
       "266.53      1\n",
       "114.2       1\n",
       "154.0       1\n",
       "Name: count, Length: 994, dtype: int64"
      ]
     },
     "execution_count": 243,
     "metadata": {},
     "output_type": "execute_result"
    }
   ],
   "source": [
    "df['BuildingArea'].value_counts()"
   ]
  },
  {
   "cell_type": "code",
   "execution_count": 244,
   "id": "b55add15",
   "metadata": {},
   "outputs": [],
   "source": [
    "df['BuildingArea'].replace({'inf':120,'missing':110}, inplace = True)"
   ]
  },
  {
   "cell_type": "code",
   "execution_count": 245,
   "id": "c55ace72",
   "metadata": {},
   "outputs": [],
   "source": [
    "df['BuildingArea']= df['BuildingArea'].fillna(120)"
   ]
  },
  {
   "cell_type": "code",
   "execution_count": 246,
   "id": "018da981",
   "metadata": {},
   "outputs": [
    {
     "data": {
      "text/plain": [
       "0"
      ]
     },
     "execution_count": 246,
     "metadata": {},
     "output_type": "execute_result"
    }
   ],
   "source": [
    "df['BuildingArea'].isna().sum()"
   ]
  },
  {
   "cell_type": "code",
   "execution_count": 247,
   "id": "909261c0",
   "metadata": {},
   "outputs": [
    {
     "name": "stdout",
     "output_type": "stream",
     "text": [
      "Suburb            object\n",
      "Address           object\n",
      "Rooms              int64\n",
      "Type               int64\n",
      "Method            object\n",
      "SellerG           object\n",
      "Date              object\n",
      "Distance         float64\n",
      "Postcode         float64\n",
      "Bedroom          float64\n",
      "Bathroom         float64\n",
      "Car              float64\n",
      "Landsize         float64\n",
      "BuildingArea     float64\n",
      "YearBuilt        float64\n",
      "CouncilArea       object\n",
      "Latitude         float64\n",
      "Longtitude       float64\n",
      "Regionname        object\n",
      "Propertycount    float64\n",
      "ParkingArea       object\n",
      "Price            float64\n",
      "dtype: object\n"
     ]
    }
   ],
   "source": [
    "df['BuildingArea'] = df['BuildingArea'].astype(float)\n",
    "print(df.dtypes)"
   ]
  },
  {
   "cell_type": "code",
   "execution_count": 248,
   "id": "b2242eb1",
   "metadata": {},
   "outputs": [
    {
     "data": {
      "text/plain": [
       "array([  nan, 2016., 1900., 2003., 1930., 2013., 2015., 1950., 1965.,\n",
       "       1970., 1964., 1910., 1960., 1980., 1920., 1985., 2000., 1974.,\n",
       "       1997., 2008., 1940., 1915., 1998., 1905., 1957., 1890., 1935.,\n",
       "       2004., 1989., 2009., 1955., 1993., 1830., 1975., 1925., 2010.,\n",
       "       1880., 2007., 2001., 2005., 1904., 1971., 1995., 1990., 1983.,\n",
       "       2012., 2014., 1857., 1978., 1889., 2017., 1999., 1977., 2006.,\n",
       "       2011., 2002., 1938., 1919., 1969., 1863., 1893., 1945., 1912.,\n",
       "       1968., 1972., 1943., 1951., 1922., 1996., 1992., 1958., 1962.,\n",
       "       1967., 1934., 1887., 1976., 1973., 1994., 1982., 1907., 1918.,\n",
       "       1986., 1953., 1928., 1948., 1931., 1941., 1949., 1988., 1991.,\n",
       "       1924., 1923., 1897., 1984., 1987., 1856., 1860., 2106., 1902.,\n",
       "       1966., 1961., 1929., 1952., 1885., 1881., 1870., 1959., 1926.,\n",
       "       1939., 1903., 1911., 1906., 1868., 1963., 1927., 1956., 1979.,\n",
       "       1884., 1917., 1898., 1888., 1954., 1909., 1894., 1854., 1946.,\n",
       "       1937., 1871., 1981., 1895., 1914., 1908., 1921., 1913., 1872.,\n",
       "       1936., 1875., 1947., 1932., 1891., 1862., 2018., 1899., 1855.,\n",
       "       1869., 1933., 1916., 1886., 2019., 1892., 1877., 1901., 1850.,\n",
       "       1896., 1800., 1879., 1196., 1883., 1942., 1876., 1820.])"
      ]
     },
     "execution_count": 248,
     "metadata": {},
     "output_type": "execute_result"
    }
   ],
   "source": [
    "df['YearBuilt'].unique()"
   ]
  },
  {
   "cell_type": "code",
   "execution_count": 249,
   "id": "35feeb32",
   "metadata": {},
   "outputs": [
    {
     "data": {
      "text/plain": [
       "YearBuilt\n",
       "1970.0    1490\n",
       "1960.0    1260\n",
       "1950.0    1089\n",
       "1980.0     726\n",
       "1900.0     606\n",
       "          ... \n",
       "1856.0       1\n",
       "1871.0       1\n",
       "2106.0       1\n",
       "1884.0       1\n",
       "1820.0       1\n",
       "Name: count, Length: 160, dtype: int64"
      ]
     },
     "execution_count": 249,
     "metadata": {},
     "output_type": "execute_result"
    }
   ],
   "source": [
    "df['YearBuilt'].value_counts()"
   ]
  },
  {
   "cell_type": "code",
   "execution_count": 250,
   "id": "7df5cb86",
   "metadata": {},
   "outputs": [],
   "source": [
    "df['YearBuilt'] = df['YearBuilt'].fillna(1970.0)"
   ]
  },
  {
   "cell_type": "code",
   "execution_count": 251,
   "id": "e8913e4f",
   "metadata": {},
   "outputs": [
    {
     "data": {
      "text/plain": [
       "0"
      ]
     },
     "execution_count": 251,
     "metadata": {},
     "output_type": "execute_result"
    }
   ],
   "source": [
    "df['YearBuilt'].isna().sum()"
   ]
  },
  {
   "cell_type": "code",
   "execution_count": 252,
   "id": "ae49b8de",
   "metadata": {},
   "outputs": [
    {
     "name": "stdout",
     "output_type": "stream",
     "text": [
      "<class 'pandas.core.frame.DataFrame'>\n",
      "RangeIndex: 34857 entries, 0 to 34856\n",
      "Data columns (total 22 columns):\n",
      " #   Column         Non-Null Count  Dtype  \n",
      "---  ------         --------------  -----  \n",
      " 0   Suburb         34857 non-null  object \n",
      " 1   Address        34857 non-null  object \n",
      " 2   Rooms          34857 non-null  int64  \n",
      " 3   Type           34857 non-null  int64  \n",
      " 4   Method         34857 non-null  object \n",
      " 5   SellerG        34857 non-null  object \n",
      " 6   Date           34857 non-null  object \n",
      " 7   Distance       34857 non-null  float64\n",
      " 8   Postcode       34857 non-null  float64\n",
      " 9   Bedroom        34857 non-null  float64\n",
      " 10  Bathroom       34857 non-null  float64\n",
      " 11  Car            34857 non-null  float64\n",
      " 12  Landsize       34857 non-null  float64\n",
      " 13  BuildingArea   34857 non-null  float64\n",
      " 14  YearBuilt      34857 non-null  float64\n",
      " 15  CouncilArea    34854 non-null  object \n",
      " 16  Latitude       26881 non-null  float64\n",
      " 17  Longtitude     26881 non-null  float64\n",
      " 18  Regionname     34857 non-null  object \n",
      " 19  Propertycount  34854 non-null  float64\n",
      " 20  ParkingArea    34857 non-null  object \n",
      " 21  Price          27247 non-null  float64\n",
      "dtypes: float64(12), int64(2), object(8)\n",
      "memory usage: 5.9+ MB\n"
     ]
    }
   ],
   "source": [
    "df.info()"
   ]
  },
  {
   "cell_type": "code",
   "execution_count": 253,
   "id": "aa8b2aab",
   "metadata": {},
   "outputs": [
    {
     "data": {
      "text/plain": [
       "array([     nan,  840000., 1275000., ...,  354000.,  190000.,  780500.])"
      ]
     },
     "execution_count": 253,
     "metadata": {},
     "output_type": "execute_result"
    }
   ],
   "source": [
    "df['Price'].unique()"
   ]
  },
  {
   "cell_type": "code",
   "execution_count": 254,
   "id": "5ee410f3",
   "metadata": {},
   "outputs": [
    {
     "data": {
      "text/plain": [
       "1050173.344955408"
      ]
     },
     "execution_count": 254,
     "metadata": {},
     "output_type": "execute_result"
    }
   ],
   "source": [
    "df['Price'].mean()"
   ]
  },
  {
   "cell_type": "code",
   "execution_count": 255,
   "id": "6d099e4c",
   "metadata": {},
   "outputs": [],
   "source": [
    "df['Price'].fillna(df['Price'].mean(), inplace = True)"
   ]
  },
  {
   "cell_type": "code",
   "execution_count": 256,
   "id": "3004431e",
   "metadata": {},
   "outputs": [
    {
     "data": {
      "text/plain": [
       "0"
      ]
     },
     "execution_count": 256,
     "metadata": {},
     "output_type": "execute_result"
    }
   ],
   "source": [
    "df['Price'].isna().sum()"
   ]
  },
  {
   "cell_type": "code",
   "execution_count": 257,
   "id": "eff7a163",
   "metadata": {},
   "outputs": [
    {
     "data": {
      "text/plain": [
       "array([ 4019.,  3464.,  3280.,  2211.,  5301.,  5132.,  4836.,  6567.,\n",
       "        3052.,  2894.,  4502.,  2952.,  5682.,  7809.,  6795., 10969.,\n",
       "        4605.,  3589., 10579.,  6938., 11918.,  7082.,  4480.,  5678.,\n",
       "        8920.,  3265.,  3106.,  7822.,  2379.,  6923.,  5051.,  3582.,\n",
       "        2954., 11204.,  3445.,  4553.,  9028.,  1651.,  4898.,  8989.,\n",
       "        9264.,  1308.,  2970.,  5825.,  6244.,  3593.,  7570., 10412.,\n",
       "        8870.,  1071.,  2606.,  5454.,  2356., 11308.,  2947.,  2674.,\n",
       "        3145.,  5549.,  1202.,  5629.,  5263., 10331.,  2671.,   394.,\n",
       "        3873.,  4675.,  8801.,  4918., 17496.,  2019.,  2079.,  6232.,\n",
       "        2555.,  5498.,  2291.,  6821., 11364.,  2651.,  3692.,  2309.,\n",
       "        7485.,  8648.,  7717., 14577., 21650., 14949.,  3540.,  2417.,\n",
       "        5943., 14887.,  8400.,  1223., 13240.,  3284.,  3755.,  4217.,\n",
       "        6763.,  5457.,  5420.,  7217.,  2698.,  2329.,  2230.,  6380.,\n",
       "         802.,  4380.,  1369.,  6543.,  1543.,   790.,  5533.,   438.,\n",
       "        1889.,  6786.,  3040.,   588.,  5070.,  6482.,  2890.,  1554.,\n",
       "         851.,  1414.,  1808.,  4442.,  3578.,  5058.,  2185.,  2403.,\n",
       "        3224.,  1123.,  4707.,   984.,   389.,  1052.,   608.,   852.,\n",
       "         962.,   821.,  1119.,  7630.,  1281.,  1130.,  5030.,  3598.,\n",
       "        5366., 17093.,  5713.,  4387.,  9704.,  1390.,  4294., 10175.,\n",
       "        1686.,  4048.,  7719.,  9758.,  2727.,  5837.,  2987., 15510.,\n",
       "        7680., 11925.,  1705.,  2985., 10894.,  8322.,  4258.,  3940.,\n",
       "       10999.,  4790.,  7254.,  2546.,  6990.,  2346.,  2259., 10926.,\n",
       "         845., 10788.,  4385., 17055.,  2500.,  7566.,  3376.,  3285.,\n",
       "       15321.,  8524.,  4864.,  3728.,  3307.,  3794.,  4794.,  5556.,\n",
       "       13830.,   768.,  3656.,   570.,  8459.,  2878.,  8279.,  1624.,\n",
       "        2322.,  4168.,  3600.,  4718.,  6065.,  6162.,  5812.,  1158.,\n",
       "       10529.,  6871.,  3891.,  2493.,  3650., 13366.,  7113.,  9376.,\n",
       "       11806.,  4973.,  2547.,  5087., 15542.,  1008.,  7785.,  4407.,\n",
       "         538., 11667.,  5833.,  4497.,  1793.,  8077.,  2756.,  7969.,\n",
       "        7412.,  4054., 14042.,   915., 14092.,  3640., 10160.,  4242.,\n",
       "        5336.,   869.,  6202.,  1690.,  7955.,  5811.,  3296.,  4181.,\n",
       "        4280.,  5424., 16166.,  2474.,  1999.,  2940.,  5262.,  2824.,\n",
       "        2866.,  2867.,  2887.,  1989.,  3906.,  4734.,  2246.,  2898.,\n",
       "        3533.,  2397.,  8280., 17384.,  3619.,  2206.,  2003.,  1442.,\n",
       "         642.,  7392.,  1899.,  1607.,  2076.,  1124.,  2276.,  8443.,\n",
       "        4654.,  8743.,  4704.,   849.,   902.,  1863.,  1184.,  3988.,\n",
       "         709.,  2871.,  3789.,  6388.,  2949.,  2004.,  6732.,  3532.,\n",
       "        2768.,  1490.,  1595.,   534.,  8060.,  6464.,  8256.,  2339.,\n",
       "        2243.,   129.,  1345.,  1058.,  4939.,   892.,  2170.,   249.,\n",
       "          nan,  3553.,  1328.,   604.,  1048.,  1475.,   938.,  1721.,\n",
       "        2591.,  2126.,   335.,    83.,   794.,  3351.,   121.,  1588.,\n",
       "        5462.,  1240.,   271.,   810.,   242.,  3122.,   777.,  2332.,\n",
       "        1160.,   973.,   342.,  2992.,   457.,   290.,  1424.])"
      ]
     },
     "execution_count": 257,
     "metadata": {},
     "output_type": "execute_result"
    }
   ],
   "source": [
    "df['Propertycount'].unique()"
   ]
  },
  {
   "cell_type": "code",
   "execution_count": 258,
   "id": "badadc74",
   "metadata": {},
   "outputs": [
    {
     "data": {
      "text/plain": [
       "7572.8883055029555"
      ]
     },
     "execution_count": 258,
     "metadata": {},
     "output_type": "execute_result"
    }
   ],
   "source": [
    "df['Propertycount'].mean()"
   ]
  },
  {
   "cell_type": "code",
   "execution_count": 259,
   "id": "0838b3be",
   "metadata": {},
   "outputs": [],
   "source": [
    "df['Propertycount'].fillna(df['Propertycount'].mean(), inplace = True)"
   ]
  },
  {
   "cell_type": "code",
   "execution_count": 260,
   "id": "2659e672",
   "metadata": {},
   "outputs": [
    {
     "data": {
      "text/plain": [
       "0"
      ]
     },
     "execution_count": 260,
     "metadata": {},
     "output_type": "execute_result"
    }
   ],
   "source": [
    "df['Propertycount'].isna().sum()"
   ]
  },
  {
   "cell_type": "code",
   "execution_count": 261,
   "id": "8c12c86a",
   "metadata": {},
   "outputs": [
    {
     "name": "stdout",
     "output_type": "stream",
     "text": [
      "<class 'pandas.core.frame.DataFrame'>\n",
      "RangeIndex: 34857 entries, 0 to 34856\n",
      "Data columns (total 22 columns):\n",
      " #   Column         Non-Null Count  Dtype  \n",
      "---  ------         --------------  -----  \n",
      " 0   Suburb         34857 non-null  object \n",
      " 1   Address        34857 non-null  object \n",
      " 2   Rooms          34857 non-null  int64  \n",
      " 3   Type           34857 non-null  int64  \n",
      " 4   Method         34857 non-null  object \n",
      " 5   SellerG        34857 non-null  object \n",
      " 6   Date           34857 non-null  object \n",
      " 7   Distance       34857 non-null  float64\n",
      " 8   Postcode       34857 non-null  float64\n",
      " 9   Bedroom        34857 non-null  float64\n",
      " 10  Bathroom       34857 non-null  float64\n",
      " 11  Car            34857 non-null  float64\n",
      " 12  Landsize       34857 non-null  float64\n",
      " 13  BuildingArea   34857 non-null  float64\n",
      " 14  YearBuilt      34857 non-null  float64\n",
      " 15  CouncilArea    34854 non-null  object \n",
      " 16  Latitude       26881 non-null  float64\n",
      " 17  Longtitude     26881 non-null  float64\n",
      " 18  Regionname     34857 non-null  object \n",
      " 19  Propertycount  34857 non-null  float64\n",
      " 20  ParkingArea    34857 non-null  object \n",
      " 21  Price          34857 non-null  float64\n",
      "dtypes: float64(12), int64(2), object(8)\n",
      "memory usage: 5.9+ MB\n"
     ]
    }
   ],
   "source": [
    "df.info()"
   ]
  },
  {
   "cell_type": "code",
   "execution_count": 262,
   "id": "ba4c13db",
   "metadata": {},
   "outputs": [
    {
     "data": {
      "text/plain": [
       "Suburb              0\n",
       "Address             0\n",
       "Rooms               0\n",
       "Type                0\n",
       "Method              0\n",
       "SellerG             0\n",
       "Date                0\n",
       "Distance            0\n",
       "Postcode            0\n",
       "Bedroom             0\n",
       "Bathroom            0\n",
       "Car                 0\n",
       "Landsize            0\n",
       "BuildingArea        0\n",
       "YearBuilt           0\n",
       "CouncilArea         3\n",
       "Latitude         7976\n",
       "Longtitude       7976\n",
       "Regionname          0\n",
       "Propertycount       0\n",
       "ParkingArea         0\n",
       "Price               0\n",
       "dtype: int64"
      ]
     },
     "execution_count": 262,
     "metadata": {},
     "output_type": "execute_result"
    }
   ],
   "source": [
    "df.isna().sum()"
   ]
  },
  {
   "cell_type": "code",
   "execution_count": 263,
   "id": "71e21c06",
   "metadata": {},
   "outputs": [
    {
     "data": {
      "text/html": [
       "<div>\n",
       "<style scoped>\n",
       "    .dataframe tbody tr th:only-of-type {\n",
       "        vertical-align: middle;\n",
       "    }\n",
       "\n",
       "    .dataframe tbody tr th {\n",
       "        vertical-align: top;\n",
       "    }\n",
       "\n",
       "    .dataframe thead th {\n",
       "        text-align: right;\n",
       "    }\n",
       "</style>\n",
       "<table border=\"1\" class=\"dataframe\">\n",
       "  <thead>\n",
       "    <tr style=\"text-align: right;\">\n",
       "      <th></th>\n",
       "      <th>Suburb</th>\n",
       "      <th>Address</th>\n",
       "      <th>Rooms</th>\n",
       "      <th>Type</th>\n",
       "      <th>Method</th>\n",
       "      <th>SellerG</th>\n",
       "      <th>Date</th>\n",
       "      <th>Distance</th>\n",
       "      <th>Postcode</th>\n",
       "      <th>Bedroom</th>\n",
       "      <th>...</th>\n",
       "      <th>Landsize</th>\n",
       "      <th>BuildingArea</th>\n",
       "      <th>YearBuilt</th>\n",
       "      <th>CouncilArea</th>\n",
       "      <th>Latitude</th>\n",
       "      <th>Longtitude</th>\n",
       "      <th>Regionname</th>\n",
       "      <th>Propertycount</th>\n",
       "      <th>ParkingArea</th>\n",
       "      <th>Price</th>\n",
       "    </tr>\n",
       "  </thead>\n",
       "  <tbody>\n",
       "    <tr>\n",
       "      <th>0</th>\n",
       "      <td>Abbotsford</td>\n",
       "      <td>68 Studley St</td>\n",
       "      <td>2</td>\n",
       "      <td>1</td>\n",
       "      <td>SS</td>\n",
       "      <td>Jellis</td>\n",
       "      <td>3/9/2016</td>\n",
       "      <td>2.5</td>\n",
       "      <td>3067.0</td>\n",
       "      <td>2.0</td>\n",
       "      <td>...</td>\n",
       "      <td>126.000000</td>\n",
       "      <td>120.0</td>\n",
       "      <td>1970.0</td>\n",
       "      <td>Yarra City Council</td>\n",
       "      <td>-37.80140</td>\n",
       "      <td>144.99580</td>\n",
       "      <td>Northern Metropolitan</td>\n",
       "      <td>4019.0</td>\n",
       "      <td>Carport</td>\n",
       "      <td>1.050173e+06</td>\n",
       "    </tr>\n",
       "    <tr>\n",
       "      <th>1</th>\n",
       "      <td>Airport West</td>\n",
       "      <td>154 Halsey Rd</td>\n",
       "      <td>3</td>\n",
       "      <td>3</td>\n",
       "      <td>PI</td>\n",
       "      <td>Nelson</td>\n",
       "      <td>3/9/2016</td>\n",
       "      <td>13.5</td>\n",
       "      <td>3042.0</td>\n",
       "      <td>3.0</td>\n",
       "      <td>...</td>\n",
       "      <td>303.000000</td>\n",
       "      <td>225.0</td>\n",
       "      <td>2016.0</td>\n",
       "      <td>Moonee Valley City Council</td>\n",
       "      <td>-37.71800</td>\n",
       "      <td>144.87800</td>\n",
       "      <td>Western Metropolitan</td>\n",
       "      <td>3464.0</td>\n",
       "      <td>Detached Garage</td>\n",
       "      <td>8.400000e+05</td>\n",
       "    </tr>\n",
       "    <tr>\n",
       "      <th>2</th>\n",
       "      <td>Albert Park</td>\n",
       "      <td>105 Kerferd Rd</td>\n",
       "      <td>2</td>\n",
       "      <td>1</td>\n",
       "      <td>S</td>\n",
       "      <td>hockingstuart</td>\n",
       "      <td>3/9/2016</td>\n",
       "      <td>3.3</td>\n",
       "      <td>3206.0</td>\n",
       "      <td>2.0</td>\n",
       "      <td>...</td>\n",
       "      <td>120.000000</td>\n",
       "      <td>82.0</td>\n",
       "      <td>1900.0</td>\n",
       "      <td>Port Phillip City Council</td>\n",
       "      <td>-37.84590</td>\n",
       "      <td>144.95550</td>\n",
       "      <td>Southern Metropolitan</td>\n",
       "      <td>3280.0</td>\n",
       "      <td>Attached Garage</td>\n",
       "      <td>1.275000e+06</td>\n",
       "    </tr>\n",
       "    <tr>\n",
       "      <th>3</th>\n",
       "      <td>Albert Park</td>\n",
       "      <td>85 Richardson St</td>\n",
       "      <td>2</td>\n",
       "      <td>1</td>\n",
       "      <td>S</td>\n",
       "      <td>Thomson</td>\n",
       "      <td>3/9/2016</td>\n",
       "      <td>3.3</td>\n",
       "      <td>3206.0</td>\n",
       "      <td>2.0</td>\n",
       "      <td>...</td>\n",
       "      <td>159.000000</td>\n",
       "      <td>120.0</td>\n",
       "      <td>1970.0</td>\n",
       "      <td>Port Phillip City Council</td>\n",
       "      <td>-37.84500</td>\n",
       "      <td>144.95380</td>\n",
       "      <td>Southern Metropolitan</td>\n",
       "      <td>3280.0</td>\n",
       "      <td>Indoor</td>\n",
       "      <td>1.455000e+06</td>\n",
       "    </tr>\n",
       "    <tr>\n",
       "      <th>4</th>\n",
       "      <td>Alphington</td>\n",
       "      <td>30 Austin St</td>\n",
       "      <td>3</td>\n",
       "      <td>1</td>\n",
       "      <td>SN</td>\n",
       "      <td>McGrath</td>\n",
       "      <td>3/9/2016</td>\n",
       "      <td>6.4</td>\n",
       "      <td>3078.0</td>\n",
       "      <td>3.0</td>\n",
       "      <td>...</td>\n",
       "      <td>174.000000</td>\n",
       "      <td>122.0</td>\n",
       "      <td>2003.0</td>\n",
       "      <td>Darebin City Council</td>\n",
       "      <td>-37.78180</td>\n",
       "      <td>145.01980</td>\n",
       "      <td>Northern Metropolitan</td>\n",
       "      <td>2211.0</td>\n",
       "      <td>Parkade</td>\n",
       "      <td>1.050173e+06</td>\n",
       "    </tr>\n",
       "    <tr>\n",
       "      <th>...</th>\n",
       "      <td>...</td>\n",
       "      <td>...</td>\n",
       "      <td>...</td>\n",
       "      <td>...</td>\n",
       "      <td>...</td>\n",
       "      <td>...</td>\n",
       "      <td>...</td>\n",
       "      <td>...</td>\n",
       "      <td>...</td>\n",
       "      <td>...</td>\n",
       "      <td>...</td>\n",
       "      <td>...</td>\n",
       "      <td>...</td>\n",
       "      <td>...</td>\n",
       "      <td>...</td>\n",
       "      <td>...</td>\n",
       "      <td>...</td>\n",
       "      <td>...</td>\n",
       "      <td>...</td>\n",
       "      <td>...</td>\n",
       "      <td>...</td>\n",
       "    </tr>\n",
       "    <tr>\n",
       "      <th>34852</th>\n",
       "      <td>Reservoir</td>\n",
       "      <td>18 Elinda Pl</td>\n",
       "      <td>3</td>\n",
       "      <td>2</td>\n",
       "      <td>SP</td>\n",
       "      <td>RW</td>\n",
       "      <td>30/09/2017</td>\n",
       "      <td>12.0</td>\n",
       "      <td>3073.0</td>\n",
       "      <td>3.0</td>\n",
       "      <td>...</td>\n",
       "      <td>593.598993</td>\n",
       "      <td>105.0</td>\n",
       "      <td>1990.0</td>\n",
       "      <td>Darebin City Council</td>\n",
       "      <td>-37.69769</td>\n",
       "      <td>145.02332</td>\n",
       "      <td>Northern Metropolitan</td>\n",
       "      <td>21650.0</td>\n",
       "      <td>Parkade</td>\n",
       "      <td>4.750000e+05</td>\n",
       "    </tr>\n",
       "    <tr>\n",
       "      <th>34853</th>\n",
       "      <td>Roxburgh Park</td>\n",
       "      <td>14 Stainsby Cr</td>\n",
       "      <td>4</td>\n",
       "      <td>1</td>\n",
       "      <td>S</td>\n",
       "      <td>Raine</td>\n",
       "      <td>30/09/2017</td>\n",
       "      <td>20.6</td>\n",
       "      <td>3064.0</td>\n",
       "      <td>4.0</td>\n",
       "      <td>...</td>\n",
       "      <td>593.598993</td>\n",
       "      <td>225.0</td>\n",
       "      <td>1995.0</td>\n",
       "      <td>Hume City Council</td>\n",
       "      <td>-37.63665</td>\n",
       "      <td>144.92976</td>\n",
       "      <td>Northern Metropolitan</td>\n",
       "      <td>5833.0</td>\n",
       "      <td>Underground</td>\n",
       "      <td>5.910000e+05</td>\n",
       "    </tr>\n",
       "    <tr>\n",
       "      <th>34854</th>\n",
       "      <td>Springvale South</td>\n",
       "      <td>8 Bellbird Ct</td>\n",
       "      <td>4</td>\n",
       "      <td>1</td>\n",
       "      <td>PI</td>\n",
       "      <td>Barry</td>\n",
       "      <td>30/09/2017</td>\n",
       "      <td>22.2</td>\n",
       "      <td>3172.0</td>\n",
       "      <td>4.0</td>\n",
       "      <td>...</td>\n",
       "      <td>534.000000</td>\n",
       "      <td>152.0</td>\n",
       "      <td>1970.0</td>\n",
       "      <td>Greater Dandenong City Council</td>\n",
       "      <td>-37.97037</td>\n",
       "      <td>145.15449</td>\n",
       "      <td>South-Eastern Metropolitan</td>\n",
       "      <td>4054.0</td>\n",
       "      <td>Carport</td>\n",
       "      <td>1.050173e+06</td>\n",
       "    </tr>\n",
       "    <tr>\n",
       "      <th>34855</th>\n",
       "      <td>Springvale South</td>\n",
       "      <td>30 Waddington Cr</td>\n",
       "      <td>3</td>\n",
       "      <td>1</td>\n",
       "      <td>S</td>\n",
       "      <td>Harcourts</td>\n",
       "      <td>30/09/2017</td>\n",
       "      <td>22.2</td>\n",
       "      <td>3172.0</td>\n",
       "      <td>3.0</td>\n",
       "      <td>...</td>\n",
       "      <td>544.000000</td>\n",
       "      <td>120.0</td>\n",
       "      <td>1970.0</td>\n",
       "      <td>Greater Dandenong City Council</td>\n",
       "      <td>-37.97751</td>\n",
       "      <td>145.14813</td>\n",
       "      <td>South-Eastern Metropolitan</td>\n",
       "      <td>4054.0</td>\n",
       "      <td>Detached Garage</td>\n",
       "      <td>7.805000e+05</td>\n",
       "    </tr>\n",
       "    <tr>\n",
       "      <th>34856</th>\n",
       "      <td>Westmeadows</td>\n",
       "      <td>42 Pascoe St</td>\n",
       "      <td>4</td>\n",
       "      <td>1</td>\n",
       "      <td>S</td>\n",
       "      <td>Barry</td>\n",
       "      <td>30/09/2017</td>\n",
       "      <td>16.5</td>\n",
       "      <td>3049.0</td>\n",
       "      <td>4.0</td>\n",
       "      <td>...</td>\n",
       "      <td>813.000000</td>\n",
       "      <td>140.0</td>\n",
       "      <td>1960.0</td>\n",
       "      <td>Hume City Council</td>\n",
       "      <td>-37.67631</td>\n",
       "      <td>144.89409</td>\n",
       "      <td>Northern Metropolitan</td>\n",
       "      <td>2474.0</td>\n",
       "      <td>Attached Garage</td>\n",
       "      <td>7.910000e+05</td>\n",
       "    </tr>\n",
       "  </tbody>\n",
       "</table>\n",
       "<p>34857 rows × 22 columns</p>\n",
       "</div>"
      ],
      "text/plain": [
       "                 Suburb           Address  Rooms  Type Method        SellerG  \\\n",
       "0            Abbotsford     68 Studley St      2     1     SS         Jellis   \n",
       "1          Airport West     154 Halsey Rd      3     3     PI         Nelson   \n",
       "2           Albert Park    105 Kerferd Rd      2     1      S  hockingstuart   \n",
       "3           Albert Park  85 Richardson St      2     1      S        Thomson   \n",
       "4            Alphington      30 Austin St      3     1     SN        McGrath   \n",
       "...                 ...               ...    ...   ...    ...            ...   \n",
       "34852         Reservoir      18 Elinda Pl      3     2     SP             RW   \n",
       "34853     Roxburgh Park    14 Stainsby Cr      4     1      S          Raine   \n",
       "34854  Springvale South     8 Bellbird Ct      4     1     PI          Barry   \n",
       "34855  Springvale South  30 Waddington Cr      3     1      S      Harcourts   \n",
       "34856       Westmeadows      42 Pascoe St      4     1      S          Barry   \n",
       "\n",
       "             Date  Distance  Postcode  Bedroom  ...    Landsize  BuildingArea  \\\n",
       "0        3/9/2016       2.5    3067.0      2.0  ...  126.000000         120.0   \n",
       "1        3/9/2016      13.5    3042.0      3.0  ...  303.000000         225.0   \n",
       "2        3/9/2016       3.3    3206.0      2.0  ...  120.000000          82.0   \n",
       "3        3/9/2016       3.3    3206.0      2.0  ...  159.000000         120.0   \n",
       "4        3/9/2016       6.4    3078.0      3.0  ...  174.000000         122.0   \n",
       "...           ...       ...       ...      ...  ...         ...           ...   \n",
       "34852  30/09/2017      12.0    3073.0      3.0  ...  593.598993         105.0   \n",
       "34853  30/09/2017      20.6    3064.0      4.0  ...  593.598993         225.0   \n",
       "34854  30/09/2017      22.2    3172.0      4.0  ...  534.000000         152.0   \n",
       "34855  30/09/2017      22.2    3172.0      3.0  ...  544.000000         120.0   \n",
       "34856  30/09/2017      16.5    3049.0      4.0  ...  813.000000         140.0   \n",
       "\n",
       "       YearBuilt                     CouncilArea  Latitude Longtitude  \\\n",
       "0         1970.0              Yarra City Council -37.80140  144.99580   \n",
       "1         2016.0      Moonee Valley City Council -37.71800  144.87800   \n",
       "2         1900.0       Port Phillip City Council -37.84590  144.95550   \n",
       "3         1970.0       Port Phillip City Council -37.84500  144.95380   \n",
       "4         2003.0            Darebin City Council -37.78180  145.01980   \n",
       "...          ...                             ...       ...        ...   \n",
       "34852     1990.0            Darebin City Council -37.69769  145.02332   \n",
       "34853     1995.0               Hume City Council -37.63665  144.92976   \n",
       "34854     1970.0  Greater Dandenong City Council -37.97037  145.15449   \n",
       "34855     1970.0  Greater Dandenong City Council -37.97751  145.14813   \n",
       "34856     1960.0               Hume City Council -37.67631  144.89409   \n",
       "\n",
       "                       Regionname  Propertycount      ParkingArea  \\\n",
       "0           Northern Metropolitan         4019.0          Carport   \n",
       "1            Western Metropolitan         3464.0  Detached Garage   \n",
       "2           Southern Metropolitan         3280.0  Attached Garage   \n",
       "3           Southern Metropolitan         3280.0           Indoor   \n",
       "4           Northern Metropolitan         2211.0          Parkade   \n",
       "...                           ...            ...              ...   \n",
       "34852       Northern Metropolitan        21650.0          Parkade   \n",
       "34853       Northern Metropolitan         5833.0      Underground   \n",
       "34854  South-Eastern Metropolitan         4054.0          Carport   \n",
       "34855  South-Eastern Metropolitan         4054.0  Detached Garage   \n",
       "34856       Northern Metropolitan         2474.0  Attached Garage   \n",
       "\n",
       "              Price  \n",
       "0      1.050173e+06  \n",
       "1      8.400000e+05  \n",
       "2      1.275000e+06  \n",
       "3      1.455000e+06  \n",
       "4      1.050173e+06  \n",
       "...             ...  \n",
       "34852  4.750000e+05  \n",
       "34853  5.910000e+05  \n",
       "34854  1.050173e+06  \n",
       "34855  7.805000e+05  \n",
       "34856  7.910000e+05  \n",
       "\n",
       "[34857 rows x 22 columns]"
      ]
     },
     "execution_count": 263,
     "metadata": {},
     "output_type": "execute_result"
    }
   ],
   "source": [
    "df"
   ]
  },
  {
   "cell_type": "code",
   "execution_count": 264,
   "id": "dca081cc",
   "metadata": {},
   "outputs": [],
   "source": [
    "from sklearn.preprocessing import MinMaxScaler, StandardScaler"
   ]
  },
  {
   "cell_type": "markdown",
   "id": "e827a69f",
   "metadata": {},
   "source": [
    "# Train Test Split"
   ]
  },
  {
   "cell_type": "code",
   "execution_count": 265,
   "id": "db8a815d",
   "metadata": {},
   "outputs": [],
   "source": [
    "x = df.drop(['Suburb','Address','Method','SellerG','Date','Type','CouncilArea','Latitude','Longtitude','Regionname','ParkingArea'], axis=1)\n",
    "y = df['Type']"
   ]
  },
  {
   "cell_type": "code",
   "execution_count": 266,
   "id": "bc65d41d",
   "metadata": {},
   "outputs": [],
   "source": [
    "x_train, x_test, y_train, y_test = train_test_split(x,y,test_size=0.2,random_state=45)"
   ]
  },
  {
   "cell_type": "code",
   "execution_count": 267,
   "id": "b60570ea",
   "metadata": {},
   "outputs": [
    {
     "data": {
      "text/plain": [
       "Rooms            0\n",
       "Distance         0\n",
       "Postcode         0\n",
       "Bedroom          0\n",
       "Bathroom         0\n",
       "Car              0\n",
       "Landsize         0\n",
       "BuildingArea     0\n",
       "YearBuilt        0\n",
       "Propertycount    0\n",
       "Price            0\n",
       "dtype: int64"
      ]
     },
     "execution_count": 267,
     "metadata": {},
     "output_type": "execute_result"
    }
   ],
   "source": [
    "x_train.isna().sum()"
   ]
  },
  {
   "cell_type": "code",
   "execution_count": 268,
   "id": "aa174615",
   "metadata": {},
   "outputs": [
    {
     "data": {
      "text/plain": [
       "Type\n",
       "1    19186\n",
       "2     5822\n",
       "3     2877\n",
       "Name: count, dtype: int64"
      ]
     },
     "execution_count": 268,
     "metadata": {},
     "output_type": "execute_result"
    }
   ],
   "source": [
    "y_train.value_counts()"
   ]
  },
  {
   "cell_type": "code",
   "execution_count": 269,
   "id": "69360f4f",
   "metadata": {},
   "outputs": [
    {
     "data": {
      "text/html": [
       "<div>\n",
       "<style scoped>\n",
       "    .dataframe tbody tr th:only-of-type {\n",
       "        vertical-align: middle;\n",
       "    }\n",
       "\n",
       "    .dataframe tbody tr th {\n",
       "        vertical-align: top;\n",
       "    }\n",
       "\n",
       "    .dataframe thead th {\n",
       "        text-align: right;\n",
       "    }\n",
       "</style>\n",
       "<table border=\"1\" class=\"dataframe\">\n",
       "  <thead>\n",
       "    <tr style=\"text-align: right;\">\n",
       "      <th></th>\n",
       "      <th>Rooms</th>\n",
       "      <th>Distance</th>\n",
       "      <th>Postcode</th>\n",
       "      <th>Bedroom</th>\n",
       "      <th>Bathroom</th>\n",
       "      <th>Car</th>\n",
       "      <th>Landsize</th>\n",
       "      <th>BuildingArea</th>\n",
       "      <th>YearBuilt</th>\n",
       "      <th>Propertycount</th>\n",
       "      <th>Price</th>\n",
       "    </tr>\n",
       "  </thead>\n",
       "  <tbody>\n",
       "    <tr>\n",
       "      <th>0</th>\n",
       "      <td>-1.062988</td>\n",
       "      <td>-1.279322</td>\n",
       "      <td>-0.450020</td>\n",
       "      <td>-1.240788</td>\n",
       "      <td>-0.69549</td>\n",
       "      <td>-0.902356</td>\n",
       "      <td>-1.691959e-01</td>\n",
       "      <td>-0.062790</td>\n",
       "      <td>0.083914</td>\n",
       "      <td>-0.802624</td>\n",
       "      <td>0.000000</td>\n",
       "    </tr>\n",
       "    <tr>\n",
       "      <th>1</th>\n",
       "      <td>-0.031974</td>\n",
       "      <td>0.341018</td>\n",
       "      <td>-0.679333</td>\n",
       "      <td>-0.075393</td>\n",
       "      <td>0.76149</td>\n",
       "      <td>-0.902356</td>\n",
       "      <td>-1.051503e-01</td>\n",
       "      <td>0.352710</td>\n",
       "      <td>1.920851</td>\n",
       "      <td>-0.927968</td>\n",
       "      <td>-0.370593</td>\n",
       "    </tr>\n",
       "    <tr>\n",
       "      <th>2</th>\n",
       "      <td>-1.062988</td>\n",
       "      <td>-1.161479</td>\n",
       "      <td>0.824964</td>\n",
       "      <td>-1.240788</td>\n",
       "      <td>-0.69549</td>\n",
       "      <td>-2.034916</td>\n",
       "      <td>-1.713669e-01</td>\n",
       "      <td>-0.213161</td>\n",
       "      <td>-2.711424</td>\n",
       "      <td>-0.969523</td>\n",
       "      <td>0.396430</td>\n",
       "    </tr>\n",
       "    <tr>\n",
       "      <th>3</th>\n",
       "      <td>-1.062988</td>\n",
       "      <td>-1.161479</td>\n",
       "      <td>0.824964</td>\n",
       "      <td>-1.240788</td>\n",
       "      <td>-0.69549</td>\n",
       "      <td>-2.034916</td>\n",
       "      <td>-1.572552e-01</td>\n",
       "      <td>-0.062790</td>\n",
       "      <td>0.083914</td>\n",
       "      <td>-0.969523</td>\n",
       "      <td>0.713819</td>\n",
       "    </tr>\n",
       "    <tr>\n",
       "      <th>4</th>\n",
       "      <td>-0.031974</td>\n",
       "      <td>-0.704838</td>\n",
       "      <td>-0.349122</td>\n",
       "      <td>-0.075393</td>\n",
       "      <td>0.76149</td>\n",
       "      <td>-0.902356</td>\n",
       "      <td>-1.518276e-01</td>\n",
       "      <td>-0.054876</td>\n",
       "      <td>1.401717</td>\n",
       "      <td>-1.210950</td>\n",
       "      <td>0.000000</td>\n",
       "    </tr>\n",
       "    <tr>\n",
       "      <th>...</th>\n",
       "      <td>...</td>\n",
       "      <td>...</td>\n",
       "      <td>...</td>\n",
       "      <td>...</td>\n",
       "      <td>...</td>\n",
       "      <td>...</td>\n",
       "      <td>...</td>\n",
       "      <td>...</td>\n",
       "      <td>...</td>\n",
       "      <td>...</td>\n",
       "      <td>...</td>\n",
       "    </tr>\n",
       "    <tr>\n",
       "      <th>34852</th>\n",
       "      <td>-0.031974</td>\n",
       "      <td>0.120063</td>\n",
       "      <td>-0.394985</td>\n",
       "      <td>-0.075393</td>\n",
       "      <td>-0.69549</td>\n",
       "      <td>-0.902356</td>\n",
       "      <td>4.113642e-17</td>\n",
       "      <td>-0.122147</td>\n",
       "      <td>0.882583</td>\n",
       "      <td>3.179230</td>\n",
       "      <td>-1.014187</td>\n",
       "    </tr>\n",
       "    <tr>\n",
       "      <th>34853</th>\n",
       "      <td>0.999040</td>\n",
       "      <td>1.386874</td>\n",
       "      <td>-0.477537</td>\n",
       "      <td>1.090003</td>\n",
       "      <td>0.76149</td>\n",
       "      <td>0.230203</td>\n",
       "      <td>4.113642e-17</td>\n",
       "      <td>0.352710</td>\n",
       "      <td>1.082250</td>\n",
       "      <td>-0.392943</td>\n",
       "      <td>-0.809647</td>\n",
       "    </tr>\n",
       "    <tr>\n",
       "      <th>34854</th>\n",
       "      <td>0.999040</td>\n",
       "      <td>1.622560</td>\n",
       "      <td>0.513097</td>\n",
       "      <td>1.090003</td>\n",
       "      <td>0.76149</td>\n",
       "      <td>0.230203</td>\n",
       "      <td>-2.156528e-02</td>\n",
       "      <td>0.063839</td>\n",
       "      <td>0.083914</td>\n",
       "      <td>-0.794720</td>\n",
       "      <td>0.000000</td>\n",
       "    </tr>\n",
       "    <tr>\n",
       "      <th>34855</th>\n",
       "      <td>-0.031974</td>\n",
       "      <td>1.622560</td>\n",
       "      <td>0.513097</td>\n",
       "      <td>-0.075393</td>\n",
       "      <td>0.76149</td>\n",
       "      <td>-0.902356</td>\n",
       "      <td>-1.794689e-02</td>\n",
       "      <td>-0.062790</td>\n",
       "      <td>0.083914</td>\n",
       "      <td>-0.794720</td>\n",
       "      <td>-0.475507</td>\n",
       "    </tr>\n",
       "    <tr>\n",
       "      <th>34856</th>\n",
       "      <td>0.999040</td>\n",
       "      <td>0.782929</td>\n",
       "      <td>-0.615126</td>\n",
       "      <td>1.090003</td>\n",
       "      <td>0.76149</td>\n",
       "      <td>4.760440</td>\n",
       "      <td>7.938800e-02</td>\n",
       "      <td>0.016353</td>\n",
       "      <td>-0.315420</td>\n",
       "      <td>-1.151553</td>\n",
       "      <td>-0.456993</td>\n",
       "    </tr>\n",
       "  </tbody>\n",
       "</table>\n",
       "<p>34857 rows × 11 columns</p>\n",
       "</div>"
      ],
      "text/plain": [
       "          Rooms  Distance  Postcode   Bedroom  Bathroom       Car  \\\n",
       "0     -1.062988 -1.279322 -0.450020 -1.240788  -0.69549 -0.902356   \n",
       "1     -0.031974  0.341018 -0.679333 -0.075393   0.76149 -0.902356   \n",
       "2     -1.062988 -1.161479  0.824964 -1.240788  -0.69549 -2.034916   \n",
       "3     -1.062988 -1.161479  0.824964 -1.240788  -0.69549 -2.034916   \n",
       "4     -0.031974 -0.704838 -0.349122 -0.075393   0.76149 -0.902356   \n",
       "...         ...       ...       ...       ...       ...       ...   \n",
       "34852 -0.031974  0.120063 -0.394985 -0.075393  -0.69549 -0.902356   \n",
       "34853  0.999040  1.386874 -0.477537  1.090003   0.76149  0.230203   \n",
       "34854  0.999040  1.622560  0.513097  1.090003   0.76149  0.230203   \n",
       "34855 -0.031974  1.622560  0.513097 -0.075393   0.76149 -0.902356   \n",
       "34856  0.999040  0.782929 -0.615126  1.090003   0.76149  4.760440   \n",
       "\n",
       "           Landsize  BuildingArea  YearBuilt  Propertycount     Price  \n",
       "0     -1.691959e-01     -0.062790   0.083914      -0.802624  0.000000  \n",
       "1     -1.051503e-01      0.352710   1.920851      -0.927968 -0.370593  \n",
       "2     -1.713669e-01     -0.213161  -2.711424      -0.969523  0.396430  \n",
       "3     -1.572552e-01     -0.062790   0.083914      -0.969523  0.713819  \n",
       "4     -1.518276e-01     -0.054876   1.401717      -1.210950  0.000000  \n",
       "...             ...           ...        ...            ...       ...  \n",
       "34852  4.113642e-17     -0.122147   0.882583       3.179230 -1.014187  \n",
       "34853  4.113642e-17      0.352710   1.082250      -0.392943 -0.809647  \n",
       "34854 -2.156528e-02      0.063839   0.083914      -0.794720  0.000000  \n",
       "34855 -1.794689e-02     -0.062790   0.083914      -0.794720 -0.475507  \n",
       "34856  7.938800e-02      0.016353  -0.315420      -1.151553 -0.456993  \n",
       "\n",
       "[34857 rows x 11 columns]"
      ]
     },
     "execution_count": 269,
     "metadata": {},
     "output_type": "execute_result"
    }
   ],
   "source": [
    "std = StandardScaler()\n",
    "std_array = std.fit_transform(x)\n",
    "df_std = pd.DataFrame(std_array, columns=x.columns)\n",
    "df_std"
   ]
  },
  {
   "cell_type": "markdown",
   "id": "108fff0a",
   "metadata": {},
   "source": [
    "# Train Logistic Regression "
   ]
  },
  {
   "cell_type": "code",
   "execution_count": 270,
   "id": "1a480c37",
   "metadata": {},
   "outputs": [
    {
     "data": {
      "text/html": [
       "<style>#sk-container-id-21 {color: black;}#sk-container-id-21 pre{padding: 0;}#sk-container-id-21 div.sk-toggleable {background-color: white;}#sk-container-id-21 label.sk-toggleable__label {cursor: pointer;display: block;width: 100%;margin-bottom: 0;padding: 0.3em;box-sizing: border-box;text-align: center;}#sk-container-id-21 label.sk-toggleable__label-arrow:before {content: \"▸\";float: left;margin-right: 0.25em;color: #696969;}#sk-container-id-21 label.sk-toggleable__label-arrow:hover:before {color: black;}#sk-container-id-21 div.sk-estimator:hover label.sk-toggleable__label-arrow:before {color: black;}#sk-container-id-21 div.sk-toggleable__content {max-height: 0;max-width: 0;overflow: hidden;text-align: left;background-color: #f0f8ff;}#sk-container-id-21 div.sk-toggleable__content pre {margin: 0.2em;color: black;border-radius: 0.25em;background-color: #f0f8ff;}#sk-container-id-21 input.sk-toggleable__control:checked~div.sk-toggleable__content {max-height: 200px;max-width: 100%;overflow: auto;}#sk-container-id-21 input.sk-toggleable__control:checked~label.sk-toggleable__label-arrow:before {content: \"▾\";}#sk-container-id-21 div.sk-estimator input.sk-toggleable__control:checked~label.sk-toggleable__label {background-color: #d4ebff;}#sk-container-id-21 div.sk-label input.sk-toggleable__control:checked~label.sk-toggleable__label {background-color: #d4ebff;}#sk-container-id-21 input.sk-hidden--visually {border: 0;clip: rect(1px 1px 1px 1px);clip: rect(1px, 1px, 1px, 1px);height: 1px;margin: -1px;overflow: hidden;padding: 0;position: absolute;width: 1px;}#sk-container-id-21 div.sk-estimator {font-family: monospace;background-color: #f0f8ff;border: 1px dotted black;border-radius: 0.25em;box-sizing: border-box;margin-bottom: 0.5em;}#sk-container-id-21 div.sk-estimator:hover {background-color: #d4ebff;}#sk-container-id-21 div.sk-parallel-item::after {content: \"\";width: 100%;border-bottom: 1px solid gray;flex-grow: 1;}#sk-container-id-21 div.sk-label:hover label.sk-toggleable__label {background-color: #d4ebff;}#sk-container-id-21 div.sk-serial::before {content: \"\";position: absolute;border-left: 1px solid gray;box-sizing: border-box;top: 0;bottom: 0;left: 50%;z-index: 0;}#sk-container-id-21 div.sk-serial {display: flex;flex-direction: column;align-items: center;background-color: white;padding-right: 0.2em;padding-left: 0.2em;position: relative;}#sk-container-id-21 div.sk-item {position: relative;z-index: 1;}#sk-container-id-21 div.sk-parallel {display: flex;align-items: stretch;justify-content: center;background-color: white;position: relative;}#sk-container-id-21 div.sk-item::before, #sk-container-id-21 div.sk-parallel-item::before {content: \"\";position: absolute;border-left: 1px solid gray;box-sizing: border-box;top: 0;bottom: 0;left: 50%;z-index: -1;}#sk-container-id-21 div.sk-parallel-item {display: flex;flex-direction: column;z-index: 1;position: relative;background-color: white;}#sk-container-id-21 div.sk-parallel-item:first-child::after {align-self: flex-end;width: 50%;}#sk-container-id-21 div.sk-parallel-item:last-child::after {align-self: flex-start;width: 50%;}#sk-container-id-21 div.sk-parallel-item:only-child::after {width: 0;}#sk-container-id-21 div.sk-dashed-wrapped {border: 1px dashed gray;margin: 0 0.4em 0.5em 0.4em;box-sizing: border-box;padding-bottom: 0.4em;background-color: white;}#sk-container-id-21 div.sk-label label {font-family: monospace;font-weight: bold;display: inline-block;line-height: 1.2em;}#sk-container-id-21 div.sk-label-container {text-align: center;}#sk-container-id-21 div.sk-container {/* jupyter's `normalize.less` sets `[hidden] { display: none; }` but bootstrap.min.css set `[hidden] { display: none !important; }` so we also need the `!important` here to be able to override the default hidden behavior on the sphinx rendered scikit-learn.org. See: https://github.com/scikit-learn/scikit-learn/issues/21755 */display: inline-block !important;position: relative;}#sk-container-id-21 div.sk-text-repr-fallback {display: none;}</style><div id=\"sk-container-id-21\" class=\"sk-top-container\"><div class=\"sk-text-repr-fallback\"><pre>LogisticRegression()</pre><b>In a Jupyter environment, please rerun this cell to show the HTML representation or trust the notebook. <br />On GitHub, the HTML representation is unable to render, please try loading this page with nbviewer.org.</b></div><div class=\"sk-container\" hidden><div class=\"sk-item\"><div class=\"sk-estimator sk-toggleable\"><input class=\"sk-toggleable__control sk-hidden--visually\" id=\"sk-estimator-id-33\" type=\"checkbox\" checked><label for=\"sk-estimator-id-33\" class=\"sk-toggleable__label sk-toggleable__label-arrow\">LogisticRegression</label><div class=\"sk-toggleable__content\"><pre>LogisticRegression()</pre></div></div></div></div></div>"
      ],
      "text/plain": [
       "LogisticRegression()"
      ]
     },
     "execution_count": 270,
     "metadata": {},
     "output_type": "execute_result"
    }
   ],
   "source": [
    "log = LogisticRegression()\n",
    "log.fit(x_train,y_train)"
   ]
  },
  {
   "cell_type": "markdown",
   "id": "171453a9",
   "metadata": {},
   "source": [
    "# Evaluation"
   ]
  },
  {
   "cell_type": "code",
   "execution_count": 271,
   "id": "8b5750c2",
   "metadata": {},
   "outputs": [
    {
     "name": "stdout",
     "output_type": "stream",
     "text": [
      "Confusion Matrix :\n",
      " [[4513  281    0]\n",
      " [ 943  532    0]\n",
      " [ 633   70    0]]\n",
      "Accuracy Score :\n",
      " 0.7236087205966724\n",
      "Classification Report :\n",
      "               precision    recall  f1-score   support\n",
      "\n",
      "           1       0.74      0.94      0.83      4794\n",
      "           2       0.60      0.36      0.45      1475\n",
      "           3       0.00      0.00      0.00       703\n",
      "\n",
      "    accuracy                           0.72      6972\n",
      "   macro avg       0.45      0.43      0.43      6972\n",
      "weighted avg       0.64      0.72      0.67      6972\n",
      "\n"
     ]
    }
   ],
   "source": [
    "#Testing data Analysis\n",
    "y_pred_test = log.predict(x_test)\n",
    "\n",
    "cnf_matrix = confusion_matrix(y_test,y_pred_test)\n",
    "print(\"Confusion Matrix :\\n\",cnf_matrix)\n",
    "\n",
    "acc_score_log = accuracy_score(y_test,y_pred_test)\n",
    "print(\"Accuracy Score :\\n\",acc_score_log)\n",
    "\n",
    "clf_report = classification_report(y_test,y_pred_test)\n",
    "print(\"Classification Report :\\n\",clf_report)"
   ]
  },
  {
   "cell_type": "code",
   "execution_count": 272,
   "id": "73e12e04",
   "metadata": {},
   "outputs": [
    {
     "name": "stdout",
     "output_type": "stream",
     "text": [
      "Confusion Matrix :\n",
      " [[18030  1156     0]\n",
      " [ 3752  2070     0]\n",
      " [ 2625   252     0]]\n",
      "Accuracy Score :\n",
      " 0.7208176438945669\n",
      "Classification Report :\n",
      "               precision    recall  f1-score   support\n",
      "\n",
      "           1       0.74      0.94      0.83     19186\n",
      "           2       0.60      0.36      0.45      5822\n",
      "           3       0.00      0.00      0.00      2877\n",
      "\n",
      "    accuracy                           0.72     27885\n",
      "   macro avg       0.44      0.43      0.42     27885\n",
      "weighted avg       0.63      0.72      0.66     27885\n",
      "\n"
     ]
    }
   ],
   "source": [
    "#Training data Analysis\n",
    "y_pred_log = log.predict(x_train)\n",
    "\n",
    "cnf_matrix = confusion_matrix(y_train,y_pred_log)\n",
    "print(\"Confusion Matrix :\\n\",cnf_matrix)\n",
    "\n",
    "acc_score_log = accuracy_score(y_train,y_pred_log)\n",
    "print(\"Accuracy Score :\\n\",acc_score_log)\n",
    "\n",
    "clf_report = classification_report(y_train,y_pred_log)\n",
    "print(\"Classification Report :\\n\",clf_report)"
   ]
  },
  {
   "cell_type": "markdown",
   "id": "3c2a64c9",
   "metadata": {},
   "source": [
    "# K- Nearest Neighbor"
   ]
  },
  {
   "cell_type": "code",
   "execution_count": 273,
   "id": "cc27ff2e",
   "metadata": {},
   "outputs": [],
   "source": [
    "from sklearn.neighbors import KNeighborsClassifier"
   ]
  },
  {
   "cell_type": "code",
   "execution_count": 274,
   "id": "35cca408",
   "metadata": {},
   "outputs": [
    {
     "data": {
      "text/html": [
       "<style>#sk-container-id-22 {color: black;}#sk-container-id-22 pre{padding: 0;}#sk-container-id-22 div.sk-toggleable {background-color: white;}#sk-container-id-22 label.sk-toggleable__label {cursor: pointer;display: block;width: 100%;margin-bottom: 0;padding: 0.3em;box-sizing: border-box;text-align: center;}#sk-container-id-22 label.sk-toggleable__label-arrow:before {content: \"▸\";float: left;margin-right: 0.25em;color: #696969;}#sk-container-id-22 label.sk-toggleable__label-arrow:hover:before {color: black;}#sk-container-id-22 div.sk-estimator:hover label.sk-toggleable__label-arrow:before {color: black;}#sk-container-id-22 div.sk-toggleable__content {max-height: 0;max-width: 0;overflow: hidden;text-align: left;background-color: #f0f8ff;}#sk-container-id-22 div.sk-toggleable__content pre {margin: 0.2em;color: black;border-radius: 0.25em;background-color: #f0f8ff;}#sk-container-id-22 input.sk-toggleable__control:checked~div.sk-toggleable__content {max-height: 200px;max-width: 100%;overflow: auto;}#sk-container-id-22 input.sk-toggleable__control:checked~label.sk-toggleable__label-arrow:before {content: \"▾\";}#sk-container-id-22 div.sk-estimator input.sk-toggleable__control:checked~label.sk-toggleable__label {background-color: #d4ebff;}#sk-container-id-22 div.sk-label input.sk-toggleable__control:checked~label.sk-toggleable__label {background-color: #d4ebff;}#sk-container-id-22 input.sk-hidden--visually {border: 0;clip: rect(1px 1px 1px 1px);clip: rect(1px, 1px, 1px, 1px);height: 1px;margin: -1px;overflow: hidden;padding: 0;position: absolute;width: 1px;}#sk-container-id-22 div.sk-estimator {font-family: monospace;background-color: #f0f8ff;border: 1px dotted black;border-radius: 0.25em;box-sizing: border-box;margin-bottom: 0.5em;}#sk-container-id-22 div.sk-estimator:hover {background-color: #d4ebff;}#sk-container-id-22 div.sk-parallel-item::after {content: \"\";width: 100%;border-bottom: 1px solid gray;flex-grow: 1;}#sk-container-id-22 div.sk-label:hover label.sk-toggleable__label {background-color: #d4ebff;}#sk-container-id-22 div.sk-serial::before {content: \"\";position: absolute;border-left: 1px solid gray;box-sizing: border-box;top: 0;bottom: 0;left: 50%;z-index: 0;}#sk-container-id-22 div.sk-serial {display: flex;flex-direction: column;align-items: center;background-color: white;padding-right: 0.2em;padding-left: 0.2em;position: relative;}#sk-container-id-22 div.sk-item {position: relative;z-index: 1;}#sk-container-id-22 div.sk-parallel {display: flex;align-items: stretch;justify-content: center;background-color: white;position: relative;}#sk-container-id-22 div.sk-item::before, #sk-container-id-22 div.sk-parallel-item::before {content: \"\";position: absolute;border-left: 1px solid gray;box-sizing: border-box;top: 0;bottom: 0;left: 50%;z-index: -1;}#sk-container-id-22 div.sk-parallel-item {display: flex;flex-direction: column;z-index: 1;position: relative;background-color: white;}#sk-container-id-22 div.sk-parallel-item:first-child::after {align-self: flex-end;width: 50%;}#sk-container-id-22 div.sk-parallel-item:last-child::after {align-self: flex-start;width: 50%;}#sk-container-id-22 div.sk-parallel-item:only-child::after {width: 0;}#sk-container-id-22 div.sk-dashed-wrapped {border: 1px dashed gray;margin: 0 0.4em 0.5em 0.4em;box-sizing: border-box;padding-bottom: 0.4em;background-color: white;}#sk-container-id-22 div.sk-label label {font-family: monospace;font-weight: bold;display: inline-block;line-height: 1.2em;}#sk-container-id-22 div.sk-label-container {text-align: center;}#sk-container-id-22 div.sk-container {/* jupyter's `normalize.less` sets `[hidden] { display: none; }` but bootstrap.min.css set `[hidden] { display: none !important; }` so we also need the `!important` here to be able to override the default hidden behavior on the sphinx rendered scikit-learn.org. See: https://github.com/scikit-learn/scikit-learn/issues/21755 */display: inline-block !important;position: relative;}#sk-container-id-22 div.sk-text-repr-fallback {display: none;}</style><div id=\"sk-container-id-22\" class=\"sk-top-container\"><div class=\"sk-text-repr-fallback\"><pre>KNeighborsClassifier()</pre><b>In a Jupyter environment, please rerun this cell to show the HTML representation or trust the notebook. <br />On GitHub, the HTML representation is unable to render, please try loading this page with nbviewer.org.</b></div><div class=\"sk-container\" hidden><div class=\"sk-item\"><div class=\"sk-estimator sk-toggleable\"><input class=\"sk-toggleable__control sk-hidden--visually\" id=\"sk-estimator-id-34\" type=\"checkbox\" checked><label for=\"sk-estimator-id-34\" class=\"sk-toggleable__label sk-toggleable__label-arrow\">KNeighborsClassifier</label><div class=\"sk-toggleable__content\"><pre>KNeighborsClassifier()</pre></div></div></div></div></div>"
      ],
      "text/plain": [
       "KNeighborsClassifier()"
      ]
     },
     "execution_count": 274,
     "metadata": {},
     "output_type": "execute_result"
    }
   ],
   "source": [
    "knn = KNeighborsClassifier()\n",
    "knn.fit(x_train,y_train)"
   ]
  },
  {
   "cell_type": "markdown",
   "id": "ec08c13f",
   "metadata": {},
   "source": [
    "# Evaluation"
   ]
  },
  {
   "cell_type": "code",
   "execution_count": 275,
   "id": "e04c8ad4",
   "metadata": {},
   "outputs": [
    {
     "name": "stdout",
     "output_type": "stream",
     "text": [
      "Confusion Matrix :\n",
      " [[4391  315   88]\n",
      " [ 719  723   33]\n",
      " [ 556  106   41]]\n",
      "Accuracy Score :\n",
      " 0.73938611589214\n",
      "Classification Report :\n",
      "               precision    recall  f1-score   support\n",
      "\n",
      "           1       0.77      0.92      0.84      4794\n",
      "           2       0.63      0.49      0.55      1475\n",
      "           3       0.25      0.06      0.09       703\n",
      "\n",
      "    accuracy                           0.74      6972\n",
      "   macro avg       0.55      0.49      0.50      6972\n",
      "weighted avg       0.69      0.74      0.70      6972\n",
      "\n"
     ]
    }
   ],
   "source": [
    "#Testing data Analysis\n",
    "y_pred = knn.predict(x_test)\n",
    "\n",
    "cnf_matrix = confusion_matrix(y_test,y_pred)\n",
    "print(\"Confusion Matrix :\\n\",cnf_matrix)\n",
    "\n",
    "acc_score_knn = accuracy_score(y_test,y_pred)\n",
    "print(\"Accuracy Score :\\n\",acc_score_knn)\n",
    "\n",
    "clf_report = classification_report(y_test,y_pred)\n",
    "print(\"Classification Report :\\n\",clf_report)"
   ]
  },
  {
   "cell_type": "code",
   "execution_count": 276,
   "id": "4a1b4409",
   "metadata": {},
   "outputs": [
    {
     "name": "stdout",
     "output_type": "stream",
     "text": [
      "Confusion Matrix :\n",
      " [[18199   801   186]\n",
      " [ 2211  3524    87]\n",
      " [ 1941   422   514]]\n",
      "Accuracy Score :\n",
      " 0.797453828223059\n",
      "Classification Report :\n",
      "               precision    recall  f1-score   support\n",
      "\n",
      "           1       0.81      0.95      0.88     19186\n",
      "           2       0.74      0.61      0.67      5822\n",
      "           3       0.65      0.18      0.28      2877\n",
      "\n",
      "    accuracy                           0.80     27885\n",
      "   macro avg       0.74      0.58      0.61     27885\n",
      "weighted avg       0.78      0.80      0.77     27885\n",
      "\n"
     ]
    }
   ],
   "source": [
    "#Training data analysis\n",
    "y_pred_knn = knn.predict(x_train)\n",
    "\n",
    "cnf_matrix = confusion_matrix(y_train,y_pred_knn)\n",
    "print(\"Confusion Matrix :\\n\",cnf_matrix)\n",
    "\n",
    "acc_score_knn = accuracy_score(y_train,y_pred_knn)\n",
    "print(\"Accuracy Score :\\n\",acc_score_knn)\n",
    "\n",
    "clf_report = classification_report(y_train,y_pred_knn)\n",
    "print(\"Classification Report :\\n\",clf_report)"
   ]
  },
  {
   "cell_type": "code",
   "execution_count": 277,
   "id": "8d55174f",
   "metadata": {},
   "outputs": [
    {
     "data": {
      "text/html": [
       "<style>#sk-container-id-23 {color: black;}#sk-container-id-23 pre{padding: 0;}#sk-container-id-23 div.sk-toggleable {background-color: white;}#sk-container-id-23 label.sk-toggleable__label {cursor: pointer;display: block;width: 100%;margin-bottom: 0;padding: 0.3em;box-sizing: border-box;text-align: center;}#sk-container-id-23 label.sk-toggleable__label-arrow:before {content: \"▸\";float: left;margin-right: 0.25em;color: #696969;}#sk-container-id-23 label.sk-toggleable__label-arrow:hover:before {color: black;}#sk-container-id-23 div.sk-estimator:hover label.sk-toggleable__label-arrow:before {color: black;}#sk-container-id-23 div.sk-toggleable__content {max-height: 0;max-width: 0;overflow: hidden;text-align: left;background-color: #f0f8ff;}#sk-container-id-23 div.sk-toggleable__content pre {margin: 0.2em;color: black;border-radius: 0.25em;background-color: #f0f8ff;}#sk-container-id-23 input.sk-toggleable__control:checked~div.sk-toggleable__content {max-height: 200px;max-width: 100%;overflow: auto;}#sk-container-id-23 input.sk-toggleable__control:checked~label.sk-toggleable__label-arrow:before {content: \"▾\";}#sk-container-id-23 div.sk-estimator input.sk-toggleable__control:checked~label.sk-toggleable__label {background-color: #d4ebff;}#sk-container-id-23 div.sk-label input.sk-toggleable__control:checked~label.sk-toggleable__label {background-color: #d4ebff;}#sk-container-id-23 input.sk-hidden--visually {border: 0;clip: rect(1px 1px 1px 1px);clip: rect(1px, 1px, 1px, 1px);height: 1px;margin: -1px;overflow: hidden;padding: 0;position: absolute;width: 1px;}#sk-container-id-23 div.sk-estimator {font-family: monospace;background-color: #f0f8ff;border: 1px dotted black;border-radius: 0.25em;box-sizing: border-box;margin-bottom: 0.5em;}#sk-container-id-23 div.sk-estimator:hover {background-color: #d4ebff;}#sk-container-id-23 div.sk-parallel-item::after {content: \"\";width: 100%;border-bottom: 1px solid gray;flex-grow: 1;}#sk-container-id-23 div.sk-label:hover label.sk-toggleable__label {background-color: #d4ebff;}#sk-container-id-23 div.sk-serial::before {content: \"\";position: absolute;border-left: 1px solid gray;box-sizing: border-box;top: 0;bottom: 0;left: 50%;z-index: 0;}#sk-container-id-23 div.sk-serial {display: flex;flex-direction: column;align-items: center;background-color: white;padding-right: 0.2em;padding-left: 0.2em;position: relative;}#sk-container-id-23 div.sk-item {position: relative;z-index: 1;}#sk-container-id-23 div.sk-parallel {display: flex;align-items: stretch;justify-content: center;background-color: white;position: relative;}#sk-container-id-23 div.sk-item::before, #sk-container-id-23 div.sk-parallel-item::before {content: \"\";position: absolute;border-left: 1px solid gray;box-sizing: border-box;top: 0;bottom: 0;left: 50%;z-index: -1;}#sk-container-id-23 div.sk-parallel-item {display: flex;flex-direction: column;z-index: 1;position: relative;background-color: white;}#sk-container-id-23 div.sk-parallel-item:first-child::after {align-self: flex-end;width: 50%;}#sk-container-id-23 div.sk-parallel-item:last-child::after {align-self: flex-start;width: 50%;}#sk-container-id-23 div.sk-parallel-item:only-child::after {width: 0;}#sk-container-id-23 div.sk-dashed-wrapped {border: 1px dashed gray;margin: 0 0.4em 0.5em 0.4em;box-sizing: border-box;padding-bottom: 0.4em;background-color: white;}#sk-container-id-23 div.sk-label label {font-family: monospace;font-weight: bold;display: inline-block;line-height: 1.2em;}#sk-container-id-23 div.sk-label-container {text-align: center;}#sk-container-id-23 div.sk-container {/* jupyter's `normalize.less` sets `[hidden] { display: none; }` but bootstrap.min.css set `[hidden] { display: none !important; }` so we also need the `!important` here to be able to override the default hidden behavior on the sphinx rendered scikit-learn.org. See: https://github.com/scikit-learn/scikit-learn/issues/21755 */display: inline-block !important;position: relative;}#sk-container-id-23 div.sk-text-repr-fallback {display: none;}</style><div id=\"sk-container-id-23\" class=\"sk-top-container\"><div class=\"sk-text-repr-fallback\"><pre>StandardScaler()</pre><b>In a Jupyter environment, please rerun this cell to show the HTML representation or trust the notebook. <br />On GitHub, the HTML representation is unable to render, please try loading this page with nbviewer.org.</b></div><div class=\"sk-container\" hidden><div class=\"sk-item\"><div class=\"sk-estimator sk-toggleable\"><input class=\"sk-toggleable__control sk-hidden--visually\" id=\"sk-estimator-id-35\" type=\"checkbox\" checked><label for=\"sk-estimator-id-35\" class=\"sk-toggleable__label sk-toggleable__label-arrow\">StandardScaler</label><div class=\"sk-toggleable__content\"><pre>StandardScaler()</pre></div></div></div></div></div>"
      ],
      "text/plain": [
       "StandardScaler()"
      ]
     },
     "execution_count": 277,
     "metadata": {},
     "output_type": "execute_result"
    }
   ],
   "source": [
    "std_scaler = StandardScaler()\n",
    "std_scaler.fit(x_train)"
   ]
  },
  {
   "cell_type": "code",
   "execution_count": 278,
   "id": "4ef39dd8",
   "metadata": {},
   "outputs": [
    {
     "data": {
      "text/plain": [
       "array([[-2.09936490e+00, -1.23273646e+00, -1.06492326e+00, ...,\n",
       "         8.74089032e-02,  2.23974833e+00, -1.14862204e+00],\n",
       "       [ 2.03984109e+00,  8.99635062e-01,  7.11329543e-01, ...,\n",
       "         4.84689720e-01, -4.98616284e-01, -6.64865580e-04],\n",
       "       [ 1.00503959e+00, -8.20968163e-01, -1.35381640e-01, ...,\n",
       "        -1.58117053e+00,  6.22239470e-01,  2.69733113e+00],\n",
       "       ...,\n",
       "       [-2.09936490e+00, -7.03320079e-01,  6.19295719e-01, ...,\n",
       "         8.74089032e-02, -1.04358019e+00, -1.22922061e+00],\n",
       "       [-2.97619079e-02,  1.34922518e-01, -6.41567673e-01, ...,\n",
       "        -7.07152730e-01, -1.12169018e+00, -4.21482833e-01],\n",
       "       [-2.97619079e-02, -5.56259974e-01,  2.60363804e-01, ...,\n",
       "         8.74089032e-02, -6.54610509e-01, -6.64865580e-04]])"
      ]
     },
     "execution_count": 278,
     "metadata": {},
     "output_type": "execute_result"
    }
   ],
   "source": [
    "std_scaler.fit_transform(x_train)"
   ]
  },
  {
   "cell_type": "code",
   "execution_count": 279,
   "id": "20eab7a6",
   "metadata": {},
   "outputs": [
    {
     "data": {
      "text/plain": [
       "array([[-2.97619079e-02, -7.76850131e-01, -7.70415027e-01, ...,\n",
       "        -2.69355681e+00, -2.27488840e-01,  1.39202823e-01],\n",
       "       [-1.06456341e+00, -4.82729922e-01, -3.37856053e-01, ...,\n",
       "        -1.11231505e-01, -4.57303776e-01, -5.45884963e-01],\n",
       "       [ 1.00503959e+00,  8.84929051e-01,  1.59126598e-01, ...,\n",
       "         8.74089032e-02, -7.43782316e-01,  7.87495613e-01],\n",
       "       ...,\n",
       "       [-2.97619079e-02, -4.09199870e-01,  2.69567187e-01, ...,\n",
       "        -2.69355681e+00,  2.76839812e-01, -6.64865580e-04],\n",
       "       [-1.06456341e+00, -8.65086194e-01,  5.78893910e-02, ...,\n",
       "         8.74089032e-02,  8.42798598e-01, -7.28107801e-01],\n",
       "       [-2.97619079e-02, -2.91551786e-01,  2.78770569e-01, ...,\n",
       "         8.74089032e-02,  6.40525334e-01,  1.81249908e+00]])"
      ]
     },
     "execution_count": 279,
     "metadata": {},
     "output_type": "execute_result"
    }
   ],
   "source": [
    "std_scaler.transform(x_test)"
   ]
  },
  {
   "cell_type": "markdown",
   "id": "3a4eb3e2",
   "metadata": {},
   "source": [
    "# Decision Tree Classifier"
   ]
  },
  {
   "cell_type": "code",
   "execution_count": 280,
   "id": "8b505b3d",
   "metadata": {},
   "outputs": [
    {
     "data": {
      "text/html": [
       "<style>#sk-container-id-24 {color: black;}#sk-container-id-24 pre{padding: 0;}#sk-container-id-24 div.sk-toggleable {background-color: white;}#sk-container-id-24 label.sk-toggleable__label {cursor: pointer;display: block;width: 100%;margin-bottom: 0;padding: 0.3em;box-sizing: border-box;text-align: center;}#sk-container-id-24 label.sk-toggleable__label-arrow:before {content: \"▸\";float: left;margin-right: 0.25em;color: #696969;}#sk-container-id-24 label.sk-toggleable__label-arrow:hover:before {color: black;}#sk-container-id-24 div.sk-estimator:hover label.sk-toggleable__label-arrow:before {color: black;}#sk-container-id-24 div.sk-toggleable__content {max-height: 0;max-width: 0;overflow: hidden;text-align: left;background-color: #f0f8ff;}#sk-container-id-24 div.sk-toggleable__content pre {margin: 0.2em;color: black;border-radius: 0.25em;background-color: #f0f8ff;}#sk-container-id-24 input.sk-toggleable__control:checked~div.sk-toggleable__content {max-height: 200px;max-width: 100%;overflow: auto;}#sk-container-id-24 input.sk-toggleable__control:checked~label.sk-toggleable__label-arrow:before {content: \"▾\";}#sk-container-id-24 div.sk-estimator input.sk-toggleable__control:checked~label.sk-toggleable__label {background-color: #d4ebff;}#sk-container-id-24 div.sk-label input.sk-toggleable__control:checked~label.sk-toggleable__label {background-color: #d4ebff;}#sk-container-id-24 input.sk-hidden--visually {border: 0;clip: rect(1px 1px 1px 1px);clip: rect(1px, 1px, 1px, 1px);height: 1px;margin: -1px;overflow: hidden;padding: 0;position: absolute;width: 1px;}#sk-container-id-24 div.sk-estimator {font-family: monospace;background-color: #f0f8ff;border: 1px dotted black;border-radius: 0.25em;box-sizing: border-box;margin-bottom: 0.5em;}#sk-container-id-24 div.sk-estimator:hover {background-color: #d4ebff;}#sk-container-id-24 div.sk-parallel-item::after {content: \"\";width: 100%;border-bottom: 1px solid gray;flex-grow: 1;}#sk-container-id-24 div.sk-label:hover label.sk-toggleable__label {background-color: #d4ebff;}#sk-container-id-24 div.sk-serial::before {content: \"\";position: absolute;border-left: 1px solid gray;box-sizing: border-box;top: 0;bottom: 0;left: 50%;z-index: 0;}#sk-container-id-24 div.sk-serial {display: flex;flex-direction: column;align-items: center;background-color: white;padding-right: 0.2em;padding-left: 0.2em;position: relative;}#sk-container-id-24 div.sk-item {position: relative;z-index: 1;}#sk-container-id-24 div.sk-parallel {display: flex;align-items: stretch;justify-content: center;background-color: white;position: relative;}#sk-container-id-24 div.sk-item::before, #sk-container-id-24 div.sk-parallel-item::before {content: \"\";position: absolute;border-left: 1px solid gray;box-sizing: border-box;top: 0;bottom: 0;left: 50%;z-index: -1;}#sk-container-id-24 div.sk-parallel-item {display: flex;flex-direction: column;z-index: 1;position: relative;background-color: white;}#sk-container-id-24 div.sk-parallel-item:first-child::after {align-self: flex-end;width: 50%;}#sk-container-id-24 div.sk-parallel-item:last-child::after {align-self: flex-start;width: 50%;}#sk-container-id-24 div.sk-parallel-item:only-child::after {width: 0;}#sk-container-id-24 div.sk-dashed-wrapped {border: 1px dashed gray;margin: 0 0.4em 0.5em 0.4em;box-sizing: border-box;padding-bottom: 0.4em;background-color: white;}#sk-container-id-24 div.sk-label label {font-family: monospace;font-weight: bold;display: inline-block;line-height: 1.2em;}#sk-container-id-24 div.sk-label-container {text-align: center;}#sk-container-id-24 div.sk-container {/* jupyter's `normalize.less` sets `[hidden] { display: none; }` but bootstrap.min.css set `[hidden] { display: none !important; }` so we also need the `!important` here to be able to override the default hidden behavior on the sphinx rendered scikit-learn.org. See: https://github.com/scikit-learn/scikit-learn/issues/21755 */display: inline-block !important;position: relative;}#sk-container-id-24 div.sk-text-repr-fallback {display: none;}</style><div id=\"sk-container-id-24\" class=\"sk-top-container\"><div class=\"sk-text-repr-fallback\"><pre>DecisionTreeClassifier()</pre><b>In a Jupyter environment, please rerun this cell to show the HTML representation or trust the notebook. <br />On GitHub, the HTML representation is unable to render, please try loading this page with nbviewer.org.</b></div><div class=\"sk-container\" hidden><div class=\"sk-item\"><div class=\"sk-estimator sk-toggleable\"><input class=\"sk-toggleable__control sk-hidden--visually\" id=\"sk-estimator-id-36\" type=\"checkbox\" checked><label for=\"sk-estimator-id-36\" class=\"sk-toggleable__label sk-toggleable__label-arrow\">DecisionTreeClassifier</label><div class=\"sk-toggleable__content\"><pre>DecisionTreeClassifier()</pre></div></div></div></div></div>"
      ],
      "text/plain": [
       "DecisionTreeClassifier()"
      ]
     },
     "execution_count": 280,
     "metadata": {},
     "output_type": "execute_result"
    }
   ],
   "source": [
    "dt = DecisionTreeClassifier()\n",
    "dt.fit(x_train,y_train)"
   ]
  },
  {
   "cell_type": "markdown",
   "id": "4c7322ed",
   "metadata": {},
   "source": [
    "# Evaluation"
   ]
  },
  {
   "cell_type": "code",
   "execution_count": 281,
   "id": "f73b5403",
   "metadata": {},
   "outputs": [
    {
     "name": "stdout",
     "output_type": "stream",
     "text": [
      "Confusion Matrix :\n",
      " [[4243  213  338]\n",
      " [ 228 1092  155]\n",
      " [ 286  140  277]]\n",
      "Accuracy Score :\n",
      " 0.8049340218014917\n",
      "Classification Report :\n",
      "               precision    recall  f1-score   support\n",
      "\n",
      "           1       0.89      0.89      0.89      4794\n",
      "           2       0.76      0.74      0.75      1475\n",
      "           3       0.36      0.39      0.38       703\n",
      "\n",
      "    accuracy                           0.80      6972\n",
      "   macro avg       0.67      0.67      0.67      6972\n",
      "weighted avg       0.81      0.80      0.81      6972\n",
      "\n"
     ]
    }
   ],
   "source": [
    "#Testing data Analysis\n",
    "y_pred = dt.predict(x_test)\n",
    "\n",
    "cnf_matrix = confusion_matrix(y_test,y_pred)\n",
    "print(\"Confusion Matrix :\\n\",cnf_matrix)\n",
    "\n",
    "acc_score_dt = accuracy_score(y_test,y_pred)\n",
    "print(\"Accuracy Score :\\n\",acc_score_dt)\n",
    "\n",
    "clf_report = classification_report(y_test,y_pred)\n",
    "print(\"Classification Report :\\n\",clf_report)"
   ]
  },
  {
   "cell_type": "code",
   "execution_count": 282,
   "id": "bfc8f27a",
   "metadata": {},
   "outputs": [
    {
     "name": "stdout",
     "output_type": "stream",
     "text": [
      "Confusion Matrix :\n",
      " [[19132    24    30]\n",
      " [   81  5730    11]\n",
      " [  111    54  2712]]\n",
      "Accuracy Score :\n",
      " 0.9888470503855119\n",
      "Classification Report :\n",
      "               precision    recall  f1-score   support\n",
      "\n",
      "           1       0.99      1.00      0.99     19186\n",
      "           2       0.99      0.98      0.99      5822\n",
      "           3       0.99      0.94      0.96      2877\n",
      "\n",
      "    accuracy                           0.99     27885\n",
      "   macro avg       0.99      0.97      0.98     27885\n",
      "weighted avg       0.99      0.99      0.99     27885\n",
      "\n"
     ]
    }
   ],
   "source": [
    "#Training data analysis\n",
    "y_pred_dt = dt.predict(x_train)\n",
    "\n",
    "cnf_matrix = confusion_matrix(y_train,y_pred_dt)\n",
    "print(\"Confusion Matrix :\\n\",cnf_matrix)\n",
    "\n",
    "acc_score_dt = accuracy_score(y_train,y_pred_dt)\n",
    "print(\"Accuracy Score :\\n\",acc_score_dt)\n",
    "\n",
    "clf_report = classification_report(y_train,y_pred_dt)\n",
    "print(\"Classification Report :\\n\",clf_report)"
   ]
  },
  {
   "cell_type": "markdown",
   "id": "a5acbba2",
   "metadata": {},
   "source": [
    "# Hyper-parameter Tunning"
   ]
  },
  {
   "cell_type": "code",
   "execution_count": 283,
   "id": "9e4975c9",
   "metadata": {},
   "outputs": [
    {
     "data": {
      "text/html": [
       "<style>#sk-container-id-25 {color: black;}#sk-container-id-25 pre{padding: 0;}#sk-container-id-25 div.sk-toggleable {background-color: white;}#sk-container-id-25 label.sk-toggleable__label {cursor: pointer;display: block;width: 100%;margin-bottom: 0;padding: 0.3em;box-sizing: border-box;text-align: center;}#sk-container-id-25 label.sk-toggleable__label-arrow:before {content: \"▸\";float: left;margin-right: 0.25em;color: #696969;}#sk-container-id-25 label.sk-toggleable__label-arrow:hover:before {color: black;}#sk-container-id-25 div.sk-estimator:hover label.sk-toggleable__label-arrow:before {color: black;}#sk-container-id-25 div.sk-toggleable__content {max-height: 0;max-width: 0;overflow: hidden;text-align: left;background-color: #f0f8ff;}#sk-container-id-25 div.sk-toggleable__content pre {margin: 0.2em;color: black;border-radius: 0.25em;background-color: #f0f8ff;}#sk-container-id-25 input.sk-toggleable__control:checked~div.sk-toggleable__content {max-height: 200px;max-width: 100%;overflow: auto;}#sk-container-id-25 input.sk-toggleable__control:checked~label.sk-toggleable__label-arrow:before {content: \"▾\";}#sk-container-id-25 div.sk-estimator input.sk-toggleable__control:checked~label.sk-toggleable__label {background-color: #d4ebff;}#sk-container-id-25 div.sk-label input.sk-toggleable__control:checked~label.sk-toggleable__label {background-color: #d4ebff;}#sk-container-id-25 input.sk-hidden--visually {border: 0;clip: rect(1px 1px 1px 1px);clip: rect(1px, 1px, 1px, 1px);height: 1px;margin: -1px;overflow: hidden;padding: 0;position: absolute;width: 1px;}#sk-container-id-25 div.sk-estimator {font-family: monospace;background-color: #f0f8ff;border: 1px dotted black;border-radius: 0.25em;box-sizing: border-box;margin-bottom: 0.5em;}#sk-container-id-25 div.sk-estimator:hover {background-color: #d4ebff;}#sk-container-id-25 div.sk-parallel-item::after {content: \"\";width: 100%;border-bottom: 1px solid gray;flex-grow: 1;}#sk-container-id-25 div.sk-label:hover label.sk-toggleable__label {background-color: #d4ebff;}#sk-container-id-25 div.sk-serial::before {content: \"\";position: absolute;border-left: 1px solid gray;box-sizing: border-box;top: 0;bottom: 0;left: 50%;z-index: 0;}#sk-container-id-25 div.sk-serial {display: flex;flex-direction: column;align-items: center;background-color: white;padding-right: 0.2em;padding-left: 0.2em;position: relative;}#sk-container-id-25 div.sk-item {position: relative;z-index: 1;}#sk-container-id-25 div.sk-parallel {display: flex;align-items: stretch;justify-content: center;background-color: white;position: relative;}#sk-container-id-25 div.sk-item::before, #sk-container-id-25 div.sk-parallel-item::before {content: \"\";position: absolute;border-left: 1px solid gray;box-sizing: border-box;top: 0;bottom: 0;left: 50%;z-index: -1;}#sk-container-id-25 div.sk-parallel-item {display: flex;flex-direction: column;z-index: 1;position: relative;background-color: white;}#sk-container-id-25 div.sk-parallel-item:first-child::after {align-self: flex-end;width: 50%;}#sk-container-id-25 div.sk-parallel-item:last-child::after {align-self: flex-start;width: 50%;}#sk-container-id-25 div.sk-parallel-item:only-child::after {width: 0;}#sk-container-id-25 div.sk-dashed-wrapped {border: 1px dashed gray;margin: 0 0.4em 0.5em 0.4em;box-sizing: border-box;padding-bottom: 0.4em;background-color: white;}#sk-container-id-25 div.sk-label label {font-family: monospace;font-weight: bold;display: inline-block;line-height: 1.2em;}#sk-container-id-25 div.sk-label-container {text-align: center;}#sk-container-id-25 div.sk-container {/* jupyter's `normalize.less` sets `[hidden] { display: none; }` but bootstrap.min.css set `[hidden] { display: none !important; }` so we also need the `!important` here to be able to override the default hidden behavior on the sphinx rendered scikit-learn.org. See: https://github.com/scikit-learn/scikit-learn/issues/21755 */display: inline-block !important;position: relative;}#sk-container-id-25 div.sk-text-repr-fallback {display: none;}</style><div id=\"sk-container-id-25\" class=\"sk-top-container\"><div class=\"sk-text-repr-fallback\"><pre>RandomizedSearchCV(cv=4, estimator=DecisionTreeClassifier(),\n",
       "                   param_distributions={&#x27;criterion&#x27;: [&#x27;gini&#x27;, &#x27;entropy&#x27;],\n",
       "                                        &#x27;max_depth&#x27;: array([2, 3, 4, 5, 6, 7, 8, 9]),\n",
       "                                        &#x27;min_samples_leaf&#x27;: array([2, 3, 4, 5, 6, 7, 8, 9]),\n",
       "                                        &#x27;min_samples_split&#x27;: array([2, 3, 4, 5, 6, 7, 8, 9])},\n",
       "                   random_state=10)</pre><b>In a Jupyter environment, please rerun this cell to show the HTML representation or trust the notebook. <br />On GitHub, the HTML representation is unable to render, please try loading this page with nbviewer.org.</b></div><div class=\"sk-container\" hidden><div class=\"sk-item sk-dashed-wrapped\"><div class=\"sk-label-container\"><div class=\"sk-label sk-toggleable\"><input class=\"sk-toggleable__control sk-hidden--visually\" id=\"sk-estimator-id-37\" type=\"checkbox\" ><label for=\"sk-estimator-id-37\" class=\"sk-toggleable__label sk-toggleable__label-arrow\">RandomizedSearchCV</label><div class=\"sk-toggleable__content\"><pre>RandomizedSearchCV(cv=4, estimator=DecisionTreeClassifier(),\n",
       "                   param_distributions={&#x27;criterion&#x27;: [&#x27;gini&#x27;, &#x27;entropy&#x27;],\n",
       "                                        &#x27;max_depth&#x27;: array([2, 3, 4, 5, 6, 7, 8, 9]),\n",
       "                                        &#x27;min_samples_leaf&#x27;: array([2, 3, 4, 5, 6, 7, 8, 9]),\n",
       "                                        &#x27;min_samples_split&#x27;: array([2, 3, 4, 5, 6, 7, 8, 9])},\n",
       "                   random_state=10)</pre></div></div></div><div class=\"sk-parallel\"><div class=\"sk-parallel-item\"><div class=\"sk-item\"><div class=\"sk-label-container\"><div class=\"sk-label sk-toggleable\"><input class=\"sk-toggleable__control sk-hidden--visually\" id=\"sk-estimator-id-38\" type=\"checkbox\" ><label for=\"sk-estimator-id-38\" class=\"sk-toggleable__label sk-toggleable__label-arrow\">estimator: DecisionTreeClassifier</label><div class=\"sk-toggleable__content\"><pre>DecisionTreeClassifier()</pre></div></div></div><div class=\"sk-serial\"><div class=\"sk-item\"><div class=\"sk-estimator sk-toggleable\"><input class=\"sk-toggleable__control sk-hidden--visually\" id=\"sk-estimator-id-39\" type=\"checkbox\" ><label for=\"sk-estimator-id-39\" class=\"sk-toggleable__label sk-toggleable__label-arrow\">DecisionTreeClassifier</label><div class=\"sk-toggleable__content\"><pre>DecisionTreeClassifier()</pre></div></div></div></div></div></div></div></div></div></div>"
      ],
      "text/plain": [
       "RandomizedSearchCV(cv=4, estimator=DecisionTreeClassifier(),\n",
       "                   param_distributions={'criterion': ['gini', 'entropy'],\n",
       "                                        'max_depth': array([2, 3, 4, 5, 6, 7, 8, 9]),\n",
       "                                        'min_samples_leaf': array([2, 3, 4, 5, 6, 7, 8, 9]),\n",
       "                                        'min_samples_split': array([2, 3, 4, 5, 6, 7, 8, 9])},\n",
       "                   random_state=10)"
      ]
     },
     "execution_count": 283,
     "metadata": {},
     "output_type": "execute_result"
    }
   ],
   "source": [
    "dt = DecisionTreeClassifier()\n",
    "hype = { 'criterion' : ['gini','entropy'],\n",
    "\n",
    "        'max_depth' : np.arange(2,10),\n",
    "        'min_samples_split' : np.arange(2,10),\n",
    "        'min_samples_leaf' : np.arange(2,10),   \n",
    "    }\n",
    "rscv_model = RandomizedSearchCV(dt,hype,random_state=10,cv=4)\n",
    "rscv_model.fit(x_train,y_train)"
   ]
  },
  {
   "cell_type": "code",
   "execution_count": 284,
   "id": "e9044e7c",
   "metadata": {},
   "outputs": [
    {
     "data": {
      "text/html": [
       "<style>#sk-container-id-26 {color: black;}#sk-container-id-26 pre{padding: 0;}#sk-container-id-26 div.sk-toggleable {background-color: white;}#sk-container-id-26 label.sk-toggleable__label {cursor: pointer;display: block;width: 100%;margin-bottom: 0;padding: 0.3em;box-sizing: border-box;text-align: center;}#sk-container-id-26 label.sk-toggleable__label-arrow:before {content: \"▸\";float: left;margin-right: 0.25em;color: #696969;}#sk-container-id-26 label.sk-toggleable__label-arrow:hover:before {color: black;}#sk-container-id-26 div.sk-estimator:hover label.sk-toggleable__label-arrow:before {color: black;}#sk-container-id-26 div.sk-toggleable__content {max-height: 0;max-width: 0;overflow: hidden;text-align: left;background-color: #f0f8ff;}#sk-container-id-26 div.sk-toggleable__content pre {margin: 0.2em;color: black;border-radius: 0.25em;background-color: #f0f8ff;}#sk-container-id-26 input.sk-toggleable__control:checked~div.sk-toggleable__content {max-height: 200px;max-width: 100%;overflow: auto;}#sk-container-id-26 input.sk-toggleable__control:checked~label.sk-toggleable__label-arrow:before {content: \"▾\";}#sk-container-id-26 div.sk-estimator input.sk-toggleable__control:checked~label.sk-toggleable__label {background-color: #d4ebff;}#sk-container-id-26 div.sk-label input.sk-toggleable__control:checked~label.sk-toggleable__label {background-color: #d4ebff;}#sk-container-id-26 input.sk-hidden--visually {border: 0;clip: rect(1px 1px 1px 1px);clip: rect(1px, 1px, 1px, 1px);height: 1px;margin: -1px;overflow: hidden;padding: 0;position: absolute;width: 1px;}#sk-container-id-26 div.sk-estimator {font-family: monospace;background-color: #f0f8ff;border: 1px dotted black;border-radius: 0.25em;box-sizing: border-box;margin-bottom: 0.5em;}#sk-container-id-26 div.sk-estimator:hover {background-color: #d4ebff;}#sk-container-id-26 div.sk-parallel-item::after {content: \"\";width: 100%;border-bottom: 1px solid gray;flex-grow: 1;}#sk-container-id-26 div.sk-label:hover label.sk-toggleable__label {background-color: #d4ebff;}#sk-container-id-26 div.sk-serial::before {content: \"\";position: absolute;border-left: 1px solid gray;box-sizing: border-box;top: 0;bottom: 0;left: 50%;z-index: 0;}#sk-container-id-26 div.sk-serial {display: flex;flex-direction: column;align-items: center;background-color: white;padding-right: 0.2em;padding-left: 0.2em;position: relative;}#sk-container-id-26 div.sk-item {position: relative;z-index: 1;}#sk-container-id-26 div.sk-parallel {display: flex;align-items: stretch;justify-content: center;background-color: white;position: relative;}#sk-container-id-26 div.sk-item::before, #sk-container-id-26 div.sk-parallel-item::before {content: \"\";position: absolute;border-left: 1px solid gray;box-sizing: border-box;top: 0;bottom: 0;left: 50%;z-index: -1;}#sk-container-id-26 div.sk-parallel-item {display: flex;flex-direction: column;z-index: 1;position: relative;background-color: white;}#sk-container-id-26 div.sk-parallel-item:first-child::after {align-self: flex-end;width: 50%;}#sk-container-id-26 div.sk-parallel-item:last-child::after {align-self: flex-start;width: 50%;}#sk-container-id-26 div.sk-parallel-item:only-child::after {width: 0;}#sk-container-id-26 div.sk-dashed-wrapped {border: 1px dashed gray;margin: 0 0.4em 0.5em 0.4em;box-sizing: border-box;padding-bottom: 0.4em;background-color: white;}#sk-container-id-26 div.sk-label label {font-family: monospace;font-weight: bold;display: inline-block;line-height: 1.2em;}#sk-container-id-26 div.sk-label-container {text-align: center;}#sk-container-id-26 div.sk-container {/* jupyter's `normalize.less` sets `[hidden] { display: none; }` but bootstrap.min.css set `[hidden] { display: none !important; }` so we also need the `!important` here to be able to override the default hidden behavior on the sphinx rendered scikit-learn.org. See: https://github.com/scikit-learn/scikit-learn/issues/21755 */display: inline-block !important;position: relative;}#sk-container-id-26 div.sk-text-repr-fallback {display: none;}</style><div id=\"sk-container-id-26\" class=\"sk-top-container\"><div class=\"sk-text-repr-fallback\"><pre>DecisionTreeClassifier(criterion=&#x27;entropy&#x27;, max_depth=9, min_samples_leaf=5,\n",
       "                       min_samples_split=3)</pre><b>In a Jupyter environment, please rerun this cell to show the HTML representation or trust the notebook. <br />On GitHub, the HTML representation is unable to render, please try loading this page with nbviewer.org.</b></div><div class=\"sk-container\" hidden><div class=\"sk-item\"><div class=\"sk-estimator sk-toggleable\"><input class=\"sk-toggleable__control sk-hidden--visually\" id=\"sk-estimator-id-40\" type=\"checkbox\" checked><label for=\"sk-estimator-id-40\" class=\"sk-toggleable__label sk-toggleable__label-arrow\">DecisionTreeClassifier</label><div class=\"sk-toggleable__content\"><pre>DecisionTreeClassifier(criterion=&#x27;entropy&#x27;, max_depth=9, min_samples_leaf=5,\n",
       "                       min_samples_split=3)</pre></div></div></div></div></div>"
      ],
      "text/plain": [
       "DecisionTreeClassifier(criterion='entropy', max_depth=9, min_samples_leaf=5,\n",
       "                       min_samples_split=3)"
      ]
     },
     "execution_count": 284,
     "metadata": {},
     "output_type": "execute_result"
    }
   ],
   "source": [
    "rscv_model.best_estimator_"
   ]
  },
  {
   "cell_type": "code",
   "execution_count": 285,
   "id": "5e42a836",
   "metadata": {},
   "outputs": [
    {
     "name": "stdout",
     "output_type": "stream",
     "text": [
      "New Accuracy Score for DT :\n",
      " 0.8313253012048193\n"
     ]
    }
   ],
   "source": [
    "y_pred_new = rscv_model.predict(x_test)\n",
    "\n",
    "new_acc_score_dt = accuracy_score(y_test,y_pred_new)\n",
    "print(\"New Accuracy Score for DT :\\n\",new_acc_score_dt)"
   ]
  },
  {
   "cell_type": "markdown",
   "id": "44b58f60",
   "metadata": {},
   "source": [
    "# Random Forest Classifier"
   ]
  },
  {
   "cell_type": "code",
   "execution_count": 286,
   "id": "7534d998",
   "metadata": {},
   "outputs": [
    {
     "data": {
      "text/html": [
       "<style>#sk-container-id-27 {color: black;}#sk-container-id-27 pre{padding: 0;}#sk-container-id-27 div.sk-toggleable {background-color: white;}#sk-container-id-27 label.sk-toggleable__label {cursor: pointer;display: block;width: 100%;margin-bottom: 0;padding: 0.3em;box-sizing: border-box;text-align: center;}#sk-container-id-27 label.sk-toggleable__label-arrow:before {content: \"▸\";float: left;margin-right: 0.25em;color: #696969;}#sk-container-id-27 label.sk-toggleable__label-arrow:hover:before {color: black;}#sk-container-id-27 div.sk-estimator:hover label.sk-toggleable__label-arrow:before {color: black;}#sk-container-id-27 div.sk-toggleable__content {max-height: 0;max-width: 0;overflow: hidden;text-align: left;background-color: #f0f8ff;}#sk-container-id-27 div.sk-toggleable__content pre {margin: 0.2em;color: black;border-radius: 0.25em;background-color: #f0f8ff;}#sk-container-id-27 input.sk-toggleable__control:checked~div.sk-toggleable__content {max-height: 200px;max-width: 100%;overflow: auto;}#sk-container-id-27 input.sk-toggleable__control:checked~label.sk-toggleable__label-arrow:before {content: \"▾\";}#sk-container-id-27 div.sk-estimator input.sk-toggleable__control:checked~label.sk-toggleable__label {background-color: #d4ebff;}#sk-container-id-27 div.sk-label input.sk-toggleable__control:checked~label.sk-toggleable__label {background-color: #d4ebff;}#sk-container-id-27 input.sk-hidden--visually {border: 0;clip: rect(1px 1px 1px 1px);clip: rect(1px, 1px, 1px, 1px);height: 1px;margin: -1px;overflow: hidden;padding: 0;position: absolute;width: 1px;}#sk-container-id-27 div.sk-estimator {font-family: monospace;background-color: #f0f8ff;border: 1px dotted black;border-radius: 0.25em;box-sizing: border-box;margin-bottom: 0.5em;}#sk-container-id-27 div.sk-estimator:hover {background-color: #d4ebff;}#sk-container-id-27 div.sk-parallel-item::after {content: \"\";width: 100%;border-bottom: 1px solid gray;flex-grow: 1;}#sk-container-id-27 div.sk-label:hover label.sk-toggleable__label {background-color: #d4ebff;}#sk-container-id-27 div.sk-serial::before {content: \"\";position: absolute;border-left: 1px solid gray;box-sizing: border-box;top: 0;bottom: 0;left: 50%;z-index: 0;}#sk-container-id-27 div.sk-serial {display: flex;flex-direction: column;align-items: center;background-color: white;padding-right: 0.2em;padding-left: 0.2em;position: relative;}#sk-container-id-27 div.sk-item {position: relative;z-index: 1;}#sk-container-id-27 div.sk-parallel {display: flex;align-items: stretch;justify-content: center;background-color: white;position: relative;}#sk-container-id-27 div.sk-item::before, #sk-container-id-27 div.sk-parallel-item::before {content: \"\";position: absolute;border-left: 1px solid gray;box-sizing: border-box;top: 0;bottom: 0;left: 50%;z-index: -1;}#sk-container-id-27 div.sk-parallel-item {display: flex;flex-direction: column;z-index: 1;position: relative;background-color: white;}#sk-container-id-27 div.sk-parallel-item:first-child::after {align-self: flex-end;width: 50%;}#sk-container-id-27 div.sk-parallel-item:last-child::after {align-self: flex-start;width: 50%;}#sk-container-id-27 div.sk-parallel-item:only-child::after {width: 0;}#sk-container-id-27 div.sk-dashed-wrapped {border: 1px dashed gray;margin: 0 0.4em 0.5em 0.4em;box-sizing: border-box;padding-bottom: 0.4em;background-color: white;}#sk-container-id-27 div.sk-label label {font-family: monospace;font-weight: bold;display: inline-block;line-height: 1.2em;}#sk-container-id-27 div.sk-label-container {text-align: center;}#sk-container-id-27 div.sk-container {/* jupyter's `normalize.less` sets `[hidden] { display: none; }` but bootstrap.min.css set `[hidden] { display: none !important; }` so we also need the `!important` here to be able to override the default hidden behavior on the sphinx rendered scikit-learn.org. See: https://github.com/scikit-learn/scikit-learn/issues/21755 */display: inline-block !important;position: relative;}#sk-container-id-27 div.sk-text-repr-fallback {display: none;}</style><div id=\"sk-container-id-27\" class=\"sk-top-container\"><div class=\"sk-text-repr-fallback\"><pre>RandomForestClassifier()</pre><b>In a Jupyter environment, please rerun this cell to show the HTML representation or trust the notebook. <br />On GitHub, the HTML representation is unable to render, please try loading this page with nbviewer.org.</b></div><div class=\"sk-container\" hidden><div class=\"sk-item\"><div class=\"sk-estimator sk-toggleable\"><input class=\"sk-toggleable__control sk-hidden--visually\" id=\"sk-estimator-id-41\" type=\"checkbox\" checked><label for=\"sk-estimator-id-41\" class=\"sk-toggleable__label sk-toggleable__label-arrow\">RandomForestClassifier</label><div class=\"sk-toggleable__content\"><pre>RandomForestClassifier()</pre></div></div></div></div></div>"
      ],
      "text/plain": [
       "RandomForestClassifier()"
      ]
     },
     "execution_count": 286,
     "metadata": {},
     "output_type": "execute_result"
    }
   ],
   "source": [
    "rf = RandomForestClassifier()\n",
    "rf.fit(x_train,y_train)"
   ]
  },
  {
   "cell_type": "markdown",
   "id": "e0248b96",
   "metadata": {},
   "source": [
    "# Evaluation"
   ]
  },
  {
   "cell_type": "code",
   "execution_count": 287,
   "id": "5e9ef665",
   "metadata": {},
   "outputs": [
    {
     "name": "stdout",
     "output_type": "stream",
     "text": [
      "Confusion Matrix :\n",
      " [[4495  134  165]\n",
      " [ 189 1193   93]\n",
      " [ 282  157  264]]\n",
      "Accuracy Score :\n",
      " 0.8537005163511188\n",
      "Classification Report :\n",
      "               precision    recall  f1-score   support\n",
      "\n",
      "           1       0.91      0.94      0.92      4794\n",
      "           2       0.80      0.81      0.81      1475\n",
      "           3       0.51      0.38      0.43       703\n",
      "\n",
      "    accuracy                           0.85      6972\n",
      "   macro avg       0.74      0.71      0.72      6972\n",
      "weighted avg       0.84      0.85      0.85      6972\n",
      "\n"
     ]
    }
   ],
   "source": [
    "#Testing data analysis\n",
    "y_pred_rf = rf.predict(x_test)\n",
    "\n",
    "cnf_matrix = confusion_matrix(y_test,y_pred_rf)\n",
    "print(\"Confusion Matrix :\\n\",cnf_matrix)\n",
    "\n",
    "acc_score_rf = accuracy_score(y_test,y_pred_rf)\n",
    "print(\"Accuracy Score :\\n\",acc_score_rf)\n",
    "\n",
    "clf_report = classification_report(y_test,y_pred_rf)\n",
    "print(\"Classification Report :\\n\",clf_report)"
   ]
  },
  {
   "cell_type": "code",
   "execution_count": 288,
   "id": "0e40eb0e",
   "metadata": {},
   "outputs": [
    {
     "name": "stdout",
     "output_type": "stream",
     "text": [
      "Confusion Matrix :\n",
      " [[19086    50    50]\n",
      " [   50  5741    31]\n",
      " [   85    45  2747]]\n",
      "Accuracy score :\n",
      " 0.9888470503855119\n",
      "Classification Report :\n",
      "               precision    recall  f1-score   support\n",
      "\n",
      "           1       0.99      0.99      0.99     19186\n",
      "           2       0.98      0.99      0.98      5822\n",
      "           3       0.97      0.95      0.96      2877\n",
      "\n",
      "    accuracy                           0.99     27885\n",
      "   macro avg       0.98      0.98      0.98     27885\n",
      "weighted avg       0.99      0.99      0.99     27885\n",
      "\n"
     ]
    }
   ],
   "source": [
    "#Training data analysis\n",
    "y_pred = rf.predict(x_train)\n",
    "\n",
    "cnf_matrix = confusion_matrix(y_train,y_pred)\n",
    "print(\"Confusion Matrix :\\n\",cnf_matrix)\n",
    "\n",
    "acc_score_rf = accuracy_score(y_train,y_pred)\n",
    "print(\"Accuracy score :\\n\",acc_score_rf)\n",
    "\n",
    "clf_report = classification_report(y_train,y_pred)\n",
    "print(\"Classification Report :\\n\",clf_report)"
   ]
  },
  {
   "cell_type": "markdown",
   "id": "2202701d",
   "metadata": {},
   "source": [
    "# Hyper-parameter Tunning "
   ]
  },
  {
   "cell_type": "code",
   "execution_count": 289,
   "id": "3e1006bc",
   "metadata": {},
   "outputs": [
    {
     "data": {
      "text/html": [
       "<style>#sk-container-id-28 {color: black;}#sk-container-id-28 pre{padding: 0;}#sk-container-id-28 div.sk-toggleable {background-color: white;}#sk-container-id-28 label.sk-toggleable__label {cursor: pointer;display: block;width: 100%;margin-bottom: 0;padding: 0.3em;box-sizing: border-box;text-align: center;}#sk-container-id-28 label.sk-toggleable__label-arrow:before {content: \"▸\";float: left;margin-right: 0.25em;color: #696969;}#sk-container-id-28 label.sk-toggleable__label-arrow:hover:before {color: black;}#sk-container-id-28 div.sk-estimator:hover label.sk-toggleable__label-arrow:before {color: black;}#sk-container-id-28 div.sk-toggleable__content {max-height: 0;max-width: 0;overflow: hidden;text-align: left;background-color: #f0f8ff;}#sk-container-id-28 div.sk-toggleable__content pre {margin: 0.2em;color: black;border-radius: 0.25em;background-color: #f0f8ff;}#sk-container-id-28 input.sk-toggleable__control:checked~div.sk-toggleable__content {max-height: 200px;max-width: 100%;overflow: auto;}#sk-container-id-28 input.sk-toggleable__control:checked~label.sk-toggleable__label-arrow:before {content: \"▾\";}#sk-container-id-28 div.sk-estimator input.sk-toggleable__control:checked~label.sk-toggleable__label {background-color: #d4ebff;}#sk-container-id-28 div.sk-label input.sk-toggleable__control:checked~label.sk-toggleable__label {background-color: #d4ebff;}#sk-container-id-28 input.sk-hidden--visually {border: 0;clip: rect(1px 1px 1px 1px);clip: rect(1px, 1px, 1px, 1px);height: 1px;margin: -1px;overflow: hidden;padding: 0;position: absolute;width: 1px;}#sk-container-id-28 div.sk-estimator {font-family: monospace;background-color: #f0f8ff;border: 1px dotted black;border-radius: 0.25em;box-sizing: border-box;margin-bottom: 0.5em;}#sk-container-id-28 div.sk-estimator:hover {background-color: #d4ebff;}#sk-container-id-28 div.sk-parallel-item::after {content: \"\";width: 100%;border-bottom: 1px solid gray;flex-grow: 1;}#sk-container-id-28 div.sk-label:hover label.sk-toggleable__label {background-color: #d4ebff;}#sk-container-id-28 div.sk-serial::before {content: \"\";position: absolute;border-left: 1px solid gray;box-sizing: border-box;top: 0;bottom: 0;left: 50%;z-index: 0;}#sk-container-id-28 div.sk-serial {display: flex;flex-direction: column;align-items: center;background-color: white;padding-right: 0.2em;padding-left: 0.2em;position: relative;}#sk-container-id-28 div.sk-item {position: relative;z-index: 1;}#sk-container-id-28 div.sk-parallel {display: flex;align-items: stretch;justify-content: center;background-color: white;position: relative;}#sk-container-id-28 div.sk-item::before, #sk-container-id-28 div.sk-parallel-item::before {content: \"\";position: absolute;border-left: 1px solid gray;box-sizing: border-box;top: 0;bottom: 0;left: 50%;z-index: -1;}#sk-container-id-28 div.sk-parallel-item {display: flex;flex-direction: column;z-index: 1;position: relative;background-color: white;}#sk-container-id-28 div.sk-parallel-item:first-child::after {align-self: flex-end;width: 50%;}#sk-container-id-28 div.sk-parallel-item:last-child::after {align-self: flex-start;width: 50%;}#sk-container-id-28 div.sk-parallel-item:only-child::after {width: 0;}#sk-container-id-28 div.sk-dashed-wrapped {border: 1px dashed gray;margin: 0 0.4em 0.5em 0.4em;box-sizing: border-box;padding-bottom: 0.4em;background-color: white;}#sk-container-id-28 div.sk-label label {font-family: monospace;font-weight: bold;display: inline-block;line-height: 1.2em;}#sk-container-id-28 div.sk-label-container {text-align: center;}#sk-container-id-28 div.sk-container {/* jupyter's `normalize.less` sets `[hidden] { display: none; }` but bootstrap.min.css set `[hidden] { display: none !important; }` so we also need the `!important` here to be able to override the default hidden behavior on the sphinx rendered scikit-learn.org. See: https://github.com/scikit-learn/scikit-learn/issues/21755 */display: inline-block !important;position: relative;}#sk-container-id-28 div.sk-text-repr-fallback {display: none;}</style><div id=\"sk-container-id-28\" class=\"sk-top-container\"><div class=\"sk-text-repr-fallback\"><pre>RandomizedSearchCV(cv=5, estimator=RandomForestClassifier(),\n",
       "                   param_distributions={&#x27;criterion&#x27;: [&#x27;gini&#x27;, &#x27;entropy&#x27;],\n",
       "                                        &#x27;max_depth&#x27;: array([2, 3, 4, 5, 6, 7, 8, 9]),\n",
       "                                        &#x27;min_samples_leaf&#x27;: array([2, 3, 4, 5, 6, 7, 8, 9]),\n",
       "                                        &#x27;min_samples_split&#x27;: array([2, 3, 4, 5, 6, 7, 8, 9]),\n",
       "                                        &#x27;n_estimators&#x27;: array([60, 61, 62, 63, 64, 65, 66, 67, 68, 69, 70, 71, 72, 73, 74, 75, 76,\n",
       "       77, 78, 79, 80, 81, 82, 83, 84, 85, 86, 87, 88, 89, 90, 91, 92, 93,\n",
       "       94, 95, 96, 97, 98, 99])},\n",
       "                   random_state=10)</pre><b>In a Jupyter environment, please rerun this cell to show the HTML representation or trust the notebook. <br />On GitHub, the HTML representation is unable to render, please try loading this page with nbviewer.org.</b></div><div class=\"sk-container\" hidden><div class=\"sk-item sk-dashed-wrapped\"><div class=\"sk-label-container\"><div class=\"sk-label sk-toggleable\"><input class=\"sk-toggleable__control sk-hidden--visually\" id=\"sk-estimator-id-42\" type=\"checkbox\" ><label for=\"sk-estimator-id-42\" class=\"sk-toggleable__label sk-toggleable__label-arrow\">RandomizedSearchCV</label><div class=\"sk-toggleable__content\"><pre>RandomizedSearchCV(cv=5, estimator=RandomForestClassifier(),\n",
       "                   param_distributions={&#x27;criterion&#x27;: [&#x27;gini&#x27;, &#x27;entropy&#x27;],\n",
       "                                        &#x27;max_depth&#x27;: array([2, 3, 4, 5, 6, 7, 8, 9]),\n",
       "                                        &#x27;min_samples_leaf&#x27;: array([2, 3, 4, 5, 6, 7, 8, 9]),\n",
       "                                        &#x27;min_samples_split&#x27;: array([2, 3, 4, 5, 6, 7, 8, 9]),\n",
       "                                        &#x27;n_estimators&#x27;: array([60, 61, 62, 63, 64, 65, 66, 67, 68, 69, 70, 71, 72, 73, 74, 75, 76,\n",
       "       77, 78, 79, 80, 81, 82, 83, 84, 85, 86, 87, 88, 89, 90, 91, 92, 93,\n",
       "       94, 95, 96, 97, 98, 99])},\n",
       "                   random_state=10)</pre></div></div></div><div class=\"sk-parallel\"><div class=\"sk-parallel-item\"><div class=\"sk-item\"><div class=\"sk-label-container\"><div class=\"sk-label sk-toggleable\"><input class=\"sk-toggleable__control sk-hidden--visually\" id=\"sk-estimator-id-43\" type=\"checkbox\" ><label for=\"sk-estimator-id-43\" class=\"sk-toggleable__label sk-toggleable__label-arrow\">estimator: RandomForestClassifier</label><div class=\"sk-toggleable__content\"><pre>RandomForestClassifier()</pre></div></div></div><div class=\"sk-serial\"><div class=\"sk-item\"><div class=\"sk-estimator sk-toggleable\"><input class=\"sk-toggleable__control sk-hidden--visually\" id=\"sk-estimator-id-44\" type=\"checkbox\" ><label for=\"sk-estimator-id-44\" class=\"sk-toggleable__label sk-toggleable__label-arrow\">RandomForestClassifier</label><div class=\"sk-toggleable__content\"><pre>RandomForestClassifier()</pre></div></div></div></div></div></div></div></div></div></div>"
      ],
      "text/plain": [
       "RandomizedSearchCV(cv=5, estimator=RandomForestClassifier(),\n",
       "                   param_distributions={'criterion': ['gini', 'entropy'],\n",
       "                                        'max_depth': array([2, 3, 4, 5, 6, 7, 8, 9]),\n",
       "                                        'min_samples_leaf': array([2, 3, 4, 5, 6, 7, 8, 9]),\n",
       "                                        'min_samples_split': array([2, 3, 4, 5, 6, 7, 8, 9]),\n",
       "                                        'n_estimators': array([60, 61, 62, 63, 64, 65, 66, 67, 68, 69, 70, 71, 72, 73, 74, 75, 76,\n",
       "       77, 78, 79, 80, 81, 82, 83, 84, 85, 86, 87, 88, 89, 90, 91, 92, 93,\n",
       "       94, 95, 96, 97, 98, 99])},\n",
       "                   random_state=10)"
      ]
     },
     "execution_count": 289,
     "metadata": {},
     "output_type": "execute_result"
    }
   ],
   "source": [
    "rf = RandomForestClassifier()\n",
    "hype = { 'criterion' : ['gini','entropy'],\n",
    "        'max_depth' : np.arange(2,10),\n",
    "       'min_samples_split' : np.arange(2,10),\n",
    "       'min_samples_leaf' : np.arange(2,10),\n",
    "       'n_estimators' : np.arange(60,100)\n",
    "       \n",
    "       }\n",
    "rscv = RandomizedSearchCV(rf,hype,random_state=10,cv=5)\n",
    "rscv.fit(x_train,y_train)"
   ]
  },
  {
   "cell_type": "code",
   "execution_count": 290,
   "id": "7d9d4660",
   "metadata": {},
   "outputs": [
    {
     "data": {
      "text/html": [
       "<style>#sk-container-id-29 {color: black;}#sk-container-id-29 pre{padding: 0;}#sk-container-id-29 div.sk-toggleable {background-color: white;}#sk-container-id-29 label.sk-toggleable__label {cursor: pointer;display: block;width: 100%;margin-bottom: 0;padding: 0.3em;box-sizing: border-box;text-align: center;}#sk-container-id-29 label.sk-toggleable__label-arrow:before {content: \"▸\";float: left;margin-right: 0.25em;color: #696969;}#sk-container-id-29 label.sk-toggleable__label-arrow:hover:before {color: black;}#sk-container-id-29 div.sk-estimator:hover label.sk-toggleable__label-arrow:before {color: black;}#sk-container-id-29 div.sk-toggleable__content {max-height: 0;max-width: 0;overflow: hidden;text-align: left;background-color: #f0f8ff;}#sk-container-id-29 div.sk-toggleable__content pre {margin: 0.2em;color: black;border-radius: 0.25em;background-color: #f0f8ff;}#sk-container-id-29 input.sk-toggleable__control:checked~div.sk-toggleable__content {max-height: 200px;max-width: 100%;overflow: auto;}#sk-container-id-29 input.sk-toggleable__control:checked~label.sk-toggleable__label-arrow:before {content: \"▾\";}#sk-container-id-29 div.sk-estimator input.sk-toggleable__control:checked~label.sk-toggleable__label {background-color: #d4ebff;}#sk-container-id-29 div.sk-label input.sk-toggleable__control:checked~label.sk-toggleable__label {background-color: #d4ebff;}#sk-container-id-29 input.sk-hidden--visually {border: 0;clip: rect(1px 1px 1px 1px);clip: rect(1px, 1px, 1px, 1px);height: 1px;margin: -1px;overflow: hidden;padding: 0;position: absolute;width: 1px;}#sk-container-id-29 div.sk-estimator {font-family: monospace;background-color: #f0f8ff;border: 1px dotted black;border-radius: 0.25em;box-sizing: border-box;margin-bottom: 0.5em;}#sk-container-id-29 div.sk-estimator:hover {background-color: #d4ebff;}#sk-container-id-29 div.sk-parallel-item::after {content: \"\";width: 100%;border-bottom: 1px solid gray;flex-grow: 1;}#sk-container-id-29 div.sk-label:hover label.sk-toggleable__label {background-color: #d4ebff;}#sk-container-id-29 div.sk-serial::before {content: \"\";position: absolute;border-left: 1px solid gray;box-sizing: border-box;top: 0;bottom: 0;left: 50%;z-index: 0;}#sk-container-id-29 div.sk-serial {display: flex;flex-direction: column;align-items: center;background-color: white;padding-right: 0.2em;padding-left: 0.2em;position: relative;}#sk-container-id-29 div.sk-item {position: relative;z-index: 1;}#sk-container-id-29 div.sk-parallel {display: flex;align-items: stretch;justify-content: center;background-color: white;position: relative;}#sk-container-id-29 div.sk-item::before, #sk-container-id-29 div.sk-parallel-item::before {content: \"\";position: absolute;border-left: 1px solid gray;box-sizing: border-box;top: 0;bottom: 0;left: 50%;z-index: -1;}#sk-container-id-29 div.sk-parallel-item {display: flex;flex-direction: column;z-index: 1;position: relative;background-color: white;}#sk-container-id-29 div.sk-parallel-item:first-child::after {align-self: flex-end;width: 50%;}#sk-container-id-29 div.sk-parallel-item:last-child::after {align-self: flex-start;width: 50%;}#sk-container-id-29 div.sk-parallel-item:only-child::after {width: 0;}#sk-container-id-29 div.sk-dashed-wrapped {border: 1px dashed gray;margin: 0 0.4em 0.5em 0.4em;box-sizing: border-box;padding-bottom: 0.4em;background-color: white;}#sk-container-id-29 div.sk-label label {font-family: monospace;font-weight: bold;display: inline-block;line-height: 1.2em;}#sk-container-id-29 div.sk-label-container {text-align: center;}#sk-container-id-29 div.sk-container {/* jupyter's `normalize.less` sets `[hidden] { display: none; }` but bootstrap.min.css set `[hidden] { display: none !important; }` so we also need the `!important` here to be able to override the default hidden behavior on the sphinx rendered scikit-learn.org. See: https://github.com/scikit-learn/scikit-learn/issues/21755 */display: inline-block !important;position: relative;}#sk-container-id-29 div.sk-text-repr-fallback {display: none;}</style><div id=\"sk-container-id-29\" class=\"sk-top-container\"><div class=\"sk-text-repr-fallback\"><pre>RandomForestClassifier(criterion=&#x27;entropy&#x27;, max_depth=9, min_samples_leaf=7,\n",
       "                       min_samples_split=3, n_estimators=81)</pre><b>In a Jupyter environment, please rerun this cell to show the HTML representation or trust the notebook. <br />On GitHub, the HTML representation is unable to render, please try loading this page with nbviewer.org.</b></div><div class=\"sk-container\" hidden><div class=\"sk-item\"><div class=\"sk-estimator sk-toggleable\"><input class=\"sk-toggleable__control sk-hidden--visually\" id=\"sk-estimator-id-45\" type=\"checkbox\" checked><label for=\"sk-estimator-id-45\" class=\"sk-toggleable__label sk-toggleable__label-arrow\">RandomForestClassifier</label><div class=\"sk-toggleable__content\"><pre>RandomForestClassifier(criterion=&#x27;entropy&#x27;, max_depth=9, min_samples_leaf=7,\n",
       "                       min_samples_split=3, n_estimators=81)</pre></div></div></div></div></div>"
      ],
      "text/plain": [
       "RandomForestClassifier(criterion='entropy', max_depth=9, min_samples_leaf=7,\n",
       "                       min_samples_split=3, n_estimators=81)"
      ]
     },
     "execution_count": 290,
     "metadata": {},
     "output_type": "execute_result"
    }
   ],
   "source": [
    "rscv.best_estimator_"
   ]
  },
  {
   "cell_type": "code",
   "execution_count": 291,
   "id": "91f46cb5",
   "metadata": {},
   "outputs": [
    {
     "name": "stdout",
     "output_type": "stream",
     "text": [
      "New Accuracy Score for RF :\n",
      " 0.8387837062535858\n"
     ]
    }
   ],
   "source": [
    "y_pred_RF = rscv.predict(x_test)\n",
    "\n",
    "new_acc_score_RF = accuracy_score(y_test,y_pred_RF)\n",
    "print(\"New Accuracy Score for RF :\\n\",new_acc_score_RF)"
   ]
  },
  {
   "cell_type": "markdown",
   "id": "fe786da6",
   "metadata": {},
   "source": [
    "# By appling the classification model i.e. Logistic Regression, K-Nearest Neighbors, Decision Tree and Random Forest on the given dataset , we conclude that Radom Forest has the higest accuracy score of 83% among all the applied algorithm"
   ]
  }
 ],
 "metadata": {
  "kernelspec": {
   "display_name": "Python 3 (ipykernel)",
   "language": "python",
   "name": "python3"
  },
  "language_info": {
   "codemirror_mode": {
    "name": "ipython",
    "version": 3
   },
   "file_extension": ".py",
   "mimetype": "text/x-python",
   "name": "python",
   "nbconvert_exporter": "python",
   "pygments_lexer": "ipython3",
   "version": "3.11.5"
  }
 },
 "nbformat": 4,
 "nbformat_minor": 5
}
